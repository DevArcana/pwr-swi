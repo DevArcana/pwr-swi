{
 "cells": [
  {
   "cell_type": "markdown",
   "source": [
    "# Engine\n",
    "\n",
    "This document describes the performance evaluation for [Typesense](https://typesense.org/).\n",
    "\n",
    "For the sake of testing a local docker single-instance cluster was used via the following `docker-compose.yml`:\n",
    "\n",
    "```yaml\n",
    "version: '3.4'\n",
    "services:\n",
    "  typesense:\n",
    "    image: typesense/typesense:0.24.0\n",
    "    restart: on-failure\n",
    "    ports:\n",
    "      - \"8108:8108\"\n",
    "    volumes:\n",
    "      - ./typesense-data:/data\n",
    "    command: '--data-dir /data --api-key=xyz --enable-cors'\n",
    "```\n",
    "\n",
    "The data used to test the engine comes from [the Lichess database](https://database.lichess.org) and represents chess games.\n",
    "The full dataset can be downloaded using the following script:\n",
    "\n",
    "```shell\n",
    "#!/bin/bash\n",
    "\n",
    "rm -rf datasets\n",
    "mkdir datasets\n",
    "cd datasets || exit\n",
    "\n",
    "for i in $(seq -w 1 12); do\n",
    "  curl https://database.lichess.org/standard/lichess_db_standard_rated_2013-\"$i\".pgn.zst -o lichess_db_standard_rated_2013-\"$i\".pgn.zst\n",
    "  pzstd -d lichess_db_standard_rated_2013-\"$i\".pgn.zst\n",
    "  rm lichess_db_standard_rated_2013-\"$i\".pgn.zst\n",
    "done\n",
    "\n",
    "date > downloaded_at.txt\n",
    "```\n",
    "\n",
    "For the sake of performance evaluation, a small set of 100 000 chess games was taken from the beginning of [the january 2013 standard games dataset](https://database.lichess.org/standard/lichess_db_standard_rated_2013-01.pgn.zst).\n",
    "\n",
    "# Interfacing with the engine\n",
    "\n",
    "Out of the box typesense does not provide any graphical user interface.\n",
    "While there are client libraries provided by first party vendor as well as the community, they are simply thin wrappers over the REST HTTP API.\n",
    "\n",
    "Quoting the website itself:\n",
    ">Typesense has a RESTful API so it can be used with any HTTP library in any programming language, even the ones not listed below. The client libraries are just thin wrappers around Typesense's HTTP API."
   ],
   "metadata": {
    "collapsed": false
   }
  },
  {
   "cell_type": "markdown",
   "source": [
    "# Metrics\n",
    "\n",
    "The following code shows extraction of performance metrics from the server instance."
   ],
   "metadata": {
    "collapsed": false
   }
  },
  {
   "cell_type": "code",
   "execution_count": 59,
   "outputs": [],
   "source": [
    "typesense_url = \"http://localhost:8108\"\n",
    "typesense_api_key = \"xyz\"\n",
    "typesense_api_key_header = \"X-TYPESENSE-API-KEY\"\n",
    "batch_size = 1000\n",
    "batch_count = 100"
   ],
   "metadata": {
    "collapsed": false
   }
  },
  {
   "cell_type": "code",
   "execution_count": 60,
   "outputs": [],
   "source": [
    "import requests\n",
    "\n",
    "measurements = []\n",
    "\n",
    "\n",
    "# noinspection PyShadowingBuiltins\n",
    "def human_size(bytes, units=None):\n",
    "    if units is None:\n",
    "        units = [' bytes', 'KB', 'MB', 'GB', 'TB', 'PB', 'EB']\n",
    "    return str(bytes) + units[0] if bytes < 1024 else human_size(bytes >> 10, units[1:])\n",
    "\n",
    "\n",
    "def measure_metrics():\n",
    "    measurement = requests.get(f\"{typesense_url}/metrics.json\",\n",
    "                               headers={typesense_api_key_header: typesense_api_key}).json()\n",
    "    measurements.append(measurement)\n",
    "    return measurement\n",
    "\n",
    "\n",
    "def display_metrics_text(measurement):\n",
    "    print(f\"CPU:                                  {measurement['system_cpu_active_percentage']}%\")\n",
    "    print(f\"system_disk_used_bytes:               {human_size(int(measurement['system_disk_used_bytes']))}\")\n",
    "    print(f\"system_memory_used_bytes:             {human_size(int(measurement['system_memory_used_bytes']))}\")\n",
    "    print(f\"system_network_received_bytes:        {human_size(int(measurement['system_network_received_bytes']))}\")\n",
    "    print(f\"system_network_sent_bytes:            {human_size(int(measurement['system_network_sent_bytes']))}\")\n",
    "    print(f\"typesense_memory_active_bytes:        {human_size(int(measurement['typesense_memory_active_bytes']))}\")\n",
    "    print(f\"typesense_memory_allocated_bytes:     {human_size(int(measurement['typesense_memory_allocated_bytes']))}\")\n",
    "    print(f\"typesense_memory_mapped_bytes:        {human_size(int(measurement['typesense_memory_mapped_bytes']))}\")\n",
    "    print(f\"typesense_memory_metadata_bytes:      {human_size(int(measurement['typesense_memory_metadata_bytes']))}\")\n",
    "    print(f\"typesense_memory_fragmentation_ratio: {measurement['typesense_memory_fragmentation_ratio']}\")\n",
    "    print(f\"typesense_memory_resident_bytes:      {human_size(int(measurement['typesense_memory_resident_bytes']))}\")\n",
    "    print(f\"typesense_memory_retained_bytes:      {human_size(int(measurement['typesense_memory_retained_bytes']))}\")"
   ],
   "metadata": {
    "collapsed": false
   }
  },
  {
   "cell_type": "markdown",
   "source": [
    "Create empty collection."
   ],
   "metadata": {
    "collapsed": false
   }
  },
  {
   "cell_type": "code",
   "execution_count": 61,
   "outputs": [
    {
     "name": "stdout",
     "output_type": "stream",
     "text": [
      "before schema created\n",
      "CPU:                                  0.00%\n",
      "system_disk_used_bytes:               147GB\n",
      "system_memory_used_bytes:             1GB\n",
      "system_network_received_bytes:        37MB\n",
      "system_network_sent_bytes:            26MB\n",
      "typesense_memory_active_bytes:        74MB\n",
      "typesense_memory_allocated_bytes:     57MB\n",
      "typesense_memory_mapped_bytes:        123MB\n",
      "typesense_memory_metadata_bytes:      13MB\n",
      "typesense_memory_fragmentation_ratio: 0.23\n",
      "typesense_memory_resident_bytes:      74MB\n",
      "typesense_memory_retained_bytes:      209MB\n",
      "\n",
      "after schema created\n",
      "CPU:                                  0.00%\n",
      "system_disk_used_bytes:               147GB\n",
      "system_memory_used_bytes:             1GB\n",
      "system_network_received_bytes:        37MB\n",
      "system_network_sent_bytes:            26MB\n",
      "typesense_memory_active_bytes:        74MB\n",
      "typesense_memory_allocated_bytes:     57MB\n",
      "typesense_memory_mapped_bytes:        123MB\n",
      "typesense_memory_metadata_bytes:      13MB\n",
      "typesense_memory_fragmentation_ratio: 0.23\n",
      "typesense_memory_resident_bytes:      74MB\n",
      "typesense_memory_retained_bytes:      209MB\n"
     ]
    }
   ],
   "source": [
    "import chess.pgn\n",
    "from datetime import datetime\n",
    "import typesense\n",
    "from timeit import default_timer as timer\n",
    "\n",
    "typesense_client = typesense.Client({\n",
    "    'nodes': [{\n",
    "        'host': 'localhost',\n",
    "        'port': '8108',\n",
    "        'protocol': 'http'\n",
    "    }],\n",
    "    'api_key': 'xyz',\n",
    "    'connection_timeout_seconds': 2\n",
    "})\n",
    "\n",
    "collection_name = 'chess'\n",
    "\n",
    "schema = {\n",
    "    'name': collection_name,\n",
    "    'fields': [\n",
    "        {'name': 'link', 'type': 'string'},  # [Site \"https://lichess.org/j1dkb5dw\"]\n",
    "        {'name': 'timestamp_utc', 'type': 'int32'},  # [UTCDate \"2012.12.31\"] [UTCTime \"23:04:12\"]\n",
    "        {'name': 'event', 'type': 'string'},  # [Event \"Rated Classical game\"]\n",
    "        {'name': 'white', 'type': 'string'},  # [White \"BFG9k\"]\n",
    "        {'name': 'black', 'type': 'string'},  # [Black \"mamalak\"]\n",
    "        {'name': 'opening', 'type': 'string'},  # [Opening \"French Defense: Normal Variation\"]\n",
    "        {'name': 'termination', 'type': 'string'},  # [Termination \"Normal\"]\n",
    "        {'name': 'mainline_moves', 'type': 'string'},  # 1. e4 e6 2. d4 b6 3. a3 Bb7 4. Nc3 Nh6 5. Bxh6 gxh6 6. Be2...\n",
    "        # {'name': 'sequenced_moves', 'type': 'string'},  # e4 e6 d4 b6 a3 Bb7 Nc3 Nh6 Bxh6 gxh6 Be2...\n",
    "    ],\n",
    "    'default_sorting_field': 'timestamp_utc'\n",
    "}\n",
    "\n",
    "names = [x['name'] for x in typesense_client.collections.retrieve()]\n",
    "\n",
    "if collection_name in names:\n",
    "    typesense_client.collections[collection_name].delete()\n",
    "\n",
    "print(\"before schema created\")\n",
    "display_metrics_text(measure_metrics())\n",
    "print()\n",
    "typesense_client.collections.create(schema)\n",
    "print(\"after schema created\")\n",
    "display_metrics_text(measure_metrics())"
   ],
   "metadata": {
    "collapsed": false
   }
  },
  {
   "cell_type": "markdown",
   "source": [
    "Fill collection with data."
   ],
   "metadata": {
    "collapsed": false
   }
  },
  {
   "cell_type": "code",
   "execution_count": null,
   "outputs": [
    {
     "name": "stdout",
     "output_type": "stream",
     "text": [
      "Upsert batch 1 in 106.44ms\n",
      "Upsert batch 2 in 109.85ms\n",
      "Upsert batch 3 in 109.47ms\n",
      "Upsert batch 4 in 102.14ms\n",
      "Upsert batch 5 in 104.74ms\n",
      "Upsert batch 6 in 107.75ms\n",
      "Upsert batch 7 in 113.48ms\n",
      "Upsert batch 8 in 109.75ms\n",
      "Upsert batch 9 in 106.11ms\n",
      "Upsert batch 10 in 103.82ms\n",
      "Upsert batch 11 in 95.49ms\n",
      "Upsert batch 12 in 103.48ms\n",
      "Upsert batch 13 in 106.37ms\n",
      "Upsert batch 14 in 111.30ms\n",
      "Upsert batch 15 in 87.42ms\n",
      "Upsert batch 16 in 112.34ms\n",
      "Upsert batch 17 in 98.97ms\n",
      "Upsert batch 18 in 105.07ms\n",
      "Upsert batch 19 in 119.88ms\n",
      "Upsert batch 20 in 128.23ms\n",
      "Upsert batch 21 in 111.32ms\n",
      "Upsert batch 22 in 108.25ms\n",
      "Upsert batch 23 in 115.22ms\n",
      "Upsert batch 24 in 109.65ms\n",
      "Upsert batch 25 in 121.32ms\n",
      "Upsert batch 26 in 112.35ms\n",
      "Upsert batch 27 in 116.31ms\n",
      "Upsert batch 28 in 114.39ms\n",
      "Upsert batch 29 in 111.28ms\n",
      "Upsert batch 30 in 117.23ms\n",
      "Upsert batch 31 in 110.86ms\n",
      "Upsert batch 32 in 110.51ms\n",
      "Upsert batch 33 in 118.53ms\n",
      "Upsert batch 34 in 114.32ms\n",
      "Upsert batch 35 in 110.91ms\n",
      "Upsert batch 36 in 136.26ms\n",
      "Upsert batch 37 in 113.28ms\n",
      "Upsert batch 38 in 110.46ms\n",
      "Upsert batch 39 in 115.36ms\n",
      "Upsert batch 40 in 116.59ms\n",
      "Upsert batch 41 in 124.79ms\n",
      "Upsert batch 42 in 113.68ms\n",
      "Upsert batch 43 in 107.99ms\n",
      "Upsert batch 44 in 115.83ms\n",
      "Upsert batch 45 in 120.22ms\n",
      "Upsert batch 46 in 118.90ms\n",
      "Upsert batch 47 in 106.84ms\n",
      "Upsert batch 48 in 98.90ms\n",
      "Upsert batch 49 in 125.30ms\n",
      "Upsert batch 50 in 119.59ms\n",
      "Upsert batch 51 in 107.96ms\n",
      "Upsert batch 52 in 115.62ms\n",
      "Upsert batch 53 in 108.25ms\n",
      "Upsert batch 54 in 121.82ms\n",
      "Upsert batch 55 in 112.55ms\n",
      "Upsert batch 56 in 116.14ms\n"
     ]
    }
   ],
   "source": [
    "collection = typesense_client.collections[collection_name]\n",
    "\n",
    "durations = []\n",
    "with open('datasets/lichess_db_standard_rated_2013-01.pgn') as file:\n",
    "    counter = 0\n",
    "    games = []\n",
    "    while True:\n",
    "        game = chess.pgn.read_game(file)\n",
    "        if game is None:\n",
    "            break\n",
    "        counter = counter + 1\n",
    "        if counter > batch_size * batch_count:\n",
    "            break\n",
    "\n",
    "        date = game.headers.get('UTCDate')  # 2012.12.31\n",
    "        time = game.headers.get('UTCTime')  # 23:04:12\n",
    "\n",
    "        ts_game = {\n",
    "            'id': game.headers.get('Site').split('/')[-1],  # [Site \"https://lichess.org/j1dkb5dw\"]\n",
    "            'link': game.headers.get('Site'),\n",
    "            'timestamp_utc': int(datetime.strptime(f'{date} {time}', '%Y.%m.%d %H:%M:%S').timestamp()),\n",
    "            'event': game.headers.get('Event'),\n",
    "            'white': game.headers.get('White'),\n",
    "            'black': game.headers.get('Black'),\n",
    "            'opening': game.headers.get('Opening'),\n",
    "            'termination': game.headers.get('Termination'),\n",
    "            'mainline_moves': str(game.mainline_moves()),\n",
    "        }\n",
    "\n",
    "        games.append(ts_game)\n",
    "\n",
    "        if counter % batch_size == 0:\n",
    "            start_timer = timer()\n",
    "            collection.documents.import_(games, {\n",
    "                'action': 'upsert',\n",
    "            })\n",
    "            stop_timer = timer()\n",
    "            duration = stop_timer - start_timer\n",
    "            durations.append(duration)\n",
    "            measure_metrics()\n",
    "            games = []\n",
    "            print(f'Upsert batch {int(counter / batch_size)} in {duration * 1000:.2f}ms')\n",
    "\n"
   ],
   "metadata": {
    "collapsed": false,
    "pycharm": {
     "is_executing": true
    }
   }
  },
  {
   "cell_type": "markdown",
   "source": [
    "Analyze performance."
   ],
   "metadata": {
    "collapsed": false
   }
  },
  {
   "cell_type": "code",
   "execution_count": null,
   "outputs": [],
   "source": [
    "import matplotlib.pyplot as plt\n",
    "\n",
    "\n",
    "def plot(data, name):\n",
    "    x = [i for i, _ in enumerate(data)]\n",
    "    y = data\n",
    "\n",
    "    plt.xlabel('measurement [every 10 games]')\n",
    "    plt.ylabel(name)\n",
    "    plt.scatter(x, y)\n",
    "    plt.show()\n",
    "\n",
    "\n",
    "def plot_metric(metric, name, transform=lambda x: x):\n",
    "    plot([transform(measurement[metric]) for measurement in measurements], name)\n",
    "\n",
    "\n",
    "plot_metric(\"system_disk_used_bytes\", \"DISK MB\", lambda x: float(x) / 1024.0 / 1024.0)\n",
    "plot_metric(\"system_cpu_active_percentage\", \"CPU %\", lambda x: float(x))\n",
    "plot_metric(\"system_memory_used_bytes\", \"MEMORY MB\", lambda x: float(x) / 1024.0 / 1024.0)\n",
    "plot(durations, \"UPSERT DURATION ms\")"
   ],
   "metadata": {
    "collapsed": false,
    "pycharm": {
     "is_executing": true
    }
   }
  },
  {
   "cell_type": "code",
   "execution_count": null,
   "outputs": [],
   "source": [],
   "metadata": {
    "collapsed": false,
    "pycharm": {
     "is_executing": true
    }
   }
  }
 ],
 "metadata": {
  "kernelspec": {
   "display_name": "Python 3",
   "language": "python",
   "name": "python3"
  },
  "language_info": {
   "codemirror_mode": {
    "name": "ipython",
    "version": 2
   },
   "file_extension": ".py",
   "mimetype": "text/x-python",
   "name": "python",
   "nbconvert_exporter": "python",
   "pygments_lexer": "ipython2",
   "version": "2.7.6"
  }
 },
 "nbformat": 4,
 "nbformat_minor": 0
}
