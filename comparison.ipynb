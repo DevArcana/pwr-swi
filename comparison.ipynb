{
 "cells": [
  {
   "cell_type": "code",
   "execution_count": 8,
   "metadata": {
    "collapsed": true,
    "ExecuteTime": {
     "end_time": "2023-05-08T16:32:22.844912Z",
     "start_time": "2023-05-08T16:32:05.658277Z"
    }
   },
   "outputs": [
    {
     "name": "stdout",
     "output_type": "stream",
     "text": [
      "Preloading games...\n",
      "Loaded 10000 games\n"
     ]
    }
   ],
   "source": [
    "import os\n",
    "import chess.pgn\n",
    "from datetime import datetime\n",
    "\n",
    "print('Preloading games...')\n",
    "limit = 10000\n",
    "games = []\n",
    "\n",
    "for path in os.listdir(\"datasets\"):\n",
    "    with open(f'datasets/{path}') as file:\n",
    "        while len(games) < limit:\n",
    "            game = chess.pgn.read_game(file)\n",
    "            if game is None:\n",
    "                break\n",
    "\n",
    "            date = game.headers.get('UTCDate')  # 2012.12.31\n",
    "            time = game.headers.get('UTCTime')  # 23:04:12\n",
    "\n",
    "            ts_game = {\n",
    "                'id': game.headers.get('Site').split('/')[-1],  # [Site \"https://lichess.org/j1dkb5dw\"]\n",
    "                'link': game.headers.get('Site'),\n",
    "                'timestamp_utc': int(datetime.strptime(f'{date} {time}', '%Y.%m.%d %H:%M:%S').timestamp()),\n",
    "                'event': game.headers.get('Event'),\n",
    "                'white': game.headers.get('White'),\n",
    "                'black': game.headers.get('Black'),\n",
    "                'opening': game.headers.get('Opening'),\n",
    "                'termination': game.headers.get('Termination'),\n",
    "                'mainline_moves': str(game.mainline_moves()),\n",
    "            }\n",
    "\n",
    "            games.append(ts_game)\n",
    "print('Loaded {} games'.format(len(games)))\n",
    "\n",
    "\n",
    "def print_game(game):\n",
    "    print(f\"{game['white']} vs {game['black']} ({game['event']})\")\n",
    "    print(game['link'])\n",
    "    print(game['mainline_moves'])\n",
    "    print()"
   ]
  },
  {
   "cell_type": "markdown",
   "source": [
    "# Typesense"
   ],
   "metadata": {
    "collapsed": false
   }
  },
  {
   "cell_type": "code",
   "execution_count": 9,
   "outputs": [],
   "source": [
    "import requests\n",
    "import typesense\n",
    "\n",
    "typesense_url = \"http://localhost:8108\"\n",
    "typesense_api_key = \"xyz\"\n",
    "typesense_api_key_header = \"X-TYPESENSE-API-KEY\"\n",
    "\n",
    "typesense_client = typesense.Client({\n",
    "    'nodes': [{\n",
    "        'host': 'localhost',\n",
    "        'port': '8108',\n",
    "        'protocol': 'http'\n",
    "    }],\n",
    "    'api_key': 'xyz',\n",
    "    'connection_timeout_seconds': 2\n",
    "})\n",
    "\n",
    "collection_name = 'chess'\n",
    "\n",
    "measurements = []\n",
    "\n",
    "# noinspection PyShadowingBuiltins\n",
    "def human_size(bytes, units=None):\n",
    "    minus = bytes < 0\n",
    "    if minus:\n",
    "        bytes = -bytes\n",
    "    if units is None:\n",
    "        units = [' bytes', 'KB', 'MB', 'GB', 'TB', 'PB', 'EB']\n",
    "    formatted = str(bytes) + units[0] if bytes < 1024 else human_size(bytes >> 10, units[1:])\n",
    "    if minus:\n",
    "        formatted = '-' + formatted\n",
    "    return formatted\n",
    "\n",
    "\n",
    "def measure_metrics():\n",
    "    measurement = requests.get(f\"{typesense_url}/metrics.json\",\n",
    "                               headers={typesense_api_key_header: typesense_api_key}).json()\n",
    "\n",
    "    measurement['system_cpu_active_percentage'] = float(measurement['system_cpu_active_percentage'])\n",
    "    measurement['system_disk_used_bytes'] = int(measurement['system_disk_used_bytes'])\n",
    "    measurement['system_memory_used_bytes'] = int(measurement['system_memory_used_bytes'])\n",
    "    measurement['system_network_received_bytes'] = int(measurement['system_network_received_bytes'])\n",
    "    measurement['system_network_sent_bytes'] = int(measurement['system_network_sent_bytes'])\n",
    "    measurement['typesense_memory_active_bytes'] = int(measurement['typesense_memory_active_bytes'])\n",
    "    measurement['typesense_memory_allocated_bytes'] = int(measurement['typesense_memory_allocated_bytes'])\n",
    "    measurement['typesense_memory_mapped_bytes'] = int(measurement['typesense_memory_mapped_bytes'])\n",
    "    measurement['typesense_memory_metadata_bytes'] = int(measurement['typesense_memory_metadata_bytes'])\n",
    "    measurement['typesense_memory_fragmentation_ratio'] = float(measurement['typesense_memory_fragmentation_ratio'])\n",
    "    measurement['typesense_memory_resident_bytes'] = int(measurement['typesense_memory_resident_bytes'])\n",
    "    measurement['typesense_memory_retained_bytes'] = int(measurement['typesense_memory_retained_bytes'])\n",
    "    measurements.append(measurement)\n",
    "    return measurement\n",
    "\n",
    "\n",
    "def subtract_measurements(m1, m2):\n",
    "    m = {'system_cpu_active_percentage': m1['system_cpu_active_percentage'] - m2['system_cpu_active_percentage'],\n",
    "         'system_disk_used_bytes': m1['system_disk_used_bytes'] - m2['system_disk_used_bytes'],\n",
    "         'system_memory_used_bytes': m1['system_memory_used_bytes'] - m2['system_memory_used_bytes'],\n",
    "         'system_network_received_bytes': m1['system_network_received_bytes'] - m2['system_network_received_bytes'],\n",
    "         'system_network_sent_bytes': m1['system_network_sent_bytes'] - m2['system_network_sent_bytes'],\n",
    "         'typesense_memory_active_bytes': m1['typesense_memory_active_bytes'] - m2['typesense_memory_active_bytes'],\n",
    "         'typesense_memory_allocated_bytes': m1['typesense_memory_allocated_bytes'] - m2[\n",
    "             'typesense_memory_allocated_bytes'],\n",
    "         'typesense_memory_mapped_bytes': m1['typesense_memory_mapped_bytes'] - m2['typesense_memory_mapped_bytes'],\n",
    "         'typesense_memory_metadata_bytes': m1['typesense_memory_metadata_bytes'] - m2[\n",
    "             'typesense_memory_metadata_bytes'],\n",
    "         'typesense_memory_fragmentation_ratio': m1['typesense_memory_fragmentation_ratio'] - m2[\n",
    "             'typesense_memory_fragmentation_ratio'],\n",
    "         'typesense_memory_resident_bytes': m1['typesense_memory_resident_bytes'] - m2[\n",
    "             'typesense_memory_resident_bytes'],\n",
    "         'typesense_memory_retained_bytes': m1['typesense_memory_retained_bytes'] - m2[\n",
    "             'typesense_memory_retained_bytes']}\n",
    "\n",
    "    return m\n",
    "\n",
    "\n",
    "def display_metrics_text(measurement):\n",
    "    print(f\"CPU:                                  {measurement['system_cpu_active_percentage']}%\")\n",
    "    print(f\"system_disk_used_bytes:               {human_size((measurement['system_disk_used_bytes']))}\")\n",
    "    print(f\"system_memory_used_bytes:             {human_size((measurement['system_memory_used_bytes']))}\")\n",
    "    print(f\"system_network_received_bytes:        {human_size((measurement['system_network_received_bytes']))}\")\n",
    "    print(f\"system_network_sent_bytes:            {human_size((measurement['system_network_sent_bytes']))}\")\n",
    "    print(f\"typesense_memory_active_bytes:        {human_size((measurement['typesense_memory_active_bytes']))}\")\n",
    "    print(f\"typesense_memory_allocated_bytes:     {human_size((measurement['typesense_memory_allocated_bytes']))}\")\n",
    "    print(f\"typesense_memory_mapped_bytes:        {human_size((measurement['typesense_memory_mapped_bytes']))}\")\n",
    "    print(f\"typesense_memory_metadata_bytes:      {human_size((measurement['typesense_memory_metadata_bytes']))}\")\n",
    "    print(f\"typesense_memory_fragmentation_ratio: {measurement['typesense_memory_fragmentation_ratio']}\")\n",
    "    print(f\"typesense_memory_resident_bytes:      {human_size((measurement['typesense_memory_resident_bytes']))}\")\n",
    "    print(f\"typesense_memory_retained_bytes:      {human_size((measurement['typesense_memory_retained_bytes']))}\")"
   ],
   "metadata": {
    "collapsed": false,
    "ExecuteTime": {
     "end_time": "2023-05-08T16:32:22.851206Z",
     "start_time": "2023-05-08T16:32:22.849887Z"
    }
   }
  },
  {
   "cell_type": "markdown",
   "source": [
    "1. Średni czas przetwarzania zadania zawierającego 10000 dokumentów (porównanie bedzie się zaczynać na pustym indeksie)"
   ],
   "metadata": {
    "collapsed": false
   }
  },
  {
   "cell_type": "code",
   "execution_count": 10,
   "outputs": [
    {
     "name": "stdout",
     "output_type": "stream",
     "text": [
      "Re/Creating collection...\n"
     ]
    }
   ],
   "source": [
    "print(\"Re/Creating collection...\")\n",
    "schema = {\n",
    "    'name': collection_name,\n",
    "    'fields': [\n",
    "        {'name': 'link', 'type': 'string'},  # [Site \"https://lichess.org/j1dkb5dw\"]\n",
    "        {'name': 'timestamp_utc', 'type': 'int32'},  # [UTCDate \"2012.12.31\"] [UTCTime \"23:04:12\"]\n",
    "        {'name': 'event', 'type': 'string'},  # [Event \"Rated Classical game\"]\n",
    "        {'name': 'white', 'type': 'string'},  # [White \"BFG9k\"]\n",
    "        {'name': 'black', 'type': 'string'},  # [Black \"mamalak\"]\n",
    "        {'name': 'opening', 'type': 'string'},  # [Opening \"French Defense: Normal Variation\"]\n",
    "        {'name': 'termination', 'type': 'string'},  # [Termination \"Normal\"]\n",
    "        {'name': 'mainline_moves', 'type': 'string'},  # 1. e4 e6 2. d4 b6 3. a3 Bb7 4. Nc3 Nh6 5. Bxh6 gxh6 6. Be2...\n",
    "    ],\n",
    "    'default_sorting_field': 'timestamp_utc'\n",
    "}\n",
    "\n",
    "names = [x['name'] for x in typesense_client.collections.retrieve()]\n",
    "\n",
    "if collection_name in names:\n",
    "    typesense_client.collections[collection_name].delete()\n",
    "\n",
    "before = measure_metrics()"
   ],
   "metadata": {
    "collapsed": false,
    "ExecuteTime": {
     "end_time": "2023-05-08T16:32:24.037082Z",
     "start_time": "2023-05-08T16:32:23.894492Z"
    }
   }
  },
  {
   "cell_type": "code",
   "execution_count": 35,
   "outputs": [
    {
     "name": "stdout",
     "output_type": "stream",
     "text": [
      "702 ms ± 8.06 ms per loop (mean ± std. dev. of 7 runs, 1 loop each)\n"
     ]
    }
   ],
   "source": [
    "%%timeit\n",
    "global collection\n",
    "\n",
    "names = [x['name'] for x in typesense_client.collections.retrieve()]\n",
    "\n",
    "if collection_name in names:\n",
    "    typesense_client.collections[collection_name].delete()\n",
    "\n",
    "typesense_client.collections.create(schema)\n",
    "\n",
    "collection = typesense_client.collections[collection_name]\n",
    "\n",
    "collection.documents.import_(games, {\n",
    "    'action': 'upsert',\n",
    "})"
   ],
   "metadata": {
    "collapsed": false,
    "ExecuteTime": {
     "end_time": "2023-05-08T16:43:02.451453Z",
     "start_time": "2023-05-08T16:42:56.666737Z"
    }
   }
  },
  {
   "cell_type": "code",
   "execution_count": 36,
   "outputs": [],
   "source": [
    "after = measure_metrics()"
   ],
   "metadata": {
    "collapsed": false,
    "ExecuteTime": {
     "end_time": "2023-05-08T16:43:05.998850Z",
     "start_time": "2023-05-08T16:43:05.883382Z"
    }
   }
  },
  {
   "cell_type": "markdown",
   "source": [
    "2. Czas odpowiedzi na pojedyncze zapytania"
   ],
   "metadata": {
    "collapsed": false
   }
  },
  {
   "cell_type": "code",
   "execution_count": 45,
   "outputs": [
    {
     "name": "stdout",
     "output_type": "stream",
     "text": [
      "Searching for 'e4 e5'...\n"
     ]
    }
   ],
   "source": [
    "query = \"e4 e5\"\n",
    "print(\"Searching for '{}'...\".format(query))\n",
    "params = {\n",
    "    'q': query,\n",
    "    'query_by': 'mainline_moves',\n",
    "    'sort_by': 'timestamp_utc:desc',\n",
    "    'per_page': 10,\n",
    "    'page': 1,\n",
    "}"
   ],
   "metadata": {
    "collapsed": false,
    "ExecuteTime": {
     "end_time": "2023-05-08T16:53:51.585144Z",
     "start_time": "2023-05-08T16:53:51.582127Z"
    }
   }
  },
  {
   "cell_type": "code",
   "execution_count": 46,
   "outputs": [
    {
     "name": "stdout",
     "output_type": "stream",
     "text": [
      "5.21 ms ± 350 µs per loop (mean ± std. dev. of 7 runs, 100 loops each)\n"
     ]
    }
   ],
   "source": [
    "%%timeit\n",
    "global collection\n",
    "global results\n",
    "results = collection.documents.search(params)"
   ],
   "metadata": {
    "collapsed": false,
    "ExecuteTime": {
     "end_time": "2023-05-08T16:53:56.572534Z",
     "start_time": "2023-05-08T16:53:52.216301Z"
    }
   }
  },
  {
   "cell_type": "markdown",
   "source": [
    "3. Porównanie wyników wyszukiwania dla jednakowych zapytań"
   ],
   "metadata": {
    "collapsed": false
   }
  },
  {
   "cell_type": "code",
   "execution_count": 52,
   "outputs": [
    {
     "name": "stdout",
     "output_type": "stream",
     "text": [
      "CrazyBullet vs Paker (Rated Bullet game)\n",
      "https://lichess.org/rb1lnek9\n",
      "1. e3 b6 2. d3 c5 3. f3 Bb7 4. e4 d5 5. e5 f6 6. exf6 Nxf6 7. Qe2 Qd6 8. Bg5 e5 9. Bxf6 gxf6 10. Nc3 Bh6 11. Nb5 Qc6 12. a4 a6 13. Nc3\n",
      "\n",
      "pronik vs elenin012 (Rated Classical game)\n",
      "https://lichess.org/7s6f3zgm\n",
      "1. d4 d5 2. Nf3 Bf5 3. Bd2 e6 4. Nc3 Bd6 5. e3 Ne7 6. Be2 h6 7. O-O c6 8. a3 Bc7 9. h3 Qd6 10. Bd3 Bg6 11. Ne5 Nd7 12. f4 Nf5 13. Ne2 O-O 14. c4 dxc4 15. Bxc4 b5 16. Bd3 a5 17. Nxg6 fxg6 18. Bc1 Rf7 19. g4 Nh4 20. Qe1 g5 21. Qg3 Raf8 22. e4 Qe7 23. e5 Nb6 24. b3 Nd5 25. Bd2 b4 26. axb4 axb4 27. Be4 Nxf4 28. Nxf4 gxf4 29. Rxf4 Rxf4 30. Bxf4 g5 31. Be3 Qf7 32. Bxc6 Nf3+ 33. Bxf3 Qxf3 34. Qxf3 Rxf3 35. Re1 Rxh3 36. Kg2 Rh4 37. Kg3 Kg7 38. Rc1 Bd8 39. Rc8 Be7 40. Rc7 Kf7 41. Bd2 Ke8 42. Rb7 Rh1 43. Bxb4 Bxb4 44. Rxb4 Rd1 45. Kf3 Kd7 46. Rb7+ Kc6 47. Rh7 Rxd4 48. Rxh6 Kd5 49. Rg6 Kxe5 50. Rxg5+ Kf6 51. Rb5 Rd3+ 52. Ke4 Rg3 53. g5+ Kg6 54. Re5 Rxb3 55. Rxe6+ Kxg5 56. Kd5 Kf5 57. Re5+ Kf4 58. Re8 Rd3+ 59. Kc4 Re3 60. Rf8+ Kg3 61. Kd4 Re7 62. Rf6 Kg4 63. Kd5 Kg5 64. Rf1 Re2 65. Kd4 Re8 66. Kd3 Kg4 67. Rf7 Kg5 68. Kd4 Kg6 69. Rf1 Kg5 70. Kd5 Kg4 71. Kd6 Kg3 72. Kd7 Re2 73. Rf7 Kg4 74. Rg7+ Kf5 75. Rf7+ Kg6 76. Rf1 Kg5\n",
      "\n",
      "ChikiPuki vs Pringao28 (Rated Bullet game)\n",
      "https://lichess.org/z0g7bdj4\n",
      "1. e4 e5 2. Bc4 g6 3. Qf3 Bg7 4. Qxf7#\n",
      "\n",
      "TwoKings vs akb (Rated Classical game)\n",
      "https://lichess.org/8041bd1i\n",
      "1. e4 e5 2. Nf3 Nc6 3. Nc3 Nf6 4. Bb5 d5 5. exd5 Nxd5 6. Bxc6+ bxc6 7. Nxd5 Qxd5 8. d3 e4 9. dxe4 Qxe4+ 10. Be3 Rb8 11. b3 Bb4+ 12. Ke2 O-O 13. Qd4 Qxc2+ 14. Nd2 Bxd2\n",
      "\n",
      "sakrat vs uxim (Rated Blitz game)\n",
      "https://lichess.org/eez7gkeg\n",
      "1. e4 e6 2. d4 h6 3. e5 d5 4. c4 dxc4 5. Bxc4 Ne7 6. Nc3 c6 7. Nge2 Nd7 8. Be3 Nb6 9. Bb3 Ned5 10. Qd2 Nxe3 11. fxe3 Be7 12. O-O-O O-O 13. g3 Nd5 14. Ne4 a5 15. h4 a4 16. Bc2 b6 17. g4 Bb4 18. Qd3 Ba6 19. Nf6+ Nxf6 20. Qxa6 Rxa6 21. exf6 Qxf6 22. Rdg1 Qf3 23. Nc3 Qxe3+ 24. Kb1 Bxc3 25. bxc3 Qxc3 26. g5 a3 27. Kc1 h5 28. g6 f6\n",
      "\n",
      "POL vs Bduff (Rated Blitz game)\n",
      "https://lichess.org/cqj2uku7\n",
      "1. e4 e5 2. f4 d6 3. Nf3 Nf6 4. Nc3 Nc6 5. Bc4 h6 6. fxe5 Nxe5 7. Nxe5 dxe5 8. O-O Bb4 9. Qf3 O-O 10. Nd5 Nxd5 11. Bxd5 Qe7 12. c3 Bd6 13. Kh1 c6 14. Bb3 Be6 15. Bc2 Bc4 16. d3 Be6 17. Qg3 Kh7 18. d4 exd4 19. e5+ f5 20. exd6 Qd7 21. cxd4 Rad8 22. Bf4 Bc4 23. Rf2 Qe6 24. Be5 Rd7 25. b3 Bd5 26. Raf1 Qg6 27. Qxg6+ Kxg6 28. Rxf5 Be6 29. Rxf8+ Kh5 30. Bd1+ Kh4 31. g3+ Kg5 32. Bxg7 Bh3 33. R1f7 Rxd6 34. Be5 Re6 35. Rg7+ Rg6 36. Rxg6+ Kxg6 37. Bc2+ Kg5\n",
      "\n",
      "Karen_Armenia vs jojolapin (Rated Blitz game)\n",
      "https://lichess.org/ltpocgsq\n",
      "1. e4 Nf6 2. Nc3 e5 3. Be2 Bb4 4. a3 Bxc3 5. dxc3 Nxe4 6. Nf3 d6 7. Bd3 Nf6 8. O-O O-O 9. Re1 Bg4 10. h3 Bxf3 11. Qxf3 c6 12. Bg5 Nbd7 13. Bf5 Qc7 14. Bxd7 Nxd7 15. h4 f6 16. Bd2 Nc5 17. b4 Ne6 18. h5 Qf7 19. h6 g6 20. g3 Ng5 21. Bxg5 fxg5 22. Qxf7+ Rxf7 23. Rad1 Rd8 24. Rxe5 Rdf8 25. Rxg5 Rxf2 26. Rxd6 Rd2 27. Rxd2\n",
      "\n",
      "CrazyBullet vs Paker (Rated Bullet game)\n",
      "https://lichess.org/s8gm273n\n",
      "1. g3 b6 2. Bg2 Nc6 3. c3 Bb7 4. b4 d5 5. b5 Na5 6. a4 e5 7. e4 d4 8. cxd4 Qxd4 9. Nc3 Bc5 10. Nge2 Qxf2#\n",
      "\n",
      "Sandrov vs szelman (Rated Bullet game)\n",
      "https://lichess.org/9zafgx93\n",
      "1. e4 e6 2. d4 d5 3. e5 c5 4. c3 Nc6 5. Bb5 Qb6 6. Bxc6+ bxc6 7. Nf3 Ba6 8. Nbd2 cxd4 9. cxd4 Ne7 10. Nb3 Nf5 11. Qc2 Rc8 12. Nc5 Nxd4 13. Nxd4 Bxc5 14. Be3 O-O 15. Rd1 Rb8 16. b3 Bb4+ 17. Bd2 Qxd4 18. Bxb4 Qxb4+ 19. Qd2 c5 20. g3 Rfc8 21. f3 Qxd2+ 22. Rxd2 c4 23. bxc4 Rxc4 24. O-O h6 25. Rfd1 Rbc8 26. a3 Rc1 27. Rxc1 Rxc1+ 28. Kg2 d4 29. Rxd4 Rc2+ 30. Kh3 Bf1+ 31. Kg4 g6 32. h4 Kg7 33. Rd7 h5+ 34. Kg5 Rg2 35. Kf4 a6 36. Ra7 Ra2 37. g4 hxg4 38. fxg4 Rxa3 39. h5 Ra4+ 40. Kg5 gxh5 41. gxh5 Ra5 42. h6+ Kg8 43. Kf6 Ra2 44. Rxf7 Rf2+ 45. Kxe6 Rxf7 46. h7+ Rxh7 47. Kd6 Rc7 48. e6 Rc8 49. Kd7 Rf8 50. e7 a5 51. e8=Q Rxe8 52. Kxe8 a4 53. Kd7 a3 54. Kd6 a2 55. Kc5 a1=Q 56. Kb4 Qc1 57. Ka5 Qb2 58. Ka4 Qb5+ 59. Ka3 Bd3 60. Ka2 Bc2 61. Ka1 Qb1#\n",
      "\n",
      "kazemti vs sandee (Rated Bullet game)\n",
      "https://lichess.org/pm4y3wya\n",
      "1. d4 f5 2. c3 Nf6 3. Bg5 d5 4. e3 e6 5. f3 Bd6 6. Bd3 O-O 7. Nd2 Nbd7 8. Bc2 c5 9. dxc5 Bxc5 10. Nb3 Bxe3 11. Bxe3 e5 12. Bg5 f4 13. h4 Qb6 14. Qd3 Nc5 15. Nxc5 Qxc5 16. Bxf6 Rxf6 17. Qxh7+ Kf8 18. Qh8+ Kf7 19. Qh5+ Kg8 20. O-O-O Qe3+ 21. Kb1 e4 22. Qxd5+ Be6 23. Qxe4 Qb6 24. Bb3 Bxb3 25. axb3 Qxb3 26. Qd5+ Kh8 27. Qxb3 a5 28. Ne2 a4 29. Qxb7 Rfa6 30. Nxf4 a3 31. bxa3 Rxa3 32. Kc2 Ra2+ 33. Kd3 Rd8+ 34. Nd5 Ra5 35. c4 Ra3+ 36. Ke4 Re8+ 37. Kd4 Ra2 38. Rdg1 Rae2 39. Rd1 Ra2 40. Qb5 Rae2 41. Rd3 R2e6 42. Re3 Rxe3 43. Nxe3 Rd8+ 44. Nd5 Re8 45. Qxe8+ Kh7 46. Qh5+ Kg8 47. Ra1 Kf8 48. Ra8#\n",
      "\n",
      "\n",
      "False positives: 7.00\n",
      "True positives: 3.00\n",
      "Precision: 0.30\n",
      "Recall: 1.00\n",
      "F1: 0.46\n"
     ]
    }
   ],
   "source": [
    "tp = 0\n",
    "fp = 0\n",
    "for result in results['hits']:\n",
    "    if query in result['document']['mainline_moves']:\n",
    "        tp += 1\n",
    "    else:\n",
    "        fp += 1\n",
    "    print_game(result['document'])\n",
    "\n",
    "print()\n",
    "print(\"False positives: {:.02f}\".format(fp))\n",
    "print(\"True positives: {:.02f}\".format(tp))\n",
    "print(\"Precision: {:.02f}\".format(tp / (tp + fp)))\n",
    "print(\"Recall: {:.02f}\".format(1))\n",
    "print(\"F1: {:.02f}\".format(2 * (tp / (tp + fp)) / (1 + (tp / (tp + fp)))))"
   ],
   "metadata": {
    "collapsed": false,
    "ExecuteTime": {
     "end_time": "2023-05-08T16:57:38.581142Z",
     "start_time": "2023-05-08T16:57:38.578377Z"
    }
   }
  },
  {
   "cell_type": "markdown",
   "source": [
    "4. Zużycie procesora i RAMu w momencie przetwarzania zadania zawierającego 10000 dokumentów"
   ],
   "metadata": {
    "collapsed": false
   }
  },
  {
   "cell_type": "code",
   "execution_count": null,
   "outputs": [],
   "source": [
    "print(\"BEFORE\")\n",
    "display_metrics_text(before)\n",
    "print()\n",
    "\n",
    "print(\"AFTER\")\n",
    "display_metrics_text(after)\n",
    "print()\n",
    "\n",
    "print(\"DIFF\")\n",
    "display_metrics_text(subtract_measurements(after, before))"
   ],
   "metadata": {
    "collapsed": false
   }
  },
  {
   "cell_type": "markdown",
   "source": [
    "5. Średni czas odpowiedzi pzry wielu jednoczesnych wyszukiwaniach - analiza przeprowadzona będzie na jednej maszynie, przy użyciu jednego skryptu wysyłajacego zapytania HTTP aby zminimalizować wpływ innych czynników niz silnik"
   ],
   "metadata": {
    "collapsed": false
   }
  },
  {
   "cell_type": "code",
   "execution_count": null,
   "outputs": [],
   "source": [
    "import requests\n",
    "from timeit import default_timer as timer\n",
    "from concurrent.futures import ThreadPoolExecutor\n",
    "\n",
    "def query(n):\n",
    "    start = timer()\n",
    "    collection.documents.search(params)\n",
    "    end = timer()\n",
    "    return end - start\n",
    "\n",
    "with ThreadPoolExecutor(max_workers=10000) as pool:\n",
    "    r = list(pool.map(query,range(10000)))\n",
    "    print(f\"Average time: {sum(r)/len(r):.2f} seconds\")"
   ],
   "metadata": {
    "collapsed": false
   }
  },
  {
   "cell_type": "markdown",
   "source": [
    "6. Wzrost wielkości indeksu w zależnosci od ilości zaindeksowanch dokumentów"
   ],
   "metadata": {
    "collapsed": false
   }
  },
  {
   "cell_type": "code",
   "execution_count": null,
   "outputs": [],
   "source": [
    "import matplotlib.pyplot as plt\n",
    "\n",
    "batch_size = 1000\n",
    "\n",
    "def plot(data, name):\n",
    "    x = [i for i, _ in enumerate(data)]\n",
    "    y = data\n",
    "\n",
    "    plt.xlabel(f'batch number [every {batch_size} games]')\n",
    "    plt.ylabel(name)\n",
    "    plt.scatter(x, y)\n",
    "    plt.show()\n",
    "\n",
    "\n",
    "def plot_metric(metric, name, transform=lambda x: x):\n",
    "    plot([transform(measurement[metric]) for measurement in measurements], name)\n",
    "\n",
    "measurements.clear()\n",
    "\n",
    "names = [x['name'] for x in typesense_client.collections.retrieve()]\n",
    "\n",
    "if collection_name in names:\n",
    "    typesense_client.collections[collection_name].delete()\n",
    "\n",
    "typesense_client.collections.create(schema)\n",
    "\n",
    "collection = typesense_client.collections[collection_name]\n",
    "\n",
    "measure_metrics()\n",
    "for i in range(0, len(games), batch_size):\n",
    "    print(f\"Indexing batch {i // batch_size + 1}...\")\n",
    "    collection.documents.import_(games[i:i+batch_size], {\n",
    "        'action': 'upsert',\n",
    "    })\n",
    "    measure_metrics()\n",
    "\n",
    "plot_metric(\"system_disk_used_bytes\", \"DISK MB\", lambda x: float(x) / 1024.0 / 1024.0)\n",
    "plot_metric(\"system_cpu_active_percentage\", \"CPU %\", lambda x: float(x))\n",
    "plot_metric(\"system_memory_used_bytes\", \"MEMORY MB\", lambda x: float(x) / 1024.0 / 1024.0)"
   ],
   "metadata": {
    "collapsed": false
   }
  },
  {
   "cell_type": "markdown",
   "source": [
    "7. Porównanie wsparcia da popularnych jezyków programowania oraz próba określenia łatwości korzystania z dokumentacji i jej kompletności"
   ],
   "metadata": {
    "collapsed": false
   }
  }
 ],
 "metadata": {
  "kernelspec": {
   "display_name": "Python 3",
   "language": "python",
   "name": "python3"
  },
  "language_info": {
   "codemirror_mode": {
    "name": "ipython",
    "version": 2
   },
   "file_extension": ".py",
   "mimetype": "text/x-python",
   "name": "python",
   "nbconvert_exporter": "python",
   "pygments_lexer": "ipython2",
   "version": "2.7.6"
  }
 },
 "nbformat": 4,
 "nbformat_minor": 0
}
