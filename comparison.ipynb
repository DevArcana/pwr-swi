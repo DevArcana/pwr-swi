{
 "cells": [
  {
   "cell_type": "code",
   "execution_count": 1,
   "metadata": {
    "collapsed": true,
    "ExecuteTime": {
     "end_time": "2023-05-07T10:31:16.713806Z",
     "start_time": "2023-05-07T10:31:15.139463Z"
    }
   },
   "outputs": [
    {
     "name": "stdout",
     "output_type": "stream",
     "text": [
      "Preloading games...\n",
      "Loaded 1000 games\n"
     ]
    }
   ],
   "source": [
    "import os\n",
    "import chess.pgn\n",
    "from datetime import datetime\n",
    "\n",
    "print('Preloading games...')\n",
    "limit = 1000\n",
    "games = []\n",
    "\n",
    "for path in os.listdir(\"datasets\"):\n",
    "    with open(f'datasets/{path}') as file:\n",
    "        while len(games) < limit:\n",
    "            game = chess.pgn.read_game(file)\n",
    "            if game is None:\n",
    "                break\n",
    "\n",
    "            date = game.headers.get('UTCDate')  # 2012.12.31\n",
    "            time = game.headers.get('UTCTime')  # 23:04:12\n",
    "\n",
    "            ts_game = {\n",
    "                'id': game.headers.get('Site').split('/')[-1],  # [Site \"https://lichess.org/j1dkb5dw\"]\n",
    "                'link': game.headers.get('Site'),\n",
    "                'timestamp_utc': int(datetime.strptime(f'{date} {time}', '%Y.%m.%d %H:%M:%S').timestamp()),\n",
    "                'event': game.headers.get('Event'),\n",
    "                'white': game.headers.get('White'),\n",
    "                'black': game.headers.get('Black'),\n",
    "                'opening': game.headers.get('Opening'),\n",
    "                'termination': game.headers.get('Termination'),\n",
    "                'mainline_moves': str(game.mainline_moves()),\n",
    "            }\n",
    "\n",
    "            games.append(ts_game)\n",
    "print('Loaded {} games'.format(len(games)))"
   ]
  },
  {
   "cell_type": "markdown",
   "source": [
    "# Typesense"
   ],
   "metadata": {
    "collapsed": false
   }
  },
  {
   "cell_type": "code",
   "execution_count": 14,
   "outputs": [
    {
     "name": "stdout",
     "output_type": "stream",
     "text": [
      "Re/Creating collection...\n",
      "Importing games...\n",
      "Done, took 0.07s\n"
     ]
    }
   ],
   "source": [
    "import typesense\n",
    "from timeit import default_timer as timer\n",
    "\n",
    "typesense_client = typesense.Client({\n",
    "    'nodes': [{\n",
    "        'host': 'localhost',\n",
    "        'port': '8108',\n",
    "        'protocol': 'http'\n",
    "    }],\n",
    "    'api_key': 'xyz',\n",
    "    'connection_timeout_seconds': 2\n",
    "})\n",
    "\n",
    "collection_name = 'chess'\n",
    "\n",
    "print(\"Re/Creating collection...\")\n",
    "schema = {\n",
    "    'name': collection_name,\n",
    "    'fields': [\n",
    "        {'name': 'link', 'type': 'string'},  # [Site \"https://lichess.org/j1dkb5dw\"]\n",
    "        {'name': 'timestamp_utc', 'type': 'int32'},  # [UTCDate \"2012.12.31\"] [UTCTime \"23:04:12\"]\n",
    "        {'name': 'event', 'type': 'string'},  # [Event \"Rated Classical game\"]\n",
    "        {'name': 'white', 'type': 'string'},  # [White \"BFG9k\"]\n",
    "        {'name': 'black', 'type': 'string'},  # [Black \"mamalak\"]\n",
    "        {'name': 'opening', 'type': 'string'},  # [Opening \"French Defense: Normal Variation\"]\n",
    "        {'name': 'termination', 'type': 'string'},  # [Termination \"Normal\"]\n",
    "        {'name': 'mainline_moves', 'type': 'string'},  # 1. e4 e6 2. d4 b6 3. a3 Bb7 4. Nc3 Nh6 5. Bxh6 gxh6 6. Be2...\n",
    "    ],\n",
    "    'default_sorting_field': 'timestamp_utc'\n",
    "}\n",
    "\n",
    "names = [x['name'] for x in typesense_client.collections.retrieve()]\n",
    "\n",
    "if collection_name in names:\n",
    "    typesense_client.collections[collection_name].delete()\n",
    "\n",
    "typesense_client.collections.create(schema)\n",
    "\n",
    "collection = typesense_client.collections[collection_name]\n",
    "\n",
    "print(\"Importing games...\")\n",
    "start = timer()\n",
    "collection.documents.import_(games, {\n",
    "    'action': 'upsert',\n",
    "})\n",
    "end = timer()\n",
    "print(f\"Done, took {end - start:.02f}s\")"
   ],
   "metadata": {
    "collapsed": false,
    "ExecuteTime": {
     "end_time": "2023-05-07T10:36:40.119527Z",
     "start_time": "2023-05-07T10:36:40.004568Z"
    }
   }
  },
  {
   "cell_type": "code",
   "execution_count": 33,
   "outputs": [
    {
     "name": "stdout",
     "output_type": "stream",
     "text": [
      "Searching for 'e4 e5 Nf3 Nc6 Bb5 a6 Ba4 Nf6 O-O Be7 Re1 b5 Bb3 O-O c3 d5'...\n",
      "Search took 0.01s\n",
      "\n",
      "Atomicangel vs sakrat (Rated Blitz game)\n",
      "https://lichess.org/cqvdui3a\n",
      "1. e4 e5 2. Nf3 Nc6 3. Bb5 a6 4. Ba4 Nf6 5. O-O Be7 6. Re1 b5 7. Bb3 O-O 8. c3 d5 9. exd5 e4 10. Ng5 Bg4 11. f3 exf3 12. Nxf3 Na5 13. Bc2 Nxd5 14. d4 Bd6 15. Qd3 g6 16. Ne5 Bf5 17. Qe2 Bxc2 18. Qxc2 Qh4 19. g3 Qh3 20. Nd2 Rae8 21. Ndf3 f6 22. b4 fxe5 23. bxa5 Rxf3 24. Qe4 Rxg3+ 25. hxg3 Qxg3+ 26. Kh1 Qxe1+ 27. Qxe1\n",
      "\n"
     ]
    }
   ],
   "source": [
    "query = \"e4 e5 Nf3 Nc6 Bb5 a6 Ba4 Nf6 O-O Be7 Re1 b5 Bb3 O-O c3 d5\"\n",
    "print(\"Searching for '{}'...\".format(query))\n",
    "params = {\n",
    "    'q': query,\n",
    "    'query_by': 'mainline_moves',\n",
    "    'sort_by': 'timestamp_utc:desc',\n",
    "    'per_page': 10,\n",
    "    'page': 1,\n",
    "}\n",
    "start = timer()\n",
    "results = collection.documents.search(params)\n",
    "end = timer()\n",
    "print(\"Search took {:.02f}s\".format(end - start))\n",
    "print()\n",
    "\n",
    "def print_game(game):\n",
    "    print(f\"{game['white']} vs {game['black']} ({game['event']})\")\n",
    "    print(game['link'])\n",
    "    print(game['mainline_moves'])\n",
    "    print()\n",
    "\n",
    "for result in results['hits']:\n",
    "    print_game(result['document'])"
   ],
   "metadata": {
    "collapsed": false,
    "ExecuteTime": {
     "end_time": "2023-05-07T10:42:09.333958Z",
     "start_time": "2023-05-07T10:42:09.324908Z"
    }
   }
  },
  {
   "cell_type": "code",
   "execution_count": null,
   "outputs": [],
   "source": [],
   "metadata": {
    "collapsed": false
   }
  }
 ],
 "metadata": {
  "kernelspec": {
   "display_name": "Python 3",
   "language": "python",
   "name": "python3"
  },
  "language_info": {
   "codemirror_mode": {
    "name": "ipython",
    "version": 2
   },
   "file_extension": ".py",
   "mimetype": "text/x-python",
   "name": "python",
   "nbconvert_exporter": "python",
   "pygments_lexer": "ipython2",
   "version": "2.7.6"
  }
 },
 "nbformat": 4,
 "nbformat_minor": 0
}
