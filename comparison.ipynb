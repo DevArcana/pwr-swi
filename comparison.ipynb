{
 "cells": [
  {
   "cell_type": "code",
   "execution_count": 1,
   "metadata": {
    "ExecuteTime": {
     "end_time": "2023-05-08T20:34:03.598933Z",
     "start_time": "2023-05-08T20:33:28.892330Z"
    },
    "hideCode": true,
    "hidePrompt": true,
    "tags": []
   },
   "outputs": [
    {
     "name": "stdout",
     "output_type": "stream",
     "text": [
      "Preloading games...\n"
     ]
    },
    {
     "data": {
      "application/vnd.jupyter.widget-view+json": {
       "model_id": "0db59705b18c4a8380e25d4ae20b45a9",
       "version_major": 2,
       "version_minor": 0
      },
      "text/plain": [
       "IntProgress(value=0, max=10000)"
      ]
     },
     "metadata": {},
     "output_type": "display_data"
    },
    {
     "name": "stdout",
     "output_type": "stream",
     "text": [
      "Loaded 10000 games\n"
     ]
    }
   ],
   "source": [
    "import os\n",
    "import chess.pgn\n",
    "from datetime import datetime\n",
    "from ipywidgets import IntProgress\n",
    "from IPython.display import display\n",
    "\n",
    "print('Preloading games...')\n",
    "limit = 10_000\n",
    "games = []\n",
    "f = IntProgress(min=0, max=limit)  # instantiate the bar\n",
    "display(f)  # display the bar\n",
    "\n",
    "for path in os.listdir(\"datasets\"):\n",
    "    with open(f'datasets/{path}') as file:\n",
    "        while len(games) < limit:\n",
    "            game = chess.pgn.read_game(file)\n",
    "            if game is None:\n",
    "                break\n",
    "\n",
    "            date = game.headers.get('UTCDate')  # 2012.12.31\n",
    "            time = game.headers.get('UTCTime')  # 23:04:12\n",
    "\n",
    "            ts_game = {\n",
    "                'id': game.headers.get('Site').split('/')[-1],  # [Site \"https://lichess.org/j1dkb5dw\"]\n",
    "                'link': game.headers.get('Site'),\n",
    "                'timestamp_utc': int(datetime.strptime(f'{date} {time}', '%Y.%m.%d %H:%M:%S').timestamp()),\n",
    "                'event': game.headers.get('Event'),\n",
    "                'white': game.headers.get('White'),\n",
    "                'black': game.headers.get('Black'),\n",
    "                'opening': game.headers.get('Opening'),\n",
    "                'termination': game.headers.get('Termination'),\n",
    "                'mainline_moves': str(game.mainline_moves()),\n",
    "            }\n",
    "\n",
    "            games.append(ts_game)\n",
    "            f.value += 1\n",
    "f.layout.display = 'none'\n",
    "print('Loaded {} games'.format(len(games)))\n",
    "\n",
    "\n",
    "def print_game(game):\n",
    "    print(f\"{game['white']} vs {game['black']} ({game['event']})\")\n",
    "    print(game['link'])\n",
    "    print(game['mainline_moves'])\n",
    "    print()\n",
    "\n",
    "\n",
    "def make_markdown_table(array):\n",
    "    nl = \"\\n\"\n",
    "    markdown = nl\n",
    "    markdown += f\"| {' | '.join(array[0])} |\"\n",
    "    markdown += nl\n",
    "    markdown += f\"| {' | '.join(['---'] * len(array[0]))} |\"\n",
    "    markdown += nl\n",
    "    for entry in array[1:]:\n",
    "        markdown += f\"| {' | '.join(map(lambda c: str(c), entry))} |{nl}\"\n",
    "    return markdown\n",
    "\n",
    "\n",
    "# noinspection PyShadowingBuiltins\n",
    "def human_size(bytes, units=None):\n",
    "    minus = bytes < 0\n",
    "    if minus:\n",
    "        bytes = -bytes\n",
    "    if units is None:\n",
    "        units = [' bytes', 'KB', 'MB', 'GB', 'TB', 'PB', 'EB']\n",
    "    formatted = str(bytes) + units[0] if bytes < 1024 or len(units) == 1 else human_size(bytes >> 10, units[1:])\n",
    "    if minus:\n",
    "        formatted = '-' + formatted\n",
    "    return formatted"
   ]
  },
  {
   "cell_type": "markdown",
   "metadata": {
    "hidePrompt": false
   },
   "source": [
    "# Typesense"
   ]
  },
  {
   "cell_type": "code",
   "execution_count": 2,
   "metadata": {
    "ExecuteTime": {
     "end_time": "2023-05-08T20:34:03.673814Z",
     "start_time": "2023-05-08T20:34:03.605940Z"
    },
    "collapsed": false,
    "hideCode": true,
    "hidePrompt": true,
    "jupyter": {
     "outputs_hidden": false
    }
   },
   "outputs": [],
   "source": [
    "import requests\n",
    "import typesense\n",
    "\n",
    "typesense_url = \"http://localhost:8108\"\n",
    "typesense_api_key = \"xyz\"\n",
    "typesense_api_key_header = \"X-TYPESENSE-API-KEY\"\n",
    "\n",
    "typesense_client = typesense.Client({\n",
    "    'nodes': [{\n",
    "        'host': 'localhost',\n",
    "        'port': '8108',\n",
    "        'protocol': 'http'\n",
    "    }],\n",
    "    'api_key': 'xyz',\n",
    "    'connection_timeout_seconds': 2\n",
    "})\n",
    "\n",
    "collection_name = 'chess'\n",
    "\n",
    "measurements = []\n",
    "\n",
    "\n",
    "def measure_metrics():\n",
    "    measurement = requests.get(f\"{typesense_url}/metrics.json\",\n",
    "                               headers={typesense_api_key_header: typesense_api_key}).json()\n",
    "\n",
    "    measurement['system_cpu_active_percentage'] = float(measurement['system_cpu_active_percentage'])\n",
    "    measurement['system_disk_used_bytes'] = int(measurement['system_disk_used_bytes'])\n",
    "    measurement['system_memory_used_bytes'] = int(measurement['system_memory_used_bytes'])\n",
    "    measurement['system_network_received_bytes'] = int(measurement['system_network_received_bytes'])\n",
    "    measurement['system_network_sent_bytes'] = int(measurement['system_network_sent_bytes'])\n",
    "    measurement['typesense_memory_active_bytes'] = int(measurement['typesense_memory_active_bytes'])\n",
    "    measurement['typesense_memory_allocated_bytes'] = int(measurement['typesense_memory_allocated_bytes'])\n",
    "    measurement['typesense_memory_mapped_bytes'] = int(measurement['typesense_memory_mapped_bytes'])\n",
    "    measurement['typesense_memory_metadata_bytes'] = int(measurement['typesense_memory_metadata_bytes'])\n",
    "    measurement['typesense_memory_fragmentation_ratio'] = float(measurement['typesense_memory_fragmentation_ratio'])\n",
    "    measurement['typesense_memory_resident_bytes'] = int(measurement['typesense_memory_resident_bytes'])\n",
    "    measurement['typesense_memory_retained_bytes'] = int(measurement['typesense_memory_retained_bytes'])\n",
    "    measurements.append(measurement)\n",
    "    return measurement\n",
    "\n",
    "\n",
    "def subtract_measurements(m1, m2):\n",
    "    m = {'system_cpu_active_percentage': m1['system_cpu_active_percentage'] - m2['system_cpu_active_percentage'],\n",
    "         'system_disk_used_bytes': m1['system_disk_used_bytes'] - m2['system_disk_used_bytes'],\n",
    "         'system_memory_used_bytes': m1['system_memory_used_bytes'] - m2['system_memory_used_bytes'],\n",
    "         'system_network_received_bytes': m1['system_network_received_bytes'] - m2['system_network_received_bytes'],\n",
    "         'system_network_sent_bytes': m1['system_network_sent_bytes'] - m2['system_network_sent_bytes'],\n",
    "         'typesense_memory_active_bytes': m1['typesense_memory_active_bytes'] - m2['typesense_memory_active_bytes'],\n",
    "         'typesense_memory_allocated_bytes': m1['typesense_memory_allocated_bytes'] - m2[\n",
    "             'typesense_memory_allocated_bytes'],\n",
    "         'typesense_memory_mapped_bytes': m1['typesense_memory_mapped_bytes'] - m2['typesense_memory_mapped_bytes'],\n",
    "         'typesense_memory_metadata_bytes': m1['typesense_memory_metadata_bytes'] - m2[\n",
    "             'typesense_memory_metadata_bytes'],\n",
    "         'typesense_memory_fragmentation_ratio': m1['typesense_memory_fragmentation_ratio'] - m2[\n",
    "             'typesense_memory_fragmentation_ratio'],\n",
    "         'typesense_memory_resident_bytes': m1['typesense_memory_resident_bytes'] - m2[\n",
    "             'typesense_memory_resident_bytes'],\n",
    "         'typesense_memory_retained_bytes': m1['typesense_memory_retained_bytes'] - m2[\n",
    "             'typesense_memory_retained_bytes']}\n",
    "\n",
    "    return m\n",
    "\n",
    "\n",
    "def display_metrics_text(measurement):\n",
    "    print(f\"CPU:                                  {measurement['system_cpu_active_percentage']}%\")\n",
    "    print(f\"system_disk_used_bytes:               {human_size((measurement['system_disk_used_bytes']))}\")\n",
    "    print(f\"system_memory_used_bytes:             {human_size((measurement['system_memory_used_bytes']))}\")\n",
    "    print(f\"system_network_received_bytes:        {human_size((measurement['system_network_received_bytes']))}\")\n",
    "    print(f\"system_network_sent_bytes:            {human_size((measurement['system_network_sent_bytes']))}\")\n",
    "    print(f\"typesense_memory_active_bytes:        {human_size((measurement['typesense_memory_active_bytes']))}\")\n",
    "    print(f\"typesense_memory_allocated_bytes:     {human_size((measurement['typesense_memory_allocated_bytes']))}\")\n",
    "    print(f\"typesense_memory_mapped_bytes:        {human_size((measurement['typesense_memory_mapped_bytes']))}\")\n",
    "    print(f\"typesense_memory_metadata_bytes:      {human_size((measurement['typesense_memory_metadata_bytes']))}\")\n",
    "    print(f\"typesense_memory_fragmentation_ratio: {measurement['typesense_memory_fragmentation_ratio']}\")\n",
    "    print(f\"typesense_memory_resident_bytes:      {human_size((measurement['typesense_memory_resident_bytes']))}\")\n",
    "    print(f\"typesense_memory_retained_bytes:      {human_size((measurement['typesense_memory_retained_bytes']))}\")"
   ]
  },
  {
   "cell_type": "markdown",
   "metadata": {
    "hidePrompt": false
   },
   "source": [
    "1. Średni czas przetwarzania zadania zawierającego 10000 dokumentów (porównanie bedzie się zaczynać na pustym indeksie)"
   ]
  },
  {
   "cell_type": "code",
   "execution_count": 3,
   "metadata": {
    "ExecuteTime": {
     "end_time": "2023-05-08T20:34:03.948812Z",
     "start_time": "2023-05-08T20:34:03.675812Z"
    },
    "collapsed": false,
    "hideCode": true,
    "hideOutput": false,
    "hidePrompt": true,
    "jupyter": {
     "outputs_hidden": false
    }
   },
   "outputs": [
    {
     "name": "stdout",
     "output_type": "stream",
     "text": [
      "Re/Creating collection...\n"
     ]
    }
   ],
   "source": [
    "print(\"Re/Creating collection...\")\n",
    "schema = {\n",
    "    'name': collection_name,\n",
    "    'fields': [\n",
    "        {'name': 'link', 'type': 'string'},  # [Site \"https://lichess.org/j1dkb5dw\"]\n",
    "        {'name': 'timestamp_utc', 'type': 'int32'},  # [UTCDate \"2012.12.31\"] [UTCTime \"23:04:12\"]\n",
    "        {'name': 'event', 'type': 'string'},  # [Event \"Rated Classical game\"]\n",
    "        {'name': 'white', 'type': 'string'},  # [White \"BFG9k\"]\n",
    "        {'name': 'black', 'type': 'string'},  # [Black \"mamalak\"]\n",
    "        {'name': 'opening', 'type': 'string'},  # [Opening \"French Defense: Normal Variation\"]\n",
    "        {'name': 'termination', 'type': 'string'},  # [Termination \"Normal\"]\n",
    "        {'name': 'mainline_moves', 'type': 'string'},  # 1. e4 e6 2. d4 b6 3. a3 Bb7 4. Nc3 Nh6 5. Bxh6 gxh6 6. Be2...\n",
    "    ],\n",
    "    'default_sorting_field': 'timestamp_utc'\n",
    "}\n",
    "\n",
    "names = [x['name'] for x in typesense_client.collections.retrieve()]\n",
    "\n",
    "if collection_name in names:\n",
    "    typesense_client.collections[collection_name].delete()\n",
    "\n",
    "before = measure_metrics()"
   ]
  },
  {
   "cell_type": "code",
   "execution_count": 4,
   "metadata": {
    "ExecuteTime": {
     "end_time": "2023-05-08T20:34:12.601652Z",
     "start_time": "2023-05-08T20:34:03.949813Z"
    },
    "collapsed": false,
    "hideCode": true,
    "hidePrompt": true,
    "jupyter": {
     "outputs_hidden": false
    }
   },
   "outputs": [
    {
     "name": "stdout",
     "output_type": "stream",
     "text": [
      "1.02 s ± 19.8 ms per loop (mean ± std. dev. of 7 runs, 1 loop each)\n"
     ]
    }
   ],
   "source": [
    "%%timeit\n",
    "global collection\n",
    "\n",
    "names = [x['name'] for x in typesense_client.collections.retrieve()]\n",
    "\n",
    "if collection_name in names:\n",
    "    typesense_client.collections[collection_name].delete()\n",
    "\n",
    "typesense_client.collections.create(schema)\n",
    "\n",
    "collection = typesense_client.collections[collection_name]\n",
    "\n",
    "collection.documents.import_(games, {\n",
    "    'action': 'upsert',\n",
    "})"
   ]
  },
  {
   "cell_type": "code",
   "execution_count": 5,
   "metadata": {
    "ExecuteTime": {
     "end_time": "2023-05-08T20:34:12.711639Z",
     "start_time": "2023-05-08T20:34:12.602653Z"
    },
    "collapsed": false,
    "hideCode": false,
    "hidePrompt": false,
    "jupyter": {
     "outputs_hidden": false
    }
   },
   "outputs": [],
   "source": [
    "after = measure_metrics()"
   ]
  },
  {
   "cell_type": "markdown",
   "metadata": {},
   "source": [
    "2. Czas odpowiedzi na pojedyncze zapytania"
   ]
  },
  {
   "cell_type": "code",
   "execution_count": 6,
   "metadata": {
    "ExecuteTime": {
     "end_time": "2023-05-08T20:34:12.715772Z",
     "start_time": "2023-05-08T20:34:12.713640Z"
    },
    "collapsed": false,
    "hideCode": false,
    "hidePrompt": false,
    "jupyter": {
     "outputs_hidden": false
    }
   },
   "outputs": [
    {
     "name": "stdout",
     "output_type": "stream",
     "text": [
      "Searching for '1. e4 e5 2. Nf3 Nc6 3. Bb5 a6 4. Ba4 Nf6'...\n"
     ]
    }
   ],
   "source": [
    "query = \"1. e4 e5 2. Nf3 Nc6 3. Bb5 a6 4. Ba4 Nf6\"\n",
    "print(\"Searching for '{}'...\".format(query))\n",
    "params = {\n",
    "    'q': query,\n",
    "    'query_by': 'mainline_moves',\n",
    "    'per_page': 10,\n",
    "    'page': 1,\n",
    "}"
   ]
  },
  {
   "cell_type": "code",
   "execution_count": 7,
   "metadata": {
    "ExecuteTime": {
     "end_time": "2023-05-08T20:34:14.209897Z",
     "start_time": "2023-05-08T20:34:12.716774Z"
    },
    "collapsed": false,
    "hideCode": false,
    "hidePrompt": false,
    "jupyter": {
     "outputs_hidden": false
    }
   },
   "outputs": [
    {
     "name": "stdout",
     "output_type": "stream",
     "text": [
      "15 ms ± 596 µs per loop (mean ± std. dev. of 7 runs, 100 loops each)\n"
     ]
    }
   ],
   "source": [
    "%%timeit\n",
    "global collection\n",
    "global results\n",
    "results = collection.documents.search(params)"
   ]
  },
  {
   "cell_type": "markdown",
   "metadata": {
    "hideCode": false
   },
   "source": [
    "3. Porównanie wyników wyszukiwania dla jednakowych zapytań"
   ]
  },
  {
   "cell_type": "code",
   "execution_count": 8,
   "metadata": {
    "ExecuteTime": {
     "end_time": "2023-05-08T20:34:14.266925Z",
     "start_time": "2023-05-08T20:34:14.211899Z"
    },
    "collapsed": false,
    "hideCode": false,
    "hidePrompt": false,
    "jupyter": {
     "outputs_hidden": false
    }
   },
   "outputs": [
    {
     "name": "stdout",
     "output_type": "stream",
     "text": [
      "Fisher62 vs bert (Rated Classical game)\n",
      "https://lichess.org/cndw3ifd\n",
      "1. e4 e5 2. Nf3 Nc6 3. Bb5 a6 4. Ba4 Nf6 5. O-O Nxe4 6. Re1 d5 7. d3 Nd6 8. Nxe5 Be7 9. Bxc6+ Kf8 10. Bxd5 Be6 11. Bxe6 fxe6 12. Qf3+ Bf6 13. Bg5 h6 14. Ng6+ Kf7 15. Nxh8+ Qxh8 16. Bxf6 gxf6 17. Nc3 h5 18. Ne4 Nf5 19. Ng3 Ng7 20. Qxb7 Rc8 21. Qxa6 h4 22. Ne4 h3 23. g3 Re8 24. Qc6 Re7 25. a4 Qh5 26. Nd2 Qf5 27. Qf3 Qa5 28. c3 c5 29. Reb1 e5 30. b4 cxb4 31. cxb4 Qc7 32. Nc4 Ne6 33. Qh5+ Kg8 34. Qxh3 Nd4 35. Qg4+ Rg7 36. Qd1 Qc6 37. Nd2 Rh7 38. b5 Qd7 39. Qf1 Qg4 40. Qg2 Ne2+ 41. Kf1 Nd4 42. Re1 Qe6 43. Nf3 Nc2 44. Rac1 Nxe1 45. Nxe1 Qa2 46. Rc8+ Kg7 47. Rc7+ Kg6 48. Rxh7 Kxh7 49. b6 Kg7 50. b7 Qb3 51. a5\n",
      "\n",
      "Fisher62 vs Rodney (Rated Classical game)\n",
      "https://lichess.org/3vnli7c6\n",
      "1. e4 e5 2. Nf3 Nc6 3. Bb5 a6 4. Ba4 b5 5. Bb3 d6 6. h3 Nf6 7. O-O Nxe4 8. Re1 Nf6 9. d4 Be7 10. dxe5 dxe5 11. Qxd8+ Bxd8 12. Nxe5 Nxe5 13. Rxe5+ Be7 14. Bd5 Rb8 15. Bc6+ Bd7 16. Bxd7+ Nxd7 17. Re3 Rb6 18. Bd2 Re6 19. Rxe6 fxe6 20. Nc3 O-O 21. Re1 Bc5 22. Ne4 Bxf2+ 23. Nxf2 Ne5 24. Rxe5\n",
      "\n",
      "BbcNkl_ vs fedalio (Rated Blitz game)\n",
      "https://lichess.org/nwg1n79w\n",
      "1. e4 e5 2. Nf3 Nc6 3. Bb5 a6 4. Ba4 d6 5. O-O Bd7 6. c3 Nf6 7. Re1 Be7 8. d4 O-O 9. Bg5 h6 10. Bh4 exd4 11. cxd4 Bg4 12. d5 Bxf3 13. Qxf3 Ne5 14. Qc3 b5 15. Bc2 Rc8 16. Nd2 c5 17. f4 Ng6 18. Bg3 b4 19. Qc4 a5 20. e5 dxe5 21. fxe5 Nxd5 22. Rad1 Bg5 23. Ne4 Nge7 24. h4 Bxh4 25. Bxh4 Re8 26. Bxe7 Rxe7 27. Rxd5 Qc7 28. Rxc5 Qxe5 29. Rxc8+ Kh7 30. Ng5#\n",
      "\n",
      "torkin vs ChessThom (Rated Classical game)\n",
      "https://lichess.org/rtdeje58\n",
      "1. e4 e5 2. Nf3 Nc6 3. Bb5 a6 4. Ba4 Nf6 5. d3 Bc5 6. h3 O-O 7. O-O d5 8. Bxc6 bxc6 9. Nxe5 Qd6 10. Ng4 Nxg4\n",
      "\n",
      "Monsieur_Tapis vs sambo (Rated Classical game)\n",
      "https://lichess.org/l1s8kauf\n",
      "1. e4 e5 2. Nf3 Nc6 3. Bb5 a6 4. Ba4 b5 5. Bb3 Nf6 6. O-O d5 7. exd5 Nxd5 8. Re1 Bg4 9. h3 Bh5 10. d3 Nd4 11. Rxe5+ Ne7 12. Rxh5 g6 13. Re5 Bg7 14. Re4 Nf5 15. Nc3 O-O 16. Bg5 Re8 17. Qe2 h6 18. Bd2 Nd6 19. Re3 h5 20. Re1 Ndf5 21. Re4 Bf8 22. Bg5 Kg7 23. Nd5 Nd6 24. Rxe7 Bxe7 25. Bxe7 Qd7 26. Qe5+ Kh7 27. Ng5+ Kh6 28. Nf6 Qf5 29. Nxe8 Rxe8 30. Qxf5 Nxf5 31. Nxf7+ Kg7 32. Bb4 Rxe1+ 33. Bxe1 c5 34. Bc3+ Nd4 35. Bxd4+ cxd4 36. Ne5 Kf6 37. Nf3 a5 38. Nxd4\n",
      "\n",
      "Atomicangel vs Masoud43 (Rated Blitz game)\n",
      "https://lichess.org/z9y5v77z\n",
      "1. e4 e5 2. Nf3 Nc6 3. Bb5 a6 4. Ba4 Nf6 5. O-O b5 6. Bb3 d6 7. Re1 Be7 8. c3 Bg4 9. h3 Bh5 10. d3 O-O 11. Nbd2 h6 12. Nf1 Nh7 13. g4 Bg6 14. Ng3 Ng5 15. Kh2 Kh8 16. Rg1 Nxf3+ 17. Qxf3 Bg5 18. Nf5 Ne7 19. h4 Bxc1 20. Raxc1 f6 21. Rg2 Bf7 22. Rcg1 Bxb3 23. axb3 Ng8 24. g5 fxg5 25. hxg5 Qd7 26. gxh6 Nxh6 27. Rxg7 Rxf5 28. exf5 Qxg7 29. Rxg7 Kxg7 30. Qg3+ Kf6 31. Qg6+\n",
      "\n",
      "Atomicangel vs sakrat (Rated Blitz game)\n",
      "https://lichess.org/2k0z9vwz\n",
      "1. e4 e5 2. Nf3 Nc6 3. Bb5 a6 4. Ba4 Nf6 5. O-O Be7 6. Re1 b5 7. Bb3 O-O 8. c3 d5 9. exd5 e4 10. Ng5 Bg4 11. f3 exf3 12. Nxf3 Na5 13. Bc2 Bd6 14. d4 Nxd5 15. Qd3 g6 16. Bg5 Qd7 17. Nbd2 Bf5 18. Ne4 Rfe8 19. Rad1 Nc4 20. Qf1 Nxb2 21. Rb1 Nc4 22. Nxd6 Qxd6 23. Bxf5 gxf5 24. Qd3 Qg6 25. h4 Re4 26. Ne5 Nxe5 27. dxe5 h6 28. Qxd5 Re8 29. Bf6 Qxf6 30. exf6 Rxe1+ 31. Rxe1 Rxe1+ 32. Kf2\n",
      "\n",
      "Atomicangel vs Masterstheven (Rated Blitz game)\n",
      "https://lichess.org/vjaghc9y\n",
      "1. e4 e5 2. Nf3 Nc6 3. Bb5 a6 4. Ba4 Nf6 5. O-O Be7 6. Re1 b5 7. Bb3 O-O 8. c3 d6 9. h3 Na5 10. Bc2 c5 11. d3 Nc6 12. Nbd2 Be6 13. Nf1 h6 14. g4 Qd7 15. Ng3 Rfe8 16. Nf5 Bf8 17. Kh2 d5 18. Qe2 dxe4 19. dxe4 Rad8 20. Rg1 g5 21. Nxg5 hxg5 22. Bxg5 Bg7 23. Qf3 Bxf5 24. gxf5 Kf8 25. Rg2 Ke7 26. Rgg1 Kf8 27. Rad1 Qc7 28. Rxd8 Rxd8 29. Qg3 Ne7 30. Qh4 Neg8 31. Qg3 Re8 32. h4 Qc6 33. h5 Nxh5 34. Qg4 Nhf6\n",
      "\n",
      "Atomicangel vs Masterstheven (Rated Blitz game)\n",
      "https://lichess.org/86rxo9ek\n",
      "1. e4 e5 2. Nf3 Nc6 3. Bb5 a6 4. Ba4 Nf6 5. O-O Be7 6. Re1 b5 7. Bb3 O-O 8. c3 d6 9. h3 Na5 10. Bc2 c5 11. d3 Nc6 12. Nbd2 h6 13. Nf1 Be6 14. Ng3 Re8 15. Be3 Qd7 16. Kh2 d5 17. Qd2 Bf8 18. d4 cxd4 19. cxd4 exd4 20. Nxd4 Nxd4 21. Qxd4 Rac8 22. Rac1 Bc5 23. Qd2 Bxe3 24. Rxe3 dxe4 25. Qxd7 Bxd7 26. Ree1 Bf5 27. Nxf5 Nd5 28. Bb3 Rxc1 29. Rxc1 Nf6 30. Nd6 Re7 31. Nxf7 Kh7 32. Nd6 e3 33. fxe3 Rxe3 34. Rc7 Re5 35. Bc2+ Kh8 36. Rc8+ Ng8 37. Nf7#\n",
      "\n",
      "Vigorito vs Killi (Rated Classical game)\n",
      "https://lichess.org/f2rjwdtt\n",
      "1. e4 Nc6 2. Nf3 e5 3. Bb5 a6 4. Ba4 b5 5. Bb3 Bc5 6. O-O h6 7. c3 d6 8. d4 exd4 9. cxd4 Ba7 10. Nc3 Nf6 11. h3 Qe7 12. Re1 Be6 13. Bc2 Qd7 14. d5 Bxh3 15. gxh3 Qxh3 16. dxc6 Ng4 17. Bf4 Bxf2#\n",
      "\n",
      "\n",
      "Total relevant: 17\n",
      "False positives: 4.00\n",
      "True positives: 6.00\n",
      "Precision: 0.60\n",
      "Recall: 0.35\n",
      "F1: 0.44\n"
     ]
    }
   ],
   "source": [
    "tp = 0\n",
    "fp = 0\n",
    "relevant = 0\n",
    "next_page = True\n",
    "page = 1\n",
    "while next_page:\n",
    "    r = sum(1 if query in x['document']['mainline_moves'] else 0 for x in collection.documents.search({\n",
    "        'q': query,\n",
    "        'query_by': 'mainline_moves',\n",
    "        'per_page': 250,\n",
    "        'page': page,\n",
    "    })['hits'])\n",
    "    page += 1\n",
    "    relevant += r\n",
    "    if r == 0:\n",
    "        next_page = False\n",
    "\n",
    "for result in results['hits']:\n",
    "    if query in result['document']['mainline_moves']:\n",
    "        tp += 1\n",
    "    else:\n",
    "        fp += 1\n",
    "    if tp + fp <= 10:\n",
    "        print_game(result['document'])\n",
    "\n",
    "print()\n",
    "print(\"Total relevant: {}\".format(relevant))\n",
    "print(\"False positives: {:.02f}\".format(fp))\n",
    "print(\"True positives: {:.02f}\".format(tp))\n",
    "print(\"Precision: {:.02f}\".format(tp / (tp + fp)))\n",
    "print(\"Recall: {:.02f}\".format(tp / relevant))\n",
    "print(\"F1: {:.02f}\".format(2 * (tp / (tp + fp)) * (tp / relevant) / ((tp / (tp + fp)) + (tp / relevant))))"
   ]
  },
  {
   "cell_type": "markdown",
   "metadata": {},
   "source": [
    "4. Zużycie procesora i RAMu w momencie przetwarzania zadania zawierającego 10000 dokumentów"
   ]
  },
  {
   "cell_type": "code",
   "execution_count": 9,
   "metadata": {
    "ExecuteTime": {
     "end_time": "2023-05-08T20:34:14.271865Z",
     "start_time": "2023-05-08T20:34:14.266925Z"
    },
    "collapsed": false,
    "hideCode": false,
    "hidePrompt": false,
    "jupyter": {
     "outputs_hidden": false
    }
   },
   "outputs": [
    {
     "name": "stdout",
     "output_type": "stream",
     "text": [
      "BEFORE\n",
      "CPU:                                  1.65%\n",
      "system_disk_used_bytes:               27GB\n",
      "system_memory_used_bytes:             15GB\n",
      "system_network_received_bytes:        2KB\n",
      "system_network_sent_bytes:            1KB\n",
      "typesense_memory_active_bytes:        95MB\n",
      "typesense_memory_allocated_bytes:     56MB\n",
      "typesense_memory_mapped_bytes:        228MB\n",
      "typesense_memory_metadata_bytes:      18MB\n",
      "typesense_memory_fragmentation_ratio: 0.41\n",
      "typesense_memory_resident_bytes:      95MB\n",
      "typesense_memory_retained_bytes:      555MB\n",
      "\n",
      "AFTER\n",
      "CPU:                                  0.0%\n",
      "system_disk_used_bytes:               27GB\n",
      "system_memory_used_bytes:             15GB\n",
      "system_network_received_bytes:        50MB\n",
      "system_network_sent_bytes:            104KB\n",
      "typesense_memory_active_bytes:        115MB\n",
      "typesense_memory_allocated_bytes:     71MB\n",
      "typesense_memory_mapped_bytes:        505MB\n",
      "typesense_memory_metadata_bytes:      19MB\n",
      "typesense_memory_fragmentation_ratio: 0.38\n",
      "typesense_memory_resident_bytes:      115MB\n",
      "typesense_memory_retained_bytes:      368MB\n",
      "\n",
      "DIFF\n",
      "CPU:                                  -1.65%\n",
      "system_disk_used_bytes:               54MB\n",
      "system_memory_used_bytes:             141MB\n",
      "system_network_received_bytes:        50MB\n",
      "system_network_sent_bytes:            102KB\n",
      "typesense_memory_active_bytes:        20MB\n",
      "typesense_memory_allocated_bytes:     15MB\n",
      "typesense_memory_mapped_bytes:        277MB\n",
      "typesense_memory_metadata_bytes:      568KB\n",
      "typesense_memory_fragmentation_ratio: -0.02999999999999997\n",
      "typesense_memory_resident_bytes:      20MB\n",
      "typesense_memory_retained_bytes:      -187MB\n"
     ]
    }
   ],
   "source": [
    "print(\"BEFORE\")\n",
    "display_metrics_text(before)\n",
    "print()\n",
    "\n",
    "print(\"AFTER\")\n",
    "display_metrics_text(after)\n",
    "print()\n",
    "\n",
    "print(\"DIFF\")\n",
    "display_metrics_text(subtract_measurements(after, before))"
   ]
  },
  {
   "cell_type": "markdown",
   "metadata": {},
   "source": [
    "5. Średni czas odpowiedzi pzry wielu jednoczesnych wyszukiwaniach - analiza przeprowadzona będzie na jednej maszynie, przy użyciu jednego skryptu wysyłajacego zapytania HTTP aby zminimalizować wpływ innych czynników niz silnik"
   ]
  },
  {
   "cell_type": "code",
   "execution_count": 10,
   "metadata": {
    "ExecuteTime": {
     "end_time": "2023-05-08T20:34:35.314647Z",
     "start_time": "2023-05-08T20:34:14.272859Z"
    },
    "collapsed": false,
    "hideCode": false,
    "hidePrompt": false,
    "jupyter": {
     "outputs_hidden": false
    }
   },
   "outputs": [
    {
     "name": "stdout",
     "output_type": "stream",
     "text": [
      "Average time: 0.41 seconds\n"
     ]
    }
   ],
   "source": [
    "import requests\n",
    "from timeit import default_timer as timer\n",
    "from concurrent.futures import ThreadPoolExecutor\n",
    "\n",
    "\n",
    "def query(n):\n",
    "    start = timer()\n",
    "    collection.documents.search(params)\n",
    "    end = timer()\n",
    "    return end - start\n",
    "\n",
    "\n",
    "with ThreadPoolExecutor(max_workers=10000) as pool:\n",
    "    r = list(pool.map(query, range(10000)))\n",
    "    print(f\"Average time: {sum(r) / len(r):.2f} seconds\")"
   ]
  },
  {
   "cell_type": "markdown",
   "metadata": {},
   "source": [
    "6. Wzrost wielkości indeksu w zależnosci od ilości zaindeksowanch dokumentów"
   ]
  },
  {
   "cell_type": "code",
   "execution_count": 11,
   "metadata": {
    "ExecuteTime": {
     "end_time": "2023-05-08T20:34:38.432985Z",
     "start_time": "2023-05-08T20:34:35.318649Z"
    },
    "collapsed": false,
    "hideCode": false,
    "hidePrompt": false,
    "jupyter": {
     "outputs_hidden": false
    }
   },
   "outputs": [
    {
     "name": "stdout",
     "output_type": "stream",
     "text": [
      "Indexing batch 1...\n",
      "Indexing batch 2...\n",
      "Indexing batch 3...\n",
      "Indexing batch 4...\n",
      "Indexing batch 5...\n",
      "Indexing batch 6...\n",
      "Indexing batch 7...\n",
      "Indexing batch 8...\n",
      "Indexing batch 9...\n",
      "Indexing batch 10...\n"
     ]
    },
    {
     "data": {
      "image/png": "[encoded data removed]",
      "text/plain": [
       "<Figure size 640x480 with 1 Axes>"
      ]
     },
     "metadata": {},
     "output_type": "display_data"
    },
    {
     "data": {
      "image/png": "[encoded data removed]",
      "text/plain": [
       "<Figure size 640x480 with 1 Axes>"
      ]
     },
     "metadata": {},
     "output_type": "display_data"
    },
    {
     "data": {
      "image/png": "[encoded data removed]",
      "text/plain": [
       "<Figure size 640x480 with 1 Axes>"
      ]
     },
     "metadata": {},
     "output_type": "display_data"
    }
   ],
   "source": [
    "import matplotlib.pyplot as plt\n",
    "\n",
    "batch_size = 1000\n",
    "\n",
    "\n",
    "def plot(data, name):\n",
    "    x = [i for i, _ in enumerate(data)]\n",
    "    y = data\n",
    "\n",
    "    plt.xlabel(f'batch number [every {batch_size} games]')\n",
    "    plt.ylabel(name)\n",
    "    plt.scatter(x, y)\n",
    "    plt.show()\n",
    "\n",
    "\n",
    "def plot_metric(metric, name, transform=lambda x: x):\n",
    "    plot([transform(measurement[metric]) for measurement in measurements], name)\n",
    "\n",
    "\n",
    "measurements.clear()\n",
    "\n",
    "names = [x['name'] for x in typesense_client.collections.retrieve()]\n",
    "\n",
    "if collection_name in names:\n",
    "    typesense_client.collections[collection_name].delete()\n",
    "\n",
    "typesense_client.collections.create(schema)\n",
    "\n",
    "collection = typesense_client.collections[collection_name]\n",
    "\n",
    "measure_metrics()\n",
    "for i in range(0, len(games), batch_size):\n",
    "    print(f\"Indexing batch {i // batch_size + 1}...\")\n",
    "    collection.documents.import_(games[i:i + batch_size], {\n",
    "        'action': 'upsert',\n",
    "    })\n",
    "    measure_metrics()\n",
    "\n",
    "plot_metric(\"system_disk_used_bytes\", \"DISK MB\", lambda x: float(x) / 1024.0 / 1024.0)\n",
    "plot_metric(\"system_cpu_active_percentage\", \"CPU %\", lambda x: float(x))\n",
    "plot_metric(\"system_memory_used_bytes\", \"MEMORY MB\", lambda x: float(x) / 1024.0 / 1024.0)"
   ]
  },
  {
   "cell_type": "markdown",
   "metadata": {},
   "source": [
    "7. Porównanie wsparcia da popularnych jezyków programowania oraz próba określenia łatwości korzystania z dokumentacji i jej kompletności\n",
    "\n",
    "Typesense zapewnia oficjalne wsparcie dla poniższych języków:\n",
    "- JavaScript\n",
    "- PHP\n",
    "- Python\n",
    "- Ruby\n",
    "\n",
    "Istnieją biblioteki utrzymywane przez społeczność:\n",
    "- Go\n",
    "- .Net\n",
    "- Java\n",
    "- Rust\n",
    "- Dart\n",
    "- Perl\n",
    "- Swift\n",
    "- Clojure\n",
    "\n",
    "Niezależnie od wsparcia i obecności gotowej biblioteki, korzystanie z typesense jest proste ze względu na możliwość bezpośredniego wykorzystania REST API.\n",
    "Każda z bibliotek tak naprawdę jest cienkim klientem wysyłającym zapytania HTTP do tego samego API.\n",
    "\n",
    "Pojedyncze biblioteki nie są udokumentowane w szczegółowy sposób.\n",
    "Istnieje dokumentacja REST API, w której brakuje szczegółowych opisów zwracanych danych.\n",
    "Przykładem jest model metryk wydajności klastra, który nie ma opisanych pól takich jak `typesense_memory_fragmentation_ratio`.\n",
    "Większość podstawowej funkcjonalności jest jednak opisana w jasny sposób oraz opatrzona przykładami użycia."
   ]
  },
  {
   "cell_type": "markdown",
   "metadata": {},
   "source": [
    "# Elasticsearch"
   ]
  },
  {
   "cell_type": "code",
   "execution_count": 12,
   "metadata": {
    "ExecuteTime": {
     "end_time": "2023-05-08T20:34:38.609890Z",
     "start_time": "2023-05-08T20:34:38.520990Z"
    },
    "collapsed": false,
    "hideCode": false,
    "hidePrompt": false,
    "jupyter": {
     "outputs_hidden": false
    }
   },
   "outputs": [],
   "source": [
    "from IPython.core.display import Markdown\n",
    "from elasticsearch import Elasticsearch\n",
    "from elasticsearch.helpers import bulk\n",
    "import requests\n",
    "\n",
    "elasticsearch_url = \"http://localhost:9200\"\n",
    "elasticsearch_client = Elasticsearch(elasticsearch_url)\n",
    "collection_name = 'chess'\n",
    "\n",
    "\n",
    "def get_es_stats(description):\n",
    "    node_name = list(elasticsearch_client.nodes.stats()[\"nodes\"].keys())[0]\n",
    "    stats = elasticsearch_client.nodes.stats(node_id=node_name)[\"nodes\"][node_name]\n",
    "    measures = {}\n",
    "    measures[\"Description\"] = description\n",
    "    measures[\"CPU\"] = stats['os']['cpu']['percent']\n",
    "    measures[\"Disk used\"] = stats[\"fs\"][\"total\"][\"total_in_bytes\"] - stats[\"fs\"][\"total\"][\"free_in_bytes\"]\n",
    "    measures[\"Memory usage (total)\"] = stats[\"os\"][\"mem\"][\"used_in_bytes\"]\n",
    "    measures[\"Memory usage (jvm)\"] = stats[\"jvm\"][\"mem\"][\"heap_used_in_bytes\"] + stats[\"jvm\"][\"mem\"][\n",
    "        \"non_heap_used_in_bytes\"]\n",
    "    measures[\"Documents\"] = stats[\"indices\"][\"docs\"][\"count\"]\n",
    "    measures[\"Store size\"] = stats[\"indices\"][\"store\"][\"size_in_bytes\"]\n",
    "    if elasticsearch_client.indices.get(index=collection_name, ignore_unavailable=True) == {}:\n",
    "        measures[f\"Index \\\"{collection_name}\\\" store size\"] = 0\n",
    "    else:\n",
    "        measures[f\"Index \\\"{collection_name}\\\" store size\"] = \\\n",
    "        elasticsearch_client.indices.disk_usage(index=collection_name, run_expensive_tasks=True)[\"chess\"][\n",
    "            \"store_size_in_bytes\"]\n",
    "    return measures\n",
    "\n",
    "\n",
    "def get_values_differences(d1, d2):\n",
    "    results = {}\n",
    "    if d1.keys() == d2.keys():\n",
    "        for key in d1:\n",
    "            if isinstance(d1[key], (int, float, complex)) and isinstance(d1[key], (int, float, complex)):\n",
    "                results[key] = d1[key] - d2[key]\n",
    "            else:\n",
    "                results[key] = d1[key]\n",
    "    return results\n",
    "\n",
    "\n",
    "def print_stats_list(stats_dictionaries):\n",
    "    units = [' bytes', 'KB', 'MB']\n",
    "    rows = [stats_dictionaries[0].keys()]\n",
    "    for dictionary in stats_dictionaries:\n",
    "        values = list(dictionary.values())\n",
    "        rows.append([values[0], f\"{values[1]}%\", f\"{human_size(values[2], units)}\", f\"{human_size(values[3], units)}\",\n",
    "                     f\"{human_size(values[4], units)}\", values[5], f\"{human_size(values[6], units)}\",\n",
    "                     f\"{human_size(values[7], units)}\"])\n",
    "    display(Markdown(make_markdown_table(rows)))"
   ]
  },
  {
   "cell_type": "markdown",
   "metadata": {},
   "source": [
    "1. Średni czas przetwarzania zadania zawierającego 10000 dokumentów (porównanie bedzie się zaczynać na pustym indeksie)\n"
   ]
  },
  {
   "cell_type": "code",
   "execution_count": 13,
   "metadata": {
    "ExecuteTime": {
     "end_time": "2023-05-08T20:34:38.718732Z",
     "start_time": "2023-05-08T20:34:38.610890Z"
    },
    "collapsed": false,
    "hideCode": false,
    "hidePrompt": false,
    "jupyter": {
     "outputs_hidden": false
    },
    "tags": []
   },
   "outputs": [
    {
     "name": "stdout",
     "output_type": "stream",
     "text": [
      "Re/Creating collection...\n"
     ]
    }
   ],
   "source": [
    "print(\"Re/Creating collection...\")\n",
    "schema = {\n",
    "    \"mappings\": {\n",
    "        \"properties\": {\n",
    "            \"link\": {\"type\": \"text\"},  # [Site \"https://lichess.org/j1dkb5dw\"]\n",
    "            \"timestamp_utc\": {\"type\": \"integer\"},  # [UTCDate \"2012.12.31\"] [UTCTime \"23:04:12\"]\n",
    "            \"event\": {\"type\": \"text\"},  # [Event \"Rated Classical game\"]\n",
    "            \"white\": {\"type\": \"text\"},  # [White \"BFG9k\"]\n",
    "            \"black\": {\"type\": \"text\"},  # [Black \"mamalak\"]\n",
    "            \"opening\": {\"type\": \"text\"},  # [Opening \"French Defense: Normal Variation\"]\n",
    "            \"termination\": {\"type\": \"text\"},  # [Termination \"Normal\"]\n",
    "            \"mainline_moves\": {\"type\": \"text\"}  # 1. e4 e6 2. d4 b6 3. a3 Bb7 4. Nc3 Nh6 5. Bxh6 gxh6 6. Be2...\n",
    "        }\n",
    "    }\n",
    "}\n",
    "elasticsearch_client.indices.delete(index=collection_name, ignore_unavailable=True)\n",
    "before = get_es_stats(\"Before\")"
   ]
  },
  {
   "cell_type": "code",
   "execution_count": 14,
   "metadata": {
    "ExecuteTime": {
     "end_time": "2023-05-08T20:34:53.743245Z",
     "start_time": "2023-05-08T20:34:38.719731Z"
    },
    "collapsed": false,
    "hideCode": false,
    "hidePrompt": false,
    "jupyter": {
     "outputs_hidden": false
    }
   },
   "outputs": [
    {
     "name": "stderr",
     "output_type": "stream",
     "text": [
      "<magic-timeit>:2: DeprecationWarning: The 'body' parameter is deprecated and will be removed in a future version. Instead use individual parameters.\n"
     ]
    },
    {
     "name": "stdout",
     "output_type": "stream",
     "text": [
      "1.39 s ± 399 ms per loop (mean ± std. dev. of 7 runs, 1 loop each)\n"
     ]
    }
   ],
   "source": [
    "%%timeit\n",
    "elasticsearch_client.indices.delete(index=collection_name, ignore_unavailable=True)\n",
    "elasticsearch_client.indices.create(index=collection_name, body=schema)\n",
    "bulk(client=elasticsearch_client, index=collection_name, actions=games)\n",
    "elasticsearch_client.indices.flush(index=collection_name)"
   ]
  },
  {
   "cell_type": "code",
   "execution_count": 15,
   "metadata": {
    "ExecuteTime": {
     "end_time": "2023-05-08T20:34:53.798666Z",
     "start_time": "2023-05-08T20:34:53.742242Z"
    },
    "collapsed": false,
    "hideCode": false,
    "hidePrompt": false,
    "jupyter": {
     "outputs_hidden": false
    }
   },
   "outputs": [],
   "source": [
    "after = get_es_stats(\"After\")"
   ]
  },
  {
   "cell_type": "markdown",
   "metadata": {},
   "source": [
    "2. Czas odpowiedzi na pojedyncze zapytania"
   ]
  },
  {
   "cell_type": "code",
   "execution_count": 16,
   "metadata": {
    "ExecuteTime": {
     "end_time": "2023-05-08T20:59:23.514550Z",
     "start_time": "2023-05-08T20:59:23.500408Z"
    },
    "collapsed": false,
    "hideCode": false,
    "hidePrompt": false,
    "jupyter": {
     "outputs_hidden": false
    }
   },
   "outputs": [
    {
     "name": "stdout",
     "output_type": "stream",
     "text": [
      "Searching for '1. e4 e5 2. Nf3 Nc6 3. Bb5 a6 4. Ba4 Nf6'...\n"
     ]
    }
   ],
   "source": [
    "query = \"1. e4 e5 2. Nf3 Nc6 3. Bb5 a6 4. Ba4 Nf6\"\n",
    "print(\"Searching for '{}'...\".format(query))\n",
    "params = {\n",
    "    \"match\": {\n",
    "        \"mainline_moves\": {\n",
    "            \"query\": query\n",
    "        }\n",
    "    }\n",
    "}"
   ]
  },
  {
   "cell_type": "code",
   "execution_count": 17,
   "metadata": {
    "ExecuteTime": {
     "end_time": "2023-05-08T20:59:38.809459Z",
     "start_time": "2023-05-08T20:59:27.872352Z"
    },
    "collapsed": false,
    "hideCode": false,
    "hidePrompt": false,
    "jupyter": {
     "outputs_hidden": false
    }
   },
   "outputs": [
    {
     "name": "stdout",
     "output_type": "stream",
     "text": [
      "11.7 ms ± 1.48 ms per loop (mean ± std. dev. of 7 runs, 100 loops each)\n"
     ]
    }
   ],
   "source": [
    "%%timeit\n",
    "global top10\n",
    "top10 = elasticsearch_client.search(index=collection_name, query=params, size=10)[\"hits\"][\"hits\"]"
   ]
  },
  {
   "cell_type": "markdown",
   "metadata": {},
   "source": [
    "3. Porównanie wyników wyszukiwania dla jednakowych zapytań"
   ]
  },
  {
   "cell_type": "code",
   "execution_count": 18,
   "metadata": {
    "ExecuteTime": {
     "end_time": "2023-05-08T20:59:40.491614Z",
     "start_time": "2023-05-08T20:59:38.809459Z"
    },
    "collapsed": false,
    "hideCode": false,
    "hidePrompt": false,
    "jupyter": {
     "outputs_hidden": false
    }
   },
   "outputs": [
    {
     "name": "stdout",
     "output_type": "stream",
     "text": [
      "torkin vs ChessThom (Rated Classical game)\n",
      "https://lichess.org/rtdeje58\n",
      "1. e4 e5 2. Nf3 Nc6 3. Bb5 a6 4. Ba4 Nf6 5. d3 Bc5 6. h3 O-O 7. O-O d5 8. Bxc6 bxc6 9. Nxe5 Qd6 10. Ng4 Nxg4\n",
      "\n",
      "Fisher62 vs fedalio (Rated Blitz game)\n",
      "https://lichess.org/xgpsv7pd\n",
      "1. e4 e5 2. Nf3 Nc6 3. Bb5 a6 4. Ba4 d6 5. h3 Bd7 6. O-O Nf6 7. Re1 d5 8. exd5 Nxd5 9. Bxc6 Bxc6 10. Nxe5 Bd6 11. Nxc6+\n",
      "\n",
      "DUMBLEDORE vs JohnUA (Rated Blitz game)\n",
      "https://lichess.org/jj35bkh8\n",
      "1. e4 d5 2. exd5 Qxd5 3. Nc3 Qd8 4. Nf3 Nc6 5. Bb5 a6 6. Ba4 b5 7. Bb3 e5 8. O-O b4 9. Ne4 Bg4 10. Ba4 Qd5 11. Re1 Bxf3 12. Qxf3 Bc5 13. Bb3 Qd7 14. Nxc5 Qe7 15. d4 Nxd4 16. Qxa8+ Qd8 17. Bxf7+ Ke7 18. Rxe5+ Kxf7 19. Qxd8\n",
      "\n",
      "Water27 vs MistySchism (Rated Blitz game)\n",
      "https://lichess.org/gpdui94z\n",
      "1. e4 d5 2. exd5 Nf6 3. Bb5+ Nbd7 4. Nf3 a6 5. Ba4 Nxd5 6. O-O b5 7. Bb3 N7b6 8. Nc3 Bb7 9. Nxd5 Nxd5 10. c4 bxc4 11. Ba4+ c6 12. Ne5 Qd6 13. Nxc4 Qb4 14. b3 g6 15. Ba3\n",
      "\n",
      "german11 vs bojan123 (Rated Blitz game)\n",
      "https://lichess.org/9mgqnorh\n",
      "1. e4 e5 2. Nf3 Nc6 3. Bb5 Nge7 4. O-O a6 5. Ba4 b5 6. Bb3 f5 7. d3 fxe4 8. dxe4 d6 9. h3 Ng6 10. c3 Qf6 11. Bg5 Qe6 12. Bxe6\n",
      "\n",
      "kikeillana vs timerider (Rated Bullet game)\n",
      "https://lichess.org/5rhr7yp2\n",
      "1. e4 c5 2. Bb5 a6 3. Ba4\n",
      "\n",
      "Fisher62 vs NOCKA (Rated Classical game)\n",
      "https://lichess.org/4n00p4tn\n",
      "1. e4 e5 2. Nf3 Nc6 3. Bb5 d6 4. h3 Be7 5. O-O Nf6 6. Re1 Bd7 7. c3 a6 8. Ba4 Qc8 9. Bc2 Nh5 10. d4 exd4 11. cxd4 Nb4 12. Bd3 Nxd3 13. Qxd3 Bxh3 14. gxh3 Qxh3 15. Nh2 Qxd3\n",
      "\n",
      "JohnUA vs DUMBLEDORE (Rated Blitz game)\n",
      "https://lichess.org/pn0p35st\n",
      "1. e4 e6 2. d4 d5 3. e5 c5 4. Nf3 Nc6 5. Bb5 Bd7 6. c4 Rc8 7. cxd5 exd5 8. O-O Nge7 9. Bg5 a6 10. Ba4 Qb6 11. Qb3 Qb4 12. dxc5 Ng6 13. Bxc6\n",
      "\n",
      "Fisher62 vs jorespi (Rated Classical game)\n",
      "https://lichess.org/irn97hak\n",
      "1. e4 e5 2. Nf3 Nc6 3. Bb5 d6 4. h3 Nf6 5. O-O Be7 6. Re1 O-O 7. c3 a6 8. Ba4 b5 9. Bb3 Be6 10. Bc2 h6 11. d4 Bd7 12. Nbd2 Qc8 13. Nf1 exd4 14. cxd4 Nb4 15. Bb1 c5 16. a3 Nc6 17. e5 Nd5 18. dxc5\n",
      "\n",
      "ido vs kserks (Rated Blitz game)\n",
      "https://lichess.org/ge0rk50u\n",
      "1. e4 c5 2. d4 cxd4 3. Qxd4 Nc6 4. Qe3 d6 5. f4 Nf6 6. Bb5 a6 7. Ba4 b5 8. Bb3 Bb7 9. c3 Na5 10. Bc2 Nc4 11. Qe2 Qb6 12. b3 Na5 13. Be3 Qc7 14. Bd4 e5\n",
      "\n",
      "\n",
      "Total relevant: 17\n",
      "False positives: 9.00\n",
      "True positives: 1.00\n",
      "Precision: 0.10\n",
      "Recall: 0.06\n",
      "F1: 0.07\n"
     ]
    }
   ],
   "source": [
    "tp = 0\n",
    "fp = 0\n",
    "relevant = 0\n",
    "next_page = True\n",
    "page = 1\n",
    "all_hits = []\n",
    "while next_page:\n",
    "    page_hits = \\\n",
    "    elasticsearch_client.search(index=collection_name, query=params, from_=(page - 1) * 250, size=250)[\"hits\"][\"hits\"]\n",
    "    all_hits += page_hits\n",
    "    page += 1\n",
    "    if len(page_hits) < 250 or page * 250 > limit:\n",
    "        next_page = False\n",
    "relevant += sum(1 if query in hit[\"_source\"][\"mainline_moves\"] else 0 for hit in all_hits)\n",
    "\n",
    "for result in top10:\n",
    "    if query in result[\"_source\"]['mainline_moves']:\n",
    "        tp += 1\n",
    "    else:\n",
    "        fp += 1\n",
    "    print_game(result[\"_source\"])\n",
    "print()\n",
    "print(\"Total relevant: {}\".format(relevant))\n",
    "print(\"False positives: {:.02f}\".format(fp))\n",
    "print(\"True positives: {:.02f}\".format(tp))\n",
    "print(\"Precision: {:.02f}\".format(tp / (tp + fp)))\n",
    "print(\"Recall: {:.02f}\".format(tp / relevant))\n",
    "print(\"F1: {:.02f}\".format(2 * (tp / (tp + fp)) * (tp / relevant) / ((tp / (tp + fp)) + (tp / relevant))))"
   ]
  },
  {
   "cell_type": "markdown",
   "metadata": {},
   "source": [
    "4. Zużycie procesora i RAMu w momencie przetwarzania zadania zawierającego 10000 dokumentów"
   ]
  },
  {
   "cell_type": "code",
   "execution_count": 19,
   "metadata": {
    "ExecuteTime": {
     "end_time": "2023-05-08T20:03:43.668015Z",
     "start_time": "2023-05-08T20:03:43.662260Z"
    },
    "collapsed": false,
    "hideCode": false,
    "hidePrompt": false,
    "jupyter": {
     "outputs_hidden": false
    }
   },
   "outputs": [
    {
     "data": {
      "text/markdown": [
       "\n",
       "| Description | CPU | Disk used | Memory usage (total) | Memory usage (jvm) | Documents | Store size | Index \"chess\" store size |\n",
       "| --- | --- | --- | --- | --- | --- | --- | --- |\n",
       "| Before | 0% | 41380MB | 16972MB | 560MB | 42 | 40MB | 0 bytes |\n",
       "| After | 19% | 41386MB | 16998MB | 815MB | 10042 | 45MB | 5MB |\n",
       "| Difference | 19% | 5MB | 25MB | 254MB | 10000 | 5MB | 5MB |\n"
      ],
      "text/plain": [
       "<IPython.core.display.Markdown object>"
      ]
     },
     "metadata": {},
     "output_type": "display_data"
    }
   ],
   "source": [
    "difference = get_values_differences(after, before)\n",
    "difference[\"Description\"] = \"Difference\"\n",
    "print_stats_list([before, after, difference])"
   ]
  },
  {
   "cell_type": "markdown",
   "metadata": {},
   "source": [
    "5. Średni czas odpowiedzi pzry wielu jednoczesnych wyszukiwaniach - analiza przeprowadzona będzie na jednej maszynie, przy użyciu jednego skryptu wysyłajacego zapytania HTTP aby zminimalizować wpływ innych czynników niz silnik"
   ]
  },
  {
   "cell_type": "code",
   "execution_count": 20,
   "metadata": {
    "ExecuteTime": {
     "end_time": "2023-05-08T20:03:58.074832Z",
     "start_time": "2023-05-08T20:03:43.670016Z"
    },
    "collapsed": false,
    "hideCode": false,
    "hidePrompt": false,
    "jupyter": {
     "outputs_hidden": false
    }
   },
   "outputs": [
    {
     "name": "stdout",
     "output_type": "stream",
     "text": [
      "Average time: 3.86 seconds\n"
     ]
    }
   ],
   "source": [
    "from timeit import default_timer as timer\n",
    "from concurrent.futures import ThreadPoolExecutor\n",
    "\n",
    "\n",
    "def query(n):\n",
    "    start = timer()\n",
    "    elasticsearch_client.search(index=collection_name, query=params, sort={\"timestamp_utc\": {\"order\": \"desc\"}}, size=10)\n",
    "    end = timer()\n",
    "    return end - start\n",
    "\n",
    "\n",
    "with ThreadPoolExecutor(max_workers=10000) as pool:\n",
    "    r = list(pool.map(query, range(10000)))\n",
    "    print(f\"Average time: {sum(r) / len(r):.2f} seconds\")"
   ]
  },
  {
   "cell_type": "markdown",
   "metadata": {},
   "source": [
    "6. Wzrost wielkości indeksu w zależnosci od ilości zaindeksowanch dokumentów"
   ]
  },
  {
   "cell_type": "code",
   "execution_count": 21,
   "metadata": {
    "ExecuteTime": {
     "end_time": "2023-05-08T20:04:00.586026Z",
     "start_time": "2023-05-08T20:03:58.079839Z"
    },
    "collapsed": false,
    "hideCode": false,
    "hidePrompt": false,
    "jupyter": {
     "outputs_hidden": false
    }
   },
   "outputs": [
    {
     "name": "stderr",
     "output_type": "stream",
     "text": [
      "C:\\Users\\kbaci\\AppData\\Local\\Temp\\ipykernel_22328\\298650061.py:19: DeprecationWarning: The 'body' parameter is deprecated and will be removed in a future version. Instead use individual parameters.\n",
      "  elasticsearch_client.indices.create(index=collection_name,body=schema)\n"
     ]
    },
    {
     "name": "stdout",
     "output_type": "stream",
     "text": [
      "Indexing batch 1...\n",
      "Indexing batch 2...\n",
      "Indexing batch 3...\n",
      "Indexing batch 4...\n",
      "Indexing batch 5...\n",
      "Indexing batch 6...\n",
      "Indexing batch 7...\n",
      "Indexing batch 8...\n",
      "Indexing batch 9...\n",
      "Indexing batch 10...\n"
     ]
    },
    {
     "data": {
      "image/png": "[encoded data removed]",
      "text/plain": [
       "<Figure size 640x480 with 1 Axes>"
      ]
     },
     "metadata": {},
     "output_type": "display_data"
    },
    {
     "data": {
      "image/png": "[encoded data removed]",
      "text/plain": [
       "<Figure size 640x480 with 1 Axes>"
      ]
     },
     "metadata": {},
     "output_type": "display_data"
    },
    {
     "data": {
      "image/png": "[encoded data removed]",
      "text/plain": [
       "<Figure size 640x480 with 1 Axes>"
      ]
     },
     "metadata": {},
     "output_type": "display_data"
    },
    {
     "data": {
      "image/png": "[encoded data removed]",
      "text/plain": [
       "<Figure size 640x480 with 1 Axes>"
      ]
     },
     "metadata": {},
     "output_type": "display_data"
    },
    {
     "data": {
      "image/png": "[encoded data removed]",
      "text/plain": [
       "<Figure size 640x480 with 1 Axes>"
      ]
     },
     "metadata": {},
     "output_type": "display_data"
    }
   ],
   "source": [
    "import matplotlib.pyplot as plt\n",
    "\n",
    "batch_size = 1000\n",
    "\n",
    "\n",
    "def plot(data, name):\n",
    "    x = [i for i, _ in enumerate(data)]\n",
    "    y = data\n",
    "\n",
    "    plt.xlabel(f'batch number [every {batch_size} games]')\n",
    "    plt.ylabel(name)\n",
    "    plt.scatter(x, y)\n",
    "    plt.show()\n",
    "\n",
    "\n",
    "def plot_metric(metric, name, transform=lambda x: x):\n",
    "    plot([transform(measurement[metric]) for measurement in measurements], name)\n",
    "\n",
    "\n",
    "elasticsearch_client.indices.delete(index=collection_name, ignore_unavailable=True)\n",
    "elasticsearch_client.indices.create(index=collection_name, body=schema)\n",
    "\n",
    "measurements = [get_es_stats(\"before\")]\n",
    "\n",
    "for i in range(0, len(games), batch_size):\n",
    "    print(f\"Indexing batch {i // batch_size + 1}...\")\n",
    "    bulk(client=elasticsearch_client, index=collection_name, actions=games[i:i + batch_size])\n",
    "    measurements.append(get_es_stats(f\"after {i // batch_size + 1} batch\"))\n",
    "\n",
    "plot_metric(\"CPU\", \"CPU %\", lambda x: float(x))\n",
    "plot_metric(\"Memory usage (jvm)\", \"Memory usage (jvm) [MB]\", lambda x: float(x) / 1024.0 / 1024.0)\n",
    "plot_metric(\"Disk used\", \"Disk used MB\", lambda x: float(x) / 1024.0 / 1024.0)\n",
    "plot_metric(\"Store size\", \"Store size [MB]\", lambda x: x / 1024.0 / 1024.0)\n",
    "plot_metric(f\"Index \\\"{collection_name}\\\" store size\", f\"Index \\\"{collection_name}\\\" store size [MB]\",\n",
    "            lambda x: x / 1024.0 / 1024.0)"
   ]
  },
  {
   "cell_type": "markdown",
   "metadata": {},
   "source": [
    "7. Porównanie wsparcia da popularnych jezyków programowania oraz próba określenia łatwości korzystania z dokumentacji i jej kompletności\n",
    "\n",
    "Elasticsearch posiada klienta dla każdego znaczącego języka, oficjalnego (jak w przypadku języków Java, JavaScript, Ruby, Go, .NET, PHP, Perl, Python, Eland, Rust), bądź nieoficjalnego; może być również obsługiwany przez zapytania do restowego API (klienty to tak naprawdę bardziej lub mniej rozbudowane nakładki).\n",
    "\n",
    "Dokumentacja dla Javy jest kompletna i obfita przykłady, jednak w przypadku pythonowego klienta trzeba posiłkować się dokumentacją API by poznać dopuszczalne argumenty i struktury obiektów.\n",
    "\n",
    "Implementacja zarówno w Scali jak i Pythonie przebiegała bezproblemowo.\n",
    "\n",
    "Jedyne uwagi można mieć do Kibany (GUI panelu administracyjnego), która ukrywa część informacji dotyczących obiektów utworzonych przez klienta/API (np. trzeba dodać ręcznie informację o utworzonym w kliencie indeksie by wyświetlić jego statystyki). Istnieją jednak alternatywne rozwiązania (np. rozszerzenie Elasticvue do przeglądarek)."
   ]
  },
  {
   "cell_type": "markdown",
   "metadata": {},
   "source": [
    "# Solr"
   ]
  },
  {
   "cell_type": "code",
   "execution_count": 22,
   "metadata": {
    "ExecuteTime": {
     "end_time": "2023-05-08T23:27:58.736389Z",
     "start_time": "2023-05-08T23:27:19.844234Z"
    },
    "collapsed": false,
    "hideCode": false,
    "hidePrompt": false,
    "jupyter": {
     "outputs_hidden": false
    }
   },
   "outputs": [],
   "source": [
    "# Init solr\n",
    "\n",
    "\n",
    "import requests\n",
    "from timeit import default_timer as timer\n",
    "from concurrent.futures import ThreadPoolExecutor\n",
    "import chess.pgn\n",
    "from datetime import datetime\n",
    "\n",
    "\n",
    "def create_index():\n",
    "    requests.post(\"http://localhost:8983/api/collections\", json={\n",
    "        \"create\": {\n",
    "            \"name\": \"chess\",\n",
    "            \"numShards\": 1,\n",
    "            \"replicationFactor\": 1\n",
    "        }\n",
    "    })\n",
    "\n",
    "    requests.post(\"http://localhost:8983/api/collections/chess/schema\", json={\n",
    "        \"add-field\": [\n",
    "            {\"name\": \"link\", \"type\": \"text_general\"},\n",
    "            {\"name\": \"timestampUtc\", \"type\": \"pint\"},\n",
    "            {\"name\": \"event\", \"type\": \"text_general\"},\n",
    "            {\"name\": \"white\", \"type\": \"text_general\"},\n",
    "            {\"name\": \"black\", \"type\": \"text_general\"},\n",
    "            {\"name\": \"whiteElo\", \"type\": \"pint\"},\n",
    "            {\"name\": \"blackElo\", \"type\": \"pint\"},\n",
    "            {\"name\": \"opening\", \"type\": \"text_general\"},\n",
    "            {\"name\": \"mainline_moves\", \"type\": \"text_general\"}\n",
    "        ]\n",
    "    })\n",
    "\n",
    "\n",
    "def get_10000():\n",
    "    with open(\"./datasets/lichess_db_standard_rated_2013-01.pgn\") as file:\n",
    "        docs = []\n",
    "        while True:\n",
    "            game = chess.pgn.read_game(file)\n",
    "\n",
    "            if len(docs) == 10000:\n",
    "                return docs\n",
    "\n",
    "            date = game.headers.get('UTCDate')  # 2012.12.31\n",
    "            time = game.headers.get('UTCTime')  # 23:04:12\n",
    "            white_elo = game.headers.get('WhiteElo')\n",
    "            black_elo = game.headers.get('BlackElo')\n",
    "\n",
    "            game = {\n",
    "                'id': game.headers.get('Site').split('/')[-1],  # [Site \"https://lichess.org/j1dkb5dw\"]\n",
    "                'link': game.headers.get('Site'),\n",
    "                'timestampUtc': int(datetime.strptime(f'{date} {time}', '%Y.%m.%d %H:%M:%S').timestamp()),\n",
    "                'event': game.headers.get('Event'),\n",
    "                'white': game.headers.get('White'),\n",
    "                'black': game.headers.get('Black'),\n",
    "                'whiteElo': int(white_elo) if white_elo != \"?\" else 0,\n",
    "                'blackElo': int(black_elo) if black_elo != \"?\" else 0,\n",
    "                'opening': game.headers.get('Opening'),\n",
    "                'mainline_moves': str(game.mainline_moves())\n",
    "            }\n",
    "\n",
    "            docs.append(game)\n",
    "\n",
    "\n",
    "def test_10000(docs):\n",
    "    requests.post(\"http://localhost:8983/api/collections/chess/update?commit=true\", json=docs)\n",
    "\n",
    "\n",
    "def print_game(game):\n",
    "    print(f\"{game['white']} vs {game['black']} ({game['event']})\")\n",
    "    print(game['link'])\n",
    "    print(game['mainline_moves'])\n",
    "    print()\n",
    "\n",
    "\n",
    "create_index()\n",
    "docs_bulk = get_10000()"
   ]
  },
  {
   "cell_type": "markdown",
   "metadata": {},
   "source": [
    "1. Średni czas przetwarzania zadania zawierającego 10000 dokumentów (porównanie bedzie się zaczynać na pustym indeksie)"
   ]
  },
  {
   "cell_type": "code",
   "execution_count": 23,
   "metadata": {
    "ExecuteTime": {
     "end_time": "2023-05-08T23:28:16.115532Z",
     "start_time": "2023-05-08T23:28:06.365500Z"
    },
    "collapsed": false,
    "hideCode": false,
    "hidePrompt": false,
    "jupyter": {
     "outputs_hidden": false
    }
   },
   "outputs": [
    {
     "name": "stdout",
     "output_type": "stream",
     "text": [
      "1.87 s ± 152 ms per loop (mean ± std. dev. of 7 runs, 1 loop each)\n"
     ]
    }
   ],
   "source": [
    "%%timeit\n",
    "\n",
    "test_10000(docs_bulk)"
   ]
  },
  {
   "cell_type": "markdown",
   "metadata": {},
   "source": [
    "2. Czas odpowiedzi na pojedyncze zapytania"
   ]
  },
  {
   "cell_type": "code",
   "execution_count": 24,
   "metadata": {
    "ExecuteTime": {
     "end_time": "2023-05-08T23:28:30.437999Z",
     "start_time": "2023-05-08T23:28:21.390334Z"
    },
    "collapsed": false,
    "hideCode": false,
    "hidePrompt": false,
    "jupyter": {
     "outputs_hidden": false
    }
   },
   "outputs": [
    {
     "name": "stdout",
     "output_type": "stream",
     "text": [
      "1.05 s ± 41.5 ms per loop (mean ± std. dev. of 7 runs, 1 loop each)\n"
     ]
    }
   ],
   "source": [
    "%%timeit\n",
    "\n",
    "query(1)"
   ]
  },
  {
   "cell_type": "markdown",
   "metadata": {
    "hideCode": false
   },
   "source": [
    "3. Porównanie wyników wyszukiwania dla jednakowych zapytań"
   ]
  },
  {
   "cell_type": "code",
   "execution_count": 26,
   "metadata": {
    "ExecuteTime": {
     "end_time": "2023-05-08T23:42:56.518180Z",
     "start_time": "2023-05-08T23:42:56.460113Z"
    },
    "collapsed": false,
    "hideCode": false,
    "hidePrompt": false,
    "jupyter": {
     "outputs_hidden": false
    }
   },
   "outputs": [
    {
     "name": "stdout",
     "output_type": "stream",
     "text": [
      "{'id': 'rtdeje58', 'link': 'https://lichess.org/rtdeje58', 'timestampUtc': 1357208301, 'event': 'Rated Classical game', 'white': 'torkin', 'black': 'ChessThom', 'whiteElo': 1456, 'blackElo': 1618, 'opening': 'Ruy Lopez: Morphy Defense, Anderssen Variation', 'mainline_moves': ['1. e4 e5 2. Nf3 Nc6 3. Bb5 a6 4. Ba4 Nf6 5. d3 Bc5 6. h3 O-O 7. O-O d5 8. Bxc6 bxc6 9. Nxe5 Qd6 10. Ng4 Nxg4'], '_version_': 1765364997266866195}\n",
      "\n",
      "{'id': 'xgpsv7pd', 'link': 'https://lichess.org/xgpsv7pd', 'timestampUtc': 1357068942, 'event': 'Rated Blitz game', 'white': 'Fisher62', 'black': 'fedalio', 'whiteElo': 1809, 'blackElo': 1508, 'opening': 'Ruy Lopez: Morphy Defense, Modern Steinitz Defense #2', 'mainline_moves': ['1. e4 e5 2. Nf3 Nc6 3. Bb5 a6 4. Ba4 d6 5. h3 Bd7 6. O-O Nf6 7. Re1 d5 8. exd5 Nxd5 9. Bxc6 Bxc6 10. Nxe5 Bd6 11. Nxc6+'], '_version_': 1765364996995285006}\n",
      "\n",
      "{'id': 'jj35bkh8', 'link': 'https://lichess.org/jj35bkh8', 'timestampUtc': 1357095410, 'event': 'Rated Blitz game', 'white': 'DUMBLEDORE', 'black': 'JohnUA', 'whiteElo': 1188, 'blackElo': 1239, 'opening': 'Scandinavian Defense: Mieses-Kotroc Variation', 'mainline_moves': ['1. e4 d5 2. exd5 Qxd5 3. Nc3 Qd8 4. Nf3 Nc6 5. Bb5 a6 6. Ba4 b5 7. Bb3 e5 8. O-O b4 9. Ne4 Bg4 10. Ba4 Qd5 11. Re1 Bxf3 12. Qxf3 Bc5 13. Bb3 Qd7 14. Nxc5 Qe7 15. d4 Nxd4 16. Qxa8+ Qd8 17. Bxf7+ Ke7 18. Rxe5+ Kxf7 19. Qxd8'], '_version_': 1765364997037228035}\n",
      "\n",
      "{'id': 'gpdui94z', 'link': 'https://lichess.org/gpdui94z', 'timestampUtc': 1357174665, 'event': 'Rated Blitz game', 'white': 'Water27', 'black': 'MistySchism', 'whiteElo': 1649, 'blackElo': 1770, 'opening': 'Scandinavian Defense: Modern Variation #2', 'mainline_moves': ['1. e4 d5 2. exd5 Nf6 3. Bb5+ Nbd7 4. Nf3 a6 5. Ba4 Nxd5 6. O-O b5 7. Bb3 N7b6 8. Nc3 Bb7 9. Nxd5 Nxd5 10. c4 bxc4 11. Ba4+ c6 12. Ne5 Qd6 13. Nxc4 Qb4 14. b3 g6 15. Ba3'], '_version_': 1765364997219680279}\n",
      "\n",
      "{'id': '9mgqnorh', 'link': 'https://lichess.org/9mgqnorh', 'timestampUtc': 1357228180, 'event': 'Rated Blitz game', 'white': 'german11', 'black': 'bojan123', 'whiteElo': 1534, 'blackElo': 1712, 'opening': 'Ruy Lopez: Cozio Defense', 'mainline_moves': ['1. e4 e5 2. Nf3 Nc6 3. Bb5 Nge7 4. O-O a6 5. Ba4 b5 6. Bb3 f5 7. d3 fxe4 8. dxe4 d6 9. h3 Ng6 10. c3 Qf6 11. Bg5 Qe6 12. Bxe6'], '_version_': 1765364997331877897}\n",
      "\n",
      "{'id': '5rhr7yp2', 'link': 'https://lichess.org/5rhr7yp2', 'timestampUtc': 1357153156, 'event': 'Rated Bullet game', 'white': 'kikeillana', 'black': 'timerider', 'whiteElo': 1571, 'blackElo': 1500, 'opening': 'Sicilian Defense', 'mainline_moves': ['1. e4 c5 2. Bb5 a6 3. Ba4'], '_version_': 1765364997167251467}\n",
      "\n",
      "{'id': '4n00p4tn', 'link': 'https://lichess.org/4n00p4tn', 'timestampUtc': 1357076470, 'event': 'Rated Classical game', 'white': 'Fisher62', 'black': 'NOCKA', 'whiteElo': 1782, 'blackElo': 1870, 'opening': 'Ruy Lopez: Steinitz Defense', 'mainline_moves': ['1. e4 e5 2. Nf3 Nc6 3. Bb5 d6 4. h3 Be7 5. O-O Nf6 6. Re1 Bd7 7. c3 a6 8. Ba4 Qc8 9. Bc2 Nh5 10. d4 exd4 11. cxd4 Nb4 12. Bd3 Nxd3 13. Qxd3 Bxh3 14. gxh3 Qxh3 15. Nh2 Qxd3'], '_version_': 1765364997015207940}\n",
      "\n",
      "{'id': 'pn0p35st', 'link': 'https://lichess.org/pn0p35st', 'timestampUtc': 1357094503, 'event': 'Rated Blitz game', 'white': 'JohnUA', 'black': 'DUMBLEDORE', 'whiteElo': 1226, 'blackElo': 1500, 'opening': 'French Defense: Advance Variation, Nimzowitsch System', 'mainline_moves': ['1. e4 e6 2. d4 d5 3. e5 c5 4. Nf3 Nc6 5. Bb5 Bd7 6. c4 Rc8 7. cxd5 exd5 8. O-O Nge7 9. Bg5 a6 10. Ba4 Qb6 11. Qb3 Qb4 12. dxc5 Ng6 13. Bxc6'], '_version_': 1765364997036179467}\n",
      "\n",
      "{'id': 'irn97hak', 'link': 'https://lichess.org/irn97hak', 'timestampUtc': 1357076795, 'event': 'Rated Classical game', 'white': 'Fisher62', 'black': 'jorespi', 'whiteElo': 1775, 'blackElo': 1596, 'opening': 'Ruy Lopez: Closed Variations, Kholmov Variation', 'mainline_moves': ['1. e4 e5 2. Nf3 Nc6 3. Bb5 d6 4. h3 Nf6 5. O-O Be7 6. Re1 O-O 7. c3 a6 8. Ba4 b5 9. Bb3 Be6 10. Bc2 h6 11. d4 Bd7 12. Nbd2 Qc8 13. Nf1 exd4 14. cxd4 Nb4 15. Bb1 c5 16. a3 Nc6 17. e5 Nd5 18. dxc5'], '_version_': 1765364997015207949}\n",
      "\n",
      "{'id': 'ge0rk50u', 'link': 'https://lichess.org/ge0rk50u', 'timestampUtc': 1357048669, 'event': 'Rated Blitz game', 'white': 'ido', 'black': 'kserks', 'whiteElo': 1583, 'blackElo': 1673, 'opening': 'Sicilian Defense: Smith-Morra Gambit #2', 'mainline_moves': ['1. e4 c5 2. d4 cxd4 3. Qxd4 Nc6 4. Qe3 d6 5. f4 Nf6 6. Bb5 a6 7. Ba4 b5 8. Bb3 Bb7 9. c3 Na5 10. Bc2 Nc4 11. Qe2 Qb6 12. b3 Na5 13. Be3 Qc7 14. Bd4 e5'], '_version_': 1765364996938661892}\n"
     ]
    }
   ],
   "source": [
    "import requests\n",
    "import json\n",
    "\n",
    "moves = '1. e4 e5 2. Nf3 Nc6 3. Bb5 a6 4. Ba4 Nf6'\n",
    "response = json.loads(requests.get(f'http://localhost:8983/solr/chess/query?q=mainline_moves:({moves})').content)\n",
    "print(*response[\"response\"][\"docs\"], sep=\"\\n\\n\")"
   ]
  },
  {
   "cell_type": "code",
   "execution_count": 27,
   "metadata": {
    "ExecuteTime": {
     "end_time": "2023-05-08T23:55:39.097442Z",
     "start_time": "2023-05-08T23:55:37.154281Z"
    },
    "collapsed": false,
    "jupyter": {
     "outputs_hidden": false
    }
   },
   "outputs": [
    {
     "name": "stdout",
     "output_type": "stream",
     "text": [
      "torkin vs ChessThom (Rated Classical game)\n",
      "https://lichess.org/rtdeje58\n",
      "['1. e4 e5 2. Nf3 Nc6 3. Bb5 a6 4. Ba4 Nf6 5. d3 Bc5 6. h3 O-O 7. O-O d5 8. Bxc6 bxc6 9. Nxe5 Qd6 10. Ng4 Nxg4']\n",
      "\n",
      "Fisher62 vs fedalio (Rated Blitz game)\n",
      "https://lichess.org/xgpsv7pd\n",
      "['1. e4 e5 2. Nf3 Nc6 3. Bb5 a6 4. Ba4 d6 5. h3 Bd7 6. O-O Nf6 7. Re1 d5 8. exd5 Nxd5 9. Bxc6 Bxc6 10. Nxe5 Bd6 11. Nxc6+']\n",
      "\n",
      "DUMBLEDORE vs JohnUA (Rated Blitz game)\n",
      "https://lichess.org/jj35bkh8\n",
      "['1. e4 d5 2. exd5 Qxd5 3. Nc3 Qd8 4. Nf3 Nc6 5. Bb5 a6 6. Ba4 b5 7. Bb3 e5 8. O-O b4 9. Ne4 Bg4 10. Ba4 Qd5 11. Re1 Bxf3 12. Qxf3 Bc5 13. Bb3 Qd7 14. Nxc5 Qe7 15. d4 Nxd4 16. Qxa8+ Qd8 17. Bxf7+ Ke7 18. Rxe5+ Kxf7 19. Qxd8']\n",
      "\n",
      "Water27 vs MistySchism (Rated Blitz game)\n",
      "https://lichess.org/gpdui94z\n",
      "['1. e4 d5 2. exd5 Nf6 3. Bb5+ Nbd7 4. Nf3 a6 5. Ba4 Nxd5 6. O-O b5 7. Bb3 N7b6 8. Nc3 Bb7 9. Nxd5 Nxd5 10. c4 bxc4 11. Ba4+ c6 12. Ne5 Qd6 13. Nxc4 Qb4 14. b3 g6 15. Ba3']\n",
      "\n",
      "german11 vs bojan123 (Rated Blitz game)\n",
      "https://lichess.org/9mgqnorh\n",
      "['1. e4 e5 2. Nf3 Nc6 3. Bb5 Nge7 4. O-O a6 5. Ba4 b5 6. Bb3 f5 7. d3 fxe4 8. dxe4 d6 9. h3 Ng6 10. c3 Qf6 11. Bg5 Qe6 12. Bxe6']\n",
      "\n",
      "kikeillana vs timerider (Rated Bullet game)\n",
      "https://lichess.org/5rhr7yp2\n",
      "['1. e4 c5 2. Bb5 a6 3. Ba4']\n",
      "\n",
      "Fisher62 vs NOCKA (Rated Classical game)\n",
      "https://lichess.org/4n00p4tn\n",
      "['1. e4 e5 2. Nf3 Nc6 3. Bb5 d6 4. h3 Be7 5. O-O Nf6 6. Re1 Bd7 7. c3 a6 8. Ba4 Qc8 9. Bc2 Nh5 10. d4 exd4 11. cxd4 Nb4 12. Bd3 Nxd3 13. Qxd3 Bxh3 14. gxh3 Qxh3 15. Nh2 Qxd3']\n",
      "\n",
      "JohnUA vs DUMBLEDORE (Rated Blitz game)\n",
      "https://lichess.org/pn0p35st\n",
      "['1. e4 e6 2. d4 d5 3. e5 c5 4. Nf3 Nc6 5. Bb5 Bd7 6. c4 Rc8 7. cxd5 exd5 8. O-O Nge7 9. Bg5 a6 10. Ba4 Qb6 11. Qb3 Qb4 12. dxc5 Ng6 13. Bxc6']\n",
      "\n",
      "Fisher62 vs jorespi (Rated Classical game)\n",
      "https://lichess.org/irn97hak\n",
      "['1. e4 e5 2. Nf3 Nc6 3. Bb5 d6 4. h3 Nf6 5. O-O Be7 6. Re1 O-O 7. c3 a6 8. Ba4 b5 9. Bb3 Be6 10. Bc2 h6 11. d4 Bd7 12. Nbd2 Qc8 13. Nf1 exd4 14. cxd4 Nb4 15. Bb1 c5 16. a3 Nc6 17. e5 Nd5 18. dxc5']\n",
      "\n",
      "ido vs kserks (Rated Blitz game)\n",
      "https://lichess.org/ge0rk50u\n",
      "['1. e4 c5 2. d4 cxd4 3. Qxd4 Nc6 4. Qe3 d6 5. f4 Nf6 6. Bb5 a6 7. Ba4 b5 8. Bb3 Bb7 9. c3 Na5 10. Bc2 Nc4 11. Qe2 Qb6 12. b3 Na5 13. Be3 Qc7 14. Bd4 e5']\n",
      "\n",
      "\n",
      "Total relevant: 17\n",
      "False positives: 9.00\n",
      "True positives: 1.00\n",
      "Precision: 0.10\n",
      "Recall: 0.06\n",
      "F1: 0.07\n"
     ]
    }
   ],
   "source": [
    "tp = 0\n",
    "fp = 0\n",
    "relevant = 0\n",
    "next_page = True\n",
    "page = 1\n",
    "limit = 10_000\n",
    "query = '1. e4 e5 2. Nf3 Nc6 3. Bb5 a6 4. Ba4 Nf6'\n",
    "all_hits = []\n",
    "top10 = \\\n",
    "json.loads(requests.get(f'http://localhost:8983/solr/chess/query?q=mainline_moves:({query})&rows=10&start=0').content)[\n",
    "    \"response\"][\"docs\"]\n",
    "\n",
    "while next_page:\n",
    "    response = json.loads(requests.get(\n",
    "        f'http://localhost:8983/solr/chess/query?q=mainline_moves:({query})&rows=250&start={(page - 1) * 250}').content)\n",
    "    page_hits = response[\"response\"][\"docs\"]\n",
    "    all_hits += page_hits\n",
    "    page += 1\n",
    "    if len(page_hits) < 250 or page * 250 > limit:\n",
    "        next_page = False\n",
    "relevant += sum(1 if query in hit[\"mainline_moves\"][0] else 0 for hit in all_hits)\n",
    "\n",
    "for result in top10:\n",
    "    if query in result[\"mainline_moves\"][0]:\n",
    "        tp += 1\n",
    "    else:\n",
    "        fp += 1\n",
    "    print_game(result)\n",
    "print()\n",
    "print(\"Total relevant: {}\".format(relevant))\n",
    "print(\"False positives: {:.02f}\".format(fp))\n",
    "print(\"True positives: {:.02f}\".format(tp))\n",
    "print(\"Precision: {:.02f}\".format(tp / (tp + fp)))\n",
    "print(\"Recall: {:.02f}\".format(tp / relevant))\n",
    "print(\"F1: {:.02f}\".format(2 * (tp / (tp + fp)) * (tp / relevant) / ((tp / (tp + fp)) + (tp / relevant))))"
   ]
  },
  {
   "cell_type": "markdown",
   "metadata": {},
   "source": [
    "4. Zużycie procesora i RAMu w momencie przetwarzania zadania zawierającego 10000 dokumentów"
   ]
  },
  {
   "cell_type": "code",
   "execution_count": 28,
   "metadata": {
    "ExecuteTime": {
     "end_time": "2023-05-08T20:05:06.067571Z",
     "start_time": "2023-05-08T20:05:06.063187Z"
    },
    "collapsed": false,
    "hideCode": false,
    "hidePrompt": false,
    "jupyter": {
     "outputs_hidden": false
    }
   },
   "outputs": [
    {
     "name": "stdout",
     "output_type": "stream",
     "text": [
      "Processor usage difference from control value: 19 percentage points\n",
      "RAM usage difference from control value: 0MB\n"
     ]
    }
   ],
   "source": [
    "print(\"Processor usage difference from control value: 19 percentage points\")\n",
    "print(\"RAM usage difference from control value: 0MB\")"
   ]
  },
  {
   "cell_type": "markdown",
   "metadata": {},
   "source": [
    "5. Średni czas odpowiedzi przy wielu jednoczesnych wyszukiwaniach - analiza przeprowadzona będzie na jednej maszynie, przy użyciu jednego skryptu wysyłajacego zapytania HTTP aby zminimalizować wpływ innych czynników niz silnik"
   ]
  },
  {
   "cell_type": "code",
   "execution_count": 41,
   "metadata": {
    "ExecuteTime": {
     "end_time": "2023-05-08T17:09:51.114687Z",
     "start_time": "2023-05-08T17:09:06.187609Z"
    },
    "collapsed": false,
    "hideCode": false,
    "hidePrompt": false,
    "jupyter": {
     "outputs_hidden": false
    }
   },
   "outputs": [
    {
     "name": "stdout",
     "output_type": "stream",
     "text": [
      "Average time: 49.81 seconds\n",
      "On differnt computer: average time was acquired from 100 workers - Solr was unable to process 10000 queries at once. Average time with more workers grows almost linearly, so even if it would work, it is estimated that it would take ~10s\n",
      "On test computer: with 50 workers and only 1000 tasks it took time as written above, despite 20GB of RAM being reported free by container, and CPU usage < 3%\n"
     ]
    }
   ],
   "source": [
    "def query(n):\n",
    "    start = timer()\n",
    "    moves = '1. e4 e5 2. Nf3 Nc6 3. Bb5 a6 4. Ba4 Nf6'\n",
    "    requests.get(f\"http://localhost:8983/solr/chess/query?q=mainline_moves:({moves})\")\n",
    "    end = timer()\n",
    "    return end - start\n",
    "\n",
    "\n",
    "with ThreadPoolExecutor(max_workers=50) as pool:\n",
    "    # 500+: error\n",
    "    # 300: 1.01s, 8% CPU\n",
    "    # 100: 0.4s, 8%\n",
    "    # 50: 0.17s, 8%\n",
    "    # 10: 0.04s, 8%\n",
    "    r = list(pool.map(query, range(1000)))\n",
    "    print(f\"Average time: {sum(r) / len(r):.2f} seconds\")\n",
    "\n",
    "print(\n",
    "    \"On differnt computer: average time was acquired from 100 workers - Solr was unable to process 10000 queries at once. Average time with more workers grows almost linearly, so even if it would work, it is estimated that it would take ~10s\")\n",
    "print(\n",
    "    \"On test computer: with 50 workers and only 1000 tasks it took time as written above, even if only number of tasks was increased solr would stop responding, despite 20GB of RAM being reported free by container, and CPU usage < 5%\")"
   ]
  },
  {
   "cell_type": "markdown",
   "metadata": {},
   "source": [
    "6. Wzrost wielkości indeksu w zależnosci od ilości zaindeksowanch dokumentów"
   ]
  },
  {
   "cell_type": "code",
   "execution_count": 42,
   "metadata": {
    "ExecuteTime": {
     "end_time": "2023-05-08T16:35:35.829941Z",
     "start_time": "2023-05-08T16:35:35.720402Z"
    },
    "collapsed": false,
    "hideCode": false,
    "hidePrompt": false,
    "jupyter": {
     "outputs_hidden": false
    }
   },
   "outputs": [
    {
     "data": {
      "image/png": "[encoded data removed]",
      "text/plain": [
       "<Figure size 640x480 with 1 Axes>"
      ]
     },
     "metadata": {},
     "output_type": "display_data"
    }
   ],
   "source": [
    "import matplotlib.pyplot as plt\n",
    "\n",
    "\n",
    "def plot():\n",
    "    x = [0, 322000, 493000, 673000, 943000, 1183000, 1393000, 1573000, 1921000, 2000000, 2210000, 2346000,\n",
    "         2706000, 2870000, 3200000, 3328000, 3386000]\n",
    "    y = [a / 1024 for a in\n",
    "         [0, 292, 451, 660, 941, 1060, 1320, 1470, 1800, 1860, 1960, 2080, 2330, 2630, 2680, 2970, 3020]]\n",
    "\n",
    "    plt.scatter(x, y)\n",
    "    plt.show()\n",
    "\n",
    "\n",
    "plot()"
   ]
  },
  {
   "cell_type": "markdown",
   "metadata": {},
   "source": [
    "7. Porównanie wsparcia da popularnych jezyków programowania oraz próba określenia łatwości korzystania z dokumentacji i jej kompletności\n",
    "\n",
    "Java jest jedynym językiem programowania, który jest bezpośrednio wspierany przez Solr. Niestety, mimo to dokumentacja bywa przestarzała - klasa `HttpSolrClient` jest już oznaczona jako deprecated, jednakże stanowi trzon przykładów użycia klienta.\n",
    "\n",
    "Aby korzystać z innego języka programowania niż Java, można wykorzystać zapytania HTTP. Niestety, informacje o korzystaniu z nich są bardzo wybrakowane. Przykładowo, problemem było już samo zadeklarowanie struktury indeksowanych dokumentów, gdyż dokumentacja nigdzie nie specyfikuje dostępnych typów danych. Jedynym miejscem, w którym można je znaleźć, jest przykład użycia:\n",
    "\n",
    "![solr](./images/solr1.png)"
   ]
  },
  {
   "cell_type": "markdown",
   "source": [
    "# Porównanie\n",
    "\n",
    "| Silnik        | Czas indeksowania | Czas pojedynczego zapytania | Średni czas 10k zapytań | Precision | Recall | F1   |\n",
    "|---------------|-------------------|-----------------------------|-------------------------|-----------|--------|------|\n",
    "| Solr          | 1.87s             | 1050ms                      | 49.81s (tylko 50 req)   | 0.1       | 0.06   | 0.07 |\n",
    "| Elasticsearch | 1.39s             | 11ms                        | 3.86s                   | 0.1       | 0.06   | 0.07 |\n",
    "| Typesense     | 1.02s             | 15ms                        | 0.41s                   | 0.6       | 0.35   | 0.44 |"
   ],
   "metadata": {
    "collapsed": false
   }
  },
  {
   "cell_type": "code",
   "execution_count": null,
   "outputs": [],
   "source": [],
   "metadata": {
    "collapsed": false
   }
  }
 ],
 "metadata": {
  "celltoolbar": "Hide code",
  "kernelspec": {
   "display_name": "Python 3 (ipykernel)",
   "language": "python",
   "name": "python3"
  },
  "language_info": {
   "codemirror_mode": {
    "name": "ipython",
    "version": 3
   },
   "file_extension": ".py",
   "mimetype": "text/x-python",
   "name": "python",
   "nbconvert_exporter": "python",
   "pygments_lexer": "ipython3",
   "version": "3.11.2"
  }
 },
 "nbformat": 4,
 "nbformat_minor": 4
}
