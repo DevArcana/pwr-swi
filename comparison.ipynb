{
 "cells": [
  {
   "cell_type": "code",
   "execution_count": 55,
   "metadata": {
    "collapsed": true,
    "ExecuteTime": {
     "end_time": "2023-05-08T17:09:37.647519Z",
     "start_time": "2023-05-08T17:09:20.180783Z"
    }
   },
   "outputs": [
    {
     "name": "stdout",
     "output_type": "stream",
     "text": [
      "Preloading games...\n",
      "Loaded 10000 games\n"
     ]
    }
   ],
   "source": [
    "import os\n",
    "import chess.pgn\n",
    "from datetime import datetime\n",
    "\n",
    "print('Preloading games...')\n",
    "limit = 10_000\n",
    "games = []\n",
    "\n",
    "for path in os.listdir(\"datasets\"):\n",
    "    with open(f'datasets/{path}') as file:\n",
    "        while len(games) < limit:\n",
    "            game = chess.pgn.read_game(file)\n",
    "            if game is None:\n",
    "                break\n",
    "\n",
    "            date = game.headers.get('UTCDate')  # 2012.12.31\n",
    "            time = game.headers.get('UTCTime')  # 23:04:12\n",
    "\n",
    "            ts_game = {\n",
    "                'id': game.headers.get('Site').split('/')[-1],  # [Site \"https://lichess.org/j1dkb5dw\"]\n",
    "                'link': game.headers.get('Site'),\n",
    "                'timestamp_utc': int(datetime.strptime(f'{date} {time}', '%Y.%m.%d %H:%M:%S').timestamp()),\n",
    "                'event': game.headers.get('Event'),\n",
    "                'white': game.headers.get('White'),\n",
    "                'black': game.headers.get('Black'),\n",
    "                'opening': game.headers.get('Opening'),\n",
    "                'termination': game.headers.get('Termination'),\n",
    "                'mainline_moves': str(game.mainline_moves()),\n",
    "            }\n",
    "\n",
    "            games.append(ts_game)\n",
    "print('Loaded {} games'.format(len(games)))\n",
    "\n",
    "\n",
    "def print_game(game):\n",
    "    print(f\"{game['white']} vs {game['black']} ({game['event']})\")\n",
    "    print(game['link'])\n",
    "    print(game['mainline_moves'])\n",
    "    print()"
   ]
  },
  {
   "cell_type": "markdown",
   "source": [
    "# Typesense"
   ],
   "metadata": {
    "collapsed": false
   }
  },
  {
   "cell_type": "code",
   "execution_count": 56,
   "outputs": [],
   "source": [
    "import requests\n",
    "import typesense\n",
    "\n",
    "typesense_url = \"http://localhost:8108\"\n",
    "typesense_api_key = \"xyz\"\n",
    "typesense_api_key_header = \"X-TYPESENSE-API-KEY\"\n",
    "\n",
    "typesense_client = typesense.Client({\n",
    "    'nodes': [{\n",
    "        'host': 'localhost',\n",
    "        'port': '8108',\n",
    "        'protocol': 'http'\n",
    "    }],\n",
    "    'api_key': 'xyz',\n",
    "    'connection_timeout_seconds': 2\n",
    "})\n",
    "\n",
    "collection_name = 'chess'\n",
    "\n",
    "measurements = []\n",
    "\n",
    "\n",
    "# noinspection PyShadowingBuiltins\n",
    "def human_size(bytes, units=None):\n",
    "    minus = bytes < 0\n",
    "    if minus:\n",
    "        bytes = -bytes\n",
    "    if units is None:\n",
    "        units = [' bytes', 'KB', 'MB', 'GB', 'TB', 'PB', 'EB']\n",
    "    formatted = str(bytes) + units[0] if bytes < 1024 else human_size(bytes >> 10, units[1:])\n",
    "    if minus:\n",
    "        formatted = '-' + formatted\n",
    "    return formatted\n",
    "\n",
    "\n",
    "def measure_metrics():\n",
    "    measurement = requests.get(f\"{typesense_url}/metrics.json\",\n",
    "                               headers={typesense_api_key_header: typesense_api_key}).json()\n",
    "\n",
    "    measurement['system_cpu_active_percentage'] = float(measurement['system_cpu_active_percentage'])\n",
    "    measurement['system_disk_used_bytes'] = int(measurement['system_disk_used_bytes'])\n",
    "    measurement['system_memory_used_bytes'] = int(measurement['system_memory_used_bytes'])\n",
    "    measurement['system_network_received_bytes'] = int(measurement['system_network_received_bytes'])\n",
    "    measurement['system_network_sent_bytes'] = int(measurement['system_network_sent_bytes'])\n",
    "    measurement['typesense_memory_active_bytes'] = int(measurement['typesense_memory_active_bytes'])\n",
    "    measurement['typesense_memory_allocated_bytes'] = int(measurement['typesense_memory_allocated_bytes'])\n",
    "    measurement['typesense_memory_mapped_bytes'] = int(measurement['typesense_memory_mapped_bytes'])\n",
    "    measurement['typesense_memory_metadata_bytes'] = int(measurement['typesense_memory_metadata_bytes'])\n",
    "    measurement['typesense_memory_fragmentation_ratio'] = float(measurement['typesense_memory_fragmentation_ratio'])\n",
    "    measurement['typesense_memory_resident_bytes'] = int(measurement['typesense_memory_resident_bytes'])\n",
    "    measurement['typesense_memory_retained_bytes'] = int(measurement['typesense_memory_retained_bytes'])\n",
    "    measurements.append(measurement)\n",
    "    return measurement\n",
    "\n",
    "\n",
    "def subtract_measurements(m1, m2):\n",
    "    m = {'system_cpu_active_percentage': m1['system_cpu_active_percentage'] - m2['system_cpu_active_percentage'],\n",
    "         'system_disk_used_bytes': m1['system_disk_used_bytes'] - m2['system_disk_used_bytes'],\n",
    "         'system_memory_used_bytes': m1['system_memory_used_bytes'] - m2['system_memory_used_bytes'],\n",
    "         'system_network_received_bytes': m1['system_network_received_bytes'] - m2['system_network_received_bytes'],\n",
    "         'system_network_sent_bytes': m1['system_network_sent_bytes'] - m2['system_network_sent_bytes'],\n",
    "         'typesense_memory_active_bytes': m1['typesense_memory_active_bytes'] - m2['typesense_memory_active_bytes'],\n",
    "         'typesense_memory_allocated_bytes': m1['typesense_memory_allocated_bytes'] - m2[\n",
    "             'typesense_memory_allocated_bytes'],\n",
    "         'typesense_memory_mapped_bytes': m1['typesense_memory_mapped_bytes'] - m2['typesense_memory_mapped_bytes'],\n",
    "         'typesense_memory_metadata_bytes': m1['typesense_memory_metadata_bytes'] - m2[\n",
    "             'typesense_memory_metadata_bytes'],\n",
    "         'typesense_memory_fragmentation_ratio': m1['typesense_memory_fragmentation_ratio'] - m2[\n",
    "             'typesense_memory_fragmentation_ratio'],\n",
    "         'typesense_memory_resident_bytes': m1['typesense_memory_resident_bytes'] - m2[\n",
    "             'typesense_memory_resident_bytes'],\n",
    "         'typesense_memory_retained_bytes': m1['typesense_memory_retained_bytes'] - m2[\n",
    "             'typesense_memory_retained_bytes']}\n",
    "\n",
    "    return m\n",
    "\n",
    "\n",
    "def display_metrics_text(measurement):\n",
    "    print(f\"CPU:                                  {measurement['system_cpu_active_percentage']}%\")\n",
    "    print(f\"system_disk_used_bytes:               {human_size((measurement['system_disk_used_bytes']))}\")\n",
    "    print(f\"system_memory_used_bytes:             {human_size((measurement['system_memory_used_bytes']))}\")\n",
    "    print(f\"system_network_received_bytes:        {human_size((measurement['system_network_received_bytes']))}\")\n",
    "    print(f\"system_network_sent_bytes:            {human_size((measurement['system_network_sent_bytes']))}\")\n",
    "    print(f\"typesense_memory_active_bytes:        {human_size((measurement['typesense_memory_active_bytes']))}\")\n",
    "    print(f\"typesense_memory_allocated_bytes:     {human_size((measurement['typesense_memory_allocated_bytes']))}\")\n",
    "    print(f\"typesense_memory_mapped_bytes:        {human_size((measurement['typesense_memory_mapped_bytes']))}\")\n",
    "    print(f\"typesense_memory_metadata_bytes:      {human_size((measurement['typesense_memory_metadata_bytes']))}\")\n",
    "    print(f\"typesense_memory_fragmentation_ratio: {measurement['typesense_memory_fragmentation_ratio']}\")\n",
    "    print(f\"typesense_memory_resident_bytes:      {human_size((measurement['typesense_memory_resident_bytes']))}\")\n",
    "    print(f\"typesense_memory_retained_bytes:      {human_size((measurement['typesense_memory_retained_bytes']))}\")"
   ],
   "metadata": {
    "collapsed": false,
    "ExecuteTime": {
     "end_time": "2023-05-08T17:09:37.655128Z",
     "start_time": "2023-05-08T17:09:37.653708Z"
    }
   }
  },
  {
   "cell_type": "markdown",
   "source": [
    "1. Średni czas przetwarzania zadania zawierającego 10000 dokumentów (porównanie bedzie się zaczynać na pustym indeksie)"
   ],
   "metadata": {
    "collapsed": false
   }
  },
  {
   "cell_type": "code",
   "execution_count": 57,
   "outputs": [
    {
     "name": "stdout",
     "output_type": "stream",
     "text": [
      "Re/Creating collection...\n"
     ]
    }
   ],
   "source": [
    "print(\"Re/Creating collection...\")\n",
    "schema = {\n",
    "    'name': collection_name,\n",
    "    'fields': [\n",
    "        {'name': 'link', 'type': 'string'},  # [Site \"https://lichess.org/j1dkb5dw\"]\n",
    "        {'name': 'timestamp_utc', 'type': 'int32'},  # [UTCDate \"2012.12.31\"] [UTCTime \"23:04:12\"]\n",
    "        {'name': 'event', 'type': 'string'},  # [Event \"Rated Classical game\"]\n",
    "        {'name': 'white', 'type': 'string'},  # [White \"BFG9k\"]\n",
    "        {'name': 'black', 'type': 'string'},  # [Black \"mamalak\"]\n",
    "        {'name': 'opening', 'type': 'string'},  # [Opening \"French Defense: Normal Variation\"]\n",
    "        {'name': 'termination', 'type': 'string'},  # [Termination \"Normal\"]\n",
    "        {'name': 'mainline_moves', 'type': 'string'},  # 1. e4 e6 2. d4 b6 3. a3 Bb7 4. Nc3 Nh6 5. Bxh6 gxh6 6. Be2...\n",
    "    ],\n",
    "    'default_sorting_field': 'timestamp_utc'\n",
    "}\n",
    "\n",
    "names = [x['name'] for x in typesense_client.collections.retrieve()]\n",
    "\n",
    "if collection_name in names:\n",
    "    typesense_client.collections[collection_name].delete()\n",
    "\n",
    "before = measure_metrics()"
   ],
   "metadata": {
    "collapsed": false,
    "ExecuteTime": {
     "end_time": "2023-05-08T17:09:37.856326Z",
     "start_time": "2023-05-08T17:09:37.657237Z"
    }
   }
  },
  {
   "cell_type": "code",
   "execution_count": 58,
   "outputs": [
    {
     "name": "stdout",
     "output_type": "stream",
     "text": [
      "733 ms ± 9.78 ms per loop (mean ± std. dev. of 7 runs, 1 loop each)\n"
     ]
    }
   ],
   "source": [
    "%%timeit\n",
    "global collection\n",
    "\n",
    "names = [x['name'] for x in typesense_client.collections.retrieve()]\n",
    "\n",
    "if collection_name in names:\n",
    "    typesense_client.collections[collection_name].delete()\n",
    "\n",
    "typesense_client.collections.create(schema)\n",
    "\n",
    "collection = typesense_client.collections[collection_name]\n",
    "\n",
    "collection.documents.import_(games, {\n",
    "    'action': 'upsert',\n",
    "})"
   ],
   "metadata": {
    "collapsed": false,
    "ExecuteTime": {
     "end_time": "2023-05-08T17:09:43.743083Z",
     "start_time": "2023-05-08T17:09:37.855857Z"
    }
   }
  },
  {
   "cell_type": "code",
   "execution_count": 59,
   "outputs": [],
   "source": [
    "after = measure_metrics()"
   ],
   "metadata": {
    "collapsed": false,
    "ExecuteTime": {
     "end_time": "2023-05-08T17:09:43.853894Z",
     "start_time": "2023-05-08T17:09:43.744415Z"
    }
   }
  },
  {
   "cell_type": "markdown",
   "source": [
    "2. Czas odpowiedzi na pojedyncze zapytania"
   ],
   "metadata": {
    "collapsed": false
   }
  },
  {
   "cell_type": "code",
   "execution_count": 133,
   "outputs": [
    {
     "name": "stdout",
     "output_type": "stream",
     "text": [
      "Searching for '1. e4 e5 2. Nf3 Nc6 3. Bb5 a6 4. Ba4 Nf6'...\n"
     ]
    }
   ],
   "source": [
    "query = \"1. e4 e5 2. Nf3 Nc6 3. Bb5 a6 4. Ba4 Nf6\"\n",
    "print(\"Searching for '{}'...\".format(query))\n",
    "params = {\n",
    "    'q': query,\n",
    "    'query_by': 'mainline_moves',\n",
    "    'per_page': 10,\n",
    "    'page': 1,\n",
    "}"
   ],
   "metadata": {
    "collapsed": false,
    "ExecuteTime": {
     "end_time": "2023-05-08T17:26:26.172244Z",
     "start_time": "2023-05-08T17:26:26.168236Z"
    }
   }
  },
  {
   "cell_type": "code",
   "execution_count": null,
   "outputs": [],
   "source": [
    "%%timeit\n",
    "global collection\n",
    "global results\n",
    "results = collection.documents.search(params)"
   ],
   "metadata": {
    "collapsed": false
   }
  },
  {
   "cell_type": "markdown",
   "source": [
    "3. Porównanie wyników wyszukiwania dla jednakowych zapytań"
   ],
   "metadata": {
    "collapsed": false
   }
  },
  {
   "cell_type": "code",
   "execution_count": 135,
   "outputs": [
    {
     "name": "stdout",
     "output_type": "stream",
     "text": [
      "Fisher62 vs bert (Rated Classical game)\n",
      "https://lichess.org/cndw3ifd\n",
      "1. e4 e5 2. Nf3 Nc6 3. Bb5 a6 4. Ba4 Nf6 5. O-O Nxe4 6. Re1 d5 7. d3 Nd6 8. Nxe5 Be7 9. Bxc6+ Kf8 10. Bxd5 Be6 11. Bxe6 fxe6 12. Qf3+ Bf6 13. Bg5 h6 14. Ng6+ Kf7 15. Nxh8+ Qxh8 16. Bxf6 gxf6 17. Nc3 h5 18. Ne4 Nf5 19. Ng3 Ng7 20. Qxb7 Rc8 21. Qxa6 h4 22. Ne4 h3 23. g3 Re8 24. Qc6 Re7 25. a4 Qh5 26. Nd2 Qf5 27. Qf3 Qa5 28. c3 c5 29. Reb1 e5 30. b4 cxb4 31. cxb4 Qc7 32. Nc4 Ne6 33. Qh5+ Kg8 34. Qxh3 Nd4 35. Qg4+ Rg7 36. Qd1 Qc6 37. Nd2 Rh7 38. b5 Qd7 39. Qf1 Qg4 40. Qg2 Ne2+ 41. Kf1 Nd4 42. Re1 Qe6 43. Nf3 Nc2 44. Rac1 Nxe1 45. Nxe1 Qa2 46. Rc8+ Kg7 47. Rc7+ Kg6 48. Rxh7 Kxh7 49. b6 Kg7 50. b7 Qb3 51. a5\n",
      "\n",
      "Fisher62 vs Rodney (Rated Classical game)\n",
      "https://lichess.org/3vnli7c6\n",
      "1. e4 e5 2. Nf3 Nc6 3. Bb5 a6 4. Ba4 b5 5. Bb3 d6 6. h3 Nf6 7. O-O Nxe4 8. Re1 Nf6 9. d4 Be7 10. dxe5 dxe5 11. Qxd8+ Bxd8 12. Nxe5 Nxe5 13. Rxe5+ Be7 14. Bd5 Rb8 15. Bc6+ Bd7 16. Bxd7+ Nxd7 17. Re3 Rb6 18. Bd2 Re6 19. Rxe6 fxe6 20. Nc3 O-O 21. Re1 Bc5 22. Ne4 Bxf2+ 23. Nxf2 Ne5 24. Rxe5\n",
      "\n",
      "BbcNkl_ vs fedalio (Rated Blitz game)\n",
      "https://lichess.org/nwg1n79w\n",
      "1. e4 e5 2. Nf3 Nc6 3. Bb5 a6 4. Ba4 d6 5. O-O Bd7 6. c3 Nf6 7. Re1 Be7 8. d4 O-O 9. Bg5 h6 10. Bh4 exd4 11. cxd4 Bg4 12. d5 Bxf3 13. Qxf3 Ne5 14. Qc3 b5 15. Bc2 Rc8 16. Nd2 c5 17. f4 Ng6 18. Bg3 b4 19. Qc4 a5 20. e5 dxe5 21. fxe5 Nxd5 22. Rad1 Bg5 23. Ne4 Nge7 24. h4 Bxh4 25. Bxh4 Re8 26. Bxe7 Rxe7 27. Rxd5 Qc7 28. Rxc5 Qxe5 29. Rxc8+ Kh7 30. Ng5#\n",
      "\n",
      "torkin vs ChessThom (Rated Classical game)\n",
      "https://lichess.org/rtdeje58\n",
      "1. e4 e5 2. Nf3 Nc6 3. Bb5 a6 4. Ba4 Nf6 5. d3 Bc5 6. h3 O-O 7. O-O d5 8. Bxc6 bxc6 9. Nxe5 Qd6 10. Ng4 Nxg4\n",
      "\n",
      "Monsieur_Tapis vs sambo (Rated Classical game)\n",
      "https://lichess.org/l1s8kauf\n",
      "1. e4 e5 2. Nf3 Nc6 3. Bb5 a6 4. Ba4 b5 5. Bb3 Nf6 6. O-O d5 7. exd5 Nxd5 8. Re1 Bg4 9. h3 Bh5 10. d3 Nd4 11. Rxe5+ Ne7 12. Rxh5 g6 13. Re5 Bg7 14. Re4 Nf5 15. Nc3 O-O 16. Bg5 Re8 17. Qe2 h6 18. Bd2 Nd6 19. Re3 h5 20. Re1 Ndf5 21. Re4 Bf8 22. Bg5 Kg7 23. Nd5 Nd6 24. Rxe7 Bxe7 25. Bxe7 Qd7 26. Qe5+ Kh7 27. Ng5+ Kh6 28. Nf6 Qf5 29. Nxe8 Rxe8 30. Qxf5 Nxf5 31. Nxf7+ Kg7 32. Bb4 Rxe1+ 33. Bxe1 c5 34. Bc3+ Nd4 35. Bxd4+ cxd4 36. Ne5 Kf6 37. Nf3 a5 38. Nxd4\n",
      "\n",
      "Atomicangel vs Masoud43 (Rated Blitz game)\n",
      "https://lichess.org/z9y5v77z\n",
      "1. e4 e5 2. Nf3 Nc6 3. Bb5 a6 4. Ba4 Nf6 5. O-O b5 6. Bb3 d6 7. Re1 Be7 8. c3 Bg4 9. h3 Bh5 10. d3 O-O 11. Nbd2 h6 12. Nf1 Nh7 13. g4 Bg6 14. Ng3 Ng5 15. Kh2 Kh8 16. Rg1 Nxf3+ 17. Qxf3 Bg5 18. Nf5 Ne7 19. h4 Bxc1 20. Raxc1 f6 21. Rg2 Bf7 22. Rcg1 Bxb3 23. axb3 Ng8 24. g5 fxg5 25. hxg5 Qd7 26. gxh6 Nxh6 27. Rxg7 Rxf5 28. exf5 Qxg7 29. Rxg7 Kxg7 30. Qg3+ Kf6 31. Qg6+\n",
      "\n",
      "Atomicangel vs sakrat (Rated Blitz game)\n",
      "https://lichess.org/2k0z9vwz\n",
      "1. e4 e5 2. Nf3 Nc6 3. Bb5 a6 4. Ba4 Nf6 5. O-O Be7 6. Re1 b5 7. Bb3 O-O 8. c3 d5 9. exd5 e4 10. Ng5 Bg4 11. f3 exf3 12. Nxf3 Na5 13. Bc2 Bd6 14. d4 Nxd5 15. Qd3 g6 16. Bg5 Qd7 17. Nbd2 Bf5 18. Ne4 Rfe8 19. Rad1 Nc4 20. Qf1 Nxb2 21. Rb1 Nc4 22. Nxd6 Qxd6 23. Bxf5 gxf5 24. Qd3 Qg6 25. h4 Re4 26. Ne5 Nxe5 27. dxe5 h6 28. Qxd5 Re8 29. Bf6 Qxf6 30. exf6 Rxe1+ 31. Rxe1 Rxe1+ 32. Kf2\n",
      "\n",
      "Atomicangel vs Masterstheven (Rated Blitz game)\n",
      "https://lichess.org/vjaghc9y\n",
      "1. e4 e5 2. Nf3 Nc6 3. Bb5 a6 4. Ba4 Nf6 5. O-O Be7 6. Re1 b5 7. Bb3 O-O 8. c3 d6 9. h3 Na5 10. Bc2 c5 11. d3 Nc6 12. Nbd2 Be6 13. Nf1 h6 14. g4 Qd7 15. Ng3 Rfe8 16. Nf5 Bf8 17. Kh2 d5 18. Qe2 dxe4 19. dxe4 Rad8 20. Rg1 g5 21. Nxg5 hxg5 22. Bxg5 Bg7 23. Qf3 Bxf5 24. gxf5 Kf8 25. Rg2 Ke7 26. Rgg1 Kf8 27. Rad1 Qc7 28. Rxd8 Rxd8 29. Qg3 Ne7 30. Qh4 Neg8 31. Qg3 Re8 32. h4 Qc6 33. h5 Nxh5 34. Qg4 Nhf6\n",
      "\n",
      "Atomicangel vs Masterstheven (Rated Blitz game)\n",
      "https://lichess.org/86rxo9ek\n",
      "1. e4 e5 2. Nf3 Nc6 3. Bb5 a6 4. Ba4 Nf6 5. O-O Be7 6. Re1 b5 7. Bb3 O-O 8. c3 d6 9. h3 Na5 10. Bc2 c5 11. d3 Nc6 12. Nbd2 h6 13. Nf1 Be6 14. Ng3 Re8 15. Be3 Qd7 16. Kh2 d5 17. Qd2 Bf8 18. d4 cxd4 19. cxd4 exd4 20. Nxd4 Nxd4 21. Qxd4 Rac8 22. Rac1 Bc5 23. Qd2 Bxe3 24. Rxe3 dxe4 25. Qxd7 Bxd7 26. Ree1 Bf5 27. Nxf5 Nd5 28. Bb3 Rxc1 29. Rxc1 Nf6 30. Nd6 Re7 31. Nxf7 Kh7 32. Nd6 e3 33. fxe3 Rxe3 34. Rc7 Re5 35. Bc2+ Kh8 36. Rc8+ Ng8 37. Nf7#\n",
      "\n",
      "Vigorito vs Killi (Rated Classical game)\n",
      "https://lichess.org/f2rjwdtt\n",
      "1. e4 Nc6 2. Nf3 e5 3. Bb5 a6 4. Ba4 b5 5. Bb3 Bc5 6. O-O h6 7. c3 d6 8. d4 exd4 9. cxd4 Ba7 10. Nc3 Nf6 11. h3 Qe7 12. Re1 Be6 13. Bc2 Qd7 14. d5 Bxh3 15. gxh3 Qxh3 16. dxc6 Ng4 17. Bf4 Bxf2#\n",
      "\n",
      "\n",
      "Total relevant: 17\n",
      "False positives: 4.00\n",
      "True positives: 6.00\n",
      "Precision: 0.60\n",
      "Recall: 0.35\n",
      "F1: 0.44\n"
     ]
    }
   ],
   "source": [
    "tp = 0\n",
    "fp = 0\n",
    "relevant = 0\n",
    "next_page = True\n",
    "page = 1\n",
    "while next_page:\n",
    "    r = sum(1 if query in x['document']['mainline_moves'] else 0 for x in collection.documents.search({\n",
    "        'q': query,\n",
    "        'query_by': 'mainline_moves',\n",
    "        'per_page': 250,\n",
    "        'page': page,\n",
    "    })['hits'])\n",
    "    page += 1\n",
    "    relevant += r\n",
    "    if r < 250:\n",
    "        next_page = False\n",
    "\n",
    "for result in results['hits']:\n",
    "    if query in result['document']['mainline_moves']:\n",
    "        tp += 1\n",
    "    else:\n",
    "        fp += 1\n",
    "    if tp + fp <= 10:\n",
    "        print_game(result['document'])\n",
    "\n",
    "print()\n",
    "print(\"Total relevant: {}\".format(relevant))\n",
    "print(\"False positives: {:.02f}\".format(fp))\n",
    "print(\"True positives: {:.02f}\".format(tp))\n",
    "print(\"Precision: {:.02f}\".format(tp / (tp + fp)))\n",
    "print(\"Recall: {:.02f}\".format(tp / relevant))\n",
    "print(\"F1: {:.02f}\".format(2 * (tp / (tp + fp)) * (tp / relevant) / ((tp / (tp + fp)) + (tp / relevant))))"
   ],
   "metadata": {
    "collapsed": false,
    "ExecuteTime": {
     "end_time": "2023-05-08T17:26:26.612718Z",
     "start_time": "2023-05-08T17:26:26.580175Z"
    }
   }
  },
  {
   "cell_type": "markdown",
   "source": [
    "4. Zużycie procesora i RAMu w momencie przetwarzania zadania zawierającego 10000 dokumentów"
   ],
   "metadata": {
    "collapsed": false
   }
  },
  {
   "cell_type": "code",
   "execution_count": null,
   "outputs": [],
   "source": [
    "print(\"BEFORE\")\n",
    "display_metrics_text(before)\n",
    "print()\n",
    "\n",
    "print(\"AFTER\")\n",
    "display_metrics_text(after)\n",
    "print()\n",
    "\n",
    "print(\"DIFF\")\n",
    "display_metrics_text(subtract_measurements(after, before))"
   ],
   "metadata": {
    "collapsed": false
   }
  },
  {
   "cell_type": "markdown",
   "source": [
    "5. Średni czas odpowiedzi pzry wielu jednoczesnych wyszukiwaniach - analiza przeprowadzona będzie na jednej maszynie, przy użyciu jednego skryptu wysyłajacego zapytania HTTP aby zminimalizować wpływ innych czynników niz silnik"
   ],
   "metadata": {
    "collapsed": false
   }
  },
  {
   "cell_type": "code",
   "execution_count": null,
   "outputs": [],
   "source": [
    "import requests\n",
    "from timeit import default_timer as timer\n",
    "from concurrent.futures import ThreadPoolExecutor\n",
    "\n",
    "\n",
    "def query(n):\n",
    "    start = timer()\n",
    "    collection.documents.search(params)\n",
    "    end = timer()\n",
    "    return end - start\n",
    "\n",
    "\n",
    "with ThreadPoolExecutor(max_workers=10000) as pool:\n",
    "    r = list(pool.map(query, range(10000)))\n",
    "    print(f\"Average time: {sum(r) / len(r):.2f} seconds\")"
   ],
   "metadata": {
    "collapsed": false
   }
  },
  {
   "cell_type": "markdown",
   "source": [
    "6. Wzrost wielkości indeksu w zależnosci od ilości zaindeksowanch dokumentów"
   ],
   "metadata": {
    "collapsed": false
   }
  },
  {
   "cell_type": "code",
   "execution_count": null,
   "outputs": [],
   "source": [
    "import matplotlib.pyplot as plt\n",
    "\n",
    "batch_size = 1000\n",
    "\n",
    "\n",
    "def plot(data, name):\n",
    "    x = [i for i, _ in enumerate(data)]\n",
    "    y = data\n",
    "\n",
    "    plt.xlabel(f'batch number [every {batch_size} games]')\n",
    "    plt.ylabel(name)\n",
    "    plt.scatter(x, y)\n",
    "    plt.show()\n",
    "\n",
    "\n",
    "def plot_metric(metric, name, transform=lambda x: x):\n",
    "    plot([transform(measurement[metric]) for measurement in measurements], name)\n",
    "\n",
    "\n",
    "measurements.clear()\n",
    "\n",
    "names = [x['name'] for x in typesense_client.collections.retrieve()]\n",
    "\n",
    "if collection_name in names:\n",
    "    typesense_client.collections[collection_name].delete()\n",
    "\n",
    "typesense_client.collections.create(schema)\n",
    "\n",
    "collection = typesense_client.collections[collection_name]\n",
    "\n",
    "measure_metrics()\n",
    "for i in range(0, len(games), batch_size):\n",
    "    print(f\"Indexing batch {i // batch_size + 1}...\")\n",
    "    collection.documents.import_(games[i:i + batch_size], {\n",
    "        'action': 'upsert',\n",
    "    })\n",
    "    measure_metrics()\n",
    "\n",
    "plot_metric(\"system_disk_used_bytes\", \"DISK MB\", lambda x: float(x) / 1024.0 / 1024.0)\n",
    "plot_metric(\"system_cpu_active_percentage\", \"CPU %\", lambda x: float(x))\n",
    "plot_metric(\"system_memory_used_bytes\", \"MEMORY MB\", lambda x: float(x) / 1024.0 / 1024.0)"
   ],
   "metadata": {
    "collapsed": false
   }
  },
  {
   "cell_type": "markdown",
   "source": [
    "7. Porównanie wsparcia da popularnych jezyków programowania oraz próba określenia łatwości korzystania z dokumentacji i jej kompletności"
   ],
   "metadata": {
    "collapsed": false
   }
  }
 ],
 "metadata": {
  "kernelspec": {
   "display_name": "Python 3",
   "language": "python",
   "name": "python3"
  },
  "language_info": {
   "codemirror_mode": {
    "name": "ipython",
    "version": 2
   },
   "file_extension": ".py",
   "mimetype": "text/x-python",
   "name": "python",
   "nbconvert_exporter": "python",
   "pygments_lexer": "ipython2",
   "version": "2.7.6"
  }
 },
 "nbformat": 4,
 "nbformat_minor": 0
}
