{
 "cells": [
  {
   "cell_type": "code",
   "execution_count": 84,
   "metadata": {
    "collapsed": true,
    "ExecuteTime": {
     "end_time": "2023-05-07T11:32:30.750108Z",
     "start_time": "2023-05-07T11:32:13.600945Z"
    }
   },
   "outputs": [
    {
     "name": "stdout",
     "output_type": "stream",
     "text": [
      "Preloading games...\n",
      "Loaded 10000 games\n"
     ]
    }
   ],
   "source": [
    "import os\n",
    "import chess.pgn\n",
    "from datetime import datetime\n",
    "\n",
    "print('Preloading games...')\n",
    "limit = 10000\n",
    "games = []\n",
    "\n",
    "for path in os.listdir(\"datasets\"):\n",
    "    with open(f'datasets/{path}') as file:\n",
    "        while len(games) < limit:\n",
    "            game = chess.pgn.read_game(file)\n",
    "            if game is None:\n",
    "                break\n",
    "\n",
    "            date = game.headers.get('UTCDate')  # 2012.12.31\n",
    "            time = game.headers.get('UTCTime')  # 23:04:12\n",
    "\n",
    "            ts_game = {\n",
    "                'id': game.headers.get('Site').split('/')[-1],  # [Site \"https://lichess.org/j1dkb5dw\"]\n",
    "                'link': game.headers.get('Site'),\n",
    "                'timestamp_utc': int(datetime.strptime(f'{date} {time}', '%Y.%m.%d %H:%M:%S').timestamp()),\n",
    "                'event': game.headers.get('Event'),\n",
    "                'white': game.headers.get('White'),\n",
    "                'black': game.headers.get('Black'),\n",
    "                'opening': game.headers.get('Opening'),\n",
    "                'termination': game.headers.get('Termination'),\n",
    "                'mainline_moves': str(game.mainline_moves()),\n",
    "            }\n",
    "\n",
    "            games.append(ts_game)\n",
    "print('Loaded {} games'.format(len(games)))\n",
    "\n",
    "\n",
    "def print_game(game):\n",
    "    print(f\"{game['white']} vs {game['black']} ({game['event']})\")\n",
    "    print(game['link'])\n",
    "    print(game['mainline_moves'])\n",
    "    print()"
   ]
  },
  {
   "cell_type": "markdown",
   "source": [
    "# Typesense"
   ],
   "metadata": {
    "collapsed": false
   }
  },
  {
   "cell_type": "code",
   "execution_count": 85,
   "outputs": [],
   "source": [
    "import requests\n",
    "import typesense\n",
    "\n",
    "typesense_url = \"http://localhost:8108\"\n",
    "typesense_api_key = \"xyz\"\n",
    "typesense_api_key_header = \"X-TYPESENSE-API-KEY\"\n",
    "\n",
    "typesense_client = typesense.Client({\n",
    "    'nodes': [{\n",
    "        'host': 'localhost',\n",
    "        'port': '8108',\n",
    "        'protocol': 'http'\n",
    "    }],\n",
    "    'api_key': 'xyz',\n",
    "    'connection_timeout_seconds': 2\n",
    "})\n",
    "\n",
    "collection_name = 'chess'\n",
    "\n",
    "measurements = []\n",
    "\n",
    "# noinspection PyShadowingBuiltins\n",
    "def human_size(bytes, units=None):\n",
    "    minus = bytes < 0\n",
    "    if minus:\n",
    "        bytes = -bytes\n",
    "    if units is None:\n",
    "        units = [' bytes', 'KB', 'MB', 'GB', 'TB', 'PB', 'EB']\n",
    "    formatted = str(bytes) + units[0] if bytes < 1024 else human_size(bytes >> 10, units[1:])\n",
    "    if minus:\n",
    "        formatted = '-' + formatted\n",
    "    return formatted\n",
    "\n",
    "\n",
    "def measure_metrics():\n",
    "    measurement = requests.get(f\"{typesense_url}/metrics.json\",\n",
    "                               headers={typesense_api_key_header: typesense_api_key}).json()\n",
    "\n",
    "    measurement['system_cpu_active_percentage'] = float(measurement['system_cpu_active_percentage'])\n",
    "    measurement['system_disk_used_bytes'] = int(measurement['system_disk_used_bytes'])\n",
    "    measurement['system_memory_used_bytes'] = int(measurement['system_memory_used_bytes'])\n",
    "    measurement['system_network_received_bytes'] = int(measurement['system_network_received_bytes'])\n",
    "    measurement['system_network_sent_bytes'] = int(measurement['system_network_sent_bytes'])\n",
    "    measurement['typesense_memory_active_bytes'] = int(measurement['typesense_memory_active_bytes'])\n",
    "    measurement['typesense_memory_allocated_bytes'] = int(measurement['typesense_memory_allocated_bytes'])\n",
    "    measurement['typesense_memory_mapped_bytes'] = int(measurement['typesense_memory_mapped_bytes'])\n",
    "    measurement['typesense_memory_metadata_bytes'] = int(measurement['typesense_memory_metadata_bytes'])\n",
    "    measurement['typesense_memory_fragmentation_ratio'] = float(measurement['typesense_memory_fragmentation_ratio'])\n",
    "    measurement['typesense_memory_resident_bytes'] = int(measurement['typesense_memory_resident_bytes'])\n",
    "    measurement['typesense_memory_retained_bytes'] = int(measurement['typesense_memory_retained_bytes'])\n",
    "    measurements.append(measurement)\n",
    "    return measurement\n",
    "\n",
    "\n",
    "def subtract_measurements(m1, m2):\n",
    "    m = {'system_cpu_active_percentage': m1['system_cpu_active_percentage'] - m2['system_cpu_active_percentage'],\n",
    "         'system_disk_used_bytes': m1['system_disk_used_bytes'] - m2['system_disk_used_bytes'],\n",
    "         'system_memory_used_bytes': m1['system_memory_used_bytes'] - m2['system_memory_used_bytes'],\n",
    "         'system_network_received_bytes': m1['system_network_received_bytes'] - m2['system_network_received_bytes'],\n",
    "         'system_network_sent_bytes': m1['system_network_sent_bytes'] - m2['system_network_sent_bytes'],\n",
    "         'typesense_memory_active_bytes': m1['typesense_memory_active_bytes'] - m2['typesense_memory_active_bytes'],\n",
    "         'typesense_memory_allocated_bytes': m1['typesense_memory_allocated_bytes'] - m2[\n",
    "             'typesense_memory_allocated_bytes'],\n",
    "         'typesense_memory_mapped_bytes': m1['typesense_memory_mapped_bytes'] - m2['typesense_memory_mapped_bytes'],\n",
    "         'typesense_memory_metadata_bytes': m1['typesense_memory_metadata_bytes'] - m2[\n",
    "             'typesense_memory_metadata_bytes'],\n",
    "         'typesense_memory_fragmentation_ratio': m1['typesense_memory_fragmentation_ratio'] - m2[\n",
    "             'typesense_memory_fragmentation_ratio'],\n",
    "         'typesense_memory_resident_bytes': m1['typesense_memory_resident_bytes'] - m2[\n",
    "             'typesense_memory_resident_bytes'],\n",
    "         'typesense_memory_retained_bytes': m1['typesense_memory_retained_bytes'] - m2[\n",
    "             'typesense_memory_retained_bytes']}\n",
    "\n",
    "    return m\n",
    "\n",
    "\n",
    "def display_metrics_text(measurement):\n",
    "    print(f\"CPU:                                  {measurement['system_cpu_active_percentage']}%\")\n",
    "    print(f\"system_disk_used_bytes:               {human_size((measurement['system_disk_used_bytes']))}\")\n",
    "    print(f\"system_memory_used_bytes:             {human_size((measurement['system_memory_used_bytes']))}\")\n",
    "    print(f\"system_network_received_bytes:        {human_size((measurement['system_network_received_bytes']))}\")\n",
    "    print(f\"system_network_sent_bytes:            {human_size((measurement['system_network_sent_bytes']))}\")\n",
    "    print(f\"typesense_memory_active_bytes:        {human_size((measurement['typesense_memory_active_bytes']))}\")\n",
    "    print(f\"typesense_memory_allocated_bytes:     {human_size((measurement['typesense_memory_allocated_bytes']))}\")\n",
    "    print(f\"typesense_memory_mapped_bytes:        {human_size((measurement['typesense_memory_mapped_bytes']))}\")\n",
    "    print(f\"typesense_memory_metadata_bytes:      {human_size((measurement['typesense_memory_metadata_bytes']))}\")\n",
    "    print(f\"typesense_memory_fragmentation_ratio: {measurement['typesense_memory_fragmentation_ratio']}\")\n",
    "    print(f\"typesense_memory_resident_bytes:      {human_size((measurement['typesense_memory_resident_bytes']))}\")\n",
    "    print(f\"typesense_memory_retained_bytes:      {human_size((measurement['typesense_memory_retained_bytes']))}\")"
   ],
   "metadata": {
    "collapsed": false,
    "ExecuteTime": {
     "end_time": "2023-05-07T11:32:30.757259Z",
     "start_time": "2023-05-07T11:32:30.755629Z"
    }
   }
  },
  {
   "cell_type": "markdown",
   "source": [
    "1. Średni czas przetwarzania zadania zawierającego 10000 dokumentów (porównanie bedzie się zaczynać na pustym indeksie)"
   ],
   "metadata": {
    "collapsed": false
   }
  },
  {
   "cell_type": "code",
   "execution_count": 86,
   "outputs": [
    {
     "name": "stdout",
     "output_type": "stream",
     "text": [
      "Re/Creating collection...\n"
     ]
    }
   ],
   "source": [
    "print(\"Re/Creating collection...\")\n",
    "schema = {\n",
    "    'name': collection_name,\n",
    "    'fields': [\n",
    "        {'name': 'link', 'type': 'string'},  # [Site \"https://lichess.org/j1dkb5dw\"]\n",
    "        {'name': 'timestamp_utc', 'type': 'int32'},  # [UTCDate \"2012.12.31\"] [UTCTime \"23:04:12\"]\n",
    "        {'name': 'event', 'type': 'string'},  # [Event \"Rated Classical game\"]\n",
    "        {'name': 'white', 'type': 'string'},  # [White \"BFG9k\"]\n",
    "        {'name': 'black', 'type': 'string'},  # [Black \"mamalak\"]\n",
    "        {'name': 'opening', 'type': 'string'},  # [Opening \"French Defense: Normal Variation\"]\n",
    "        {'name': 'termination', 'type': 'string'},  # [Termination \"Normal\"]\n",
    "        {'name': 'mainline_moves', 'type': 'string'},  # 1. e4 e6 2. d4 b6 3. a3 Bb7 4. Nc3 Nh6 5. Bxh6 gxh6 6. Be2...\n",
    "    ],\n",
    "    'default_sorting_field': 'timestamp_utc'\n",
    "}\n",
    "\n",
    "names = [x['name'] for x in typesense_client.collections.retrieve()]\n",
    "\n",
    "if collection_name in names:\n",
    "    typesense_client.collections[collection_name].delete()\n",
    "\n",
    "before = measure_metrics()"
   ],
   "metadata": {
    "collapsed": false,
    "ExecuteTime": {
     "end_time": "2023-05-07T11:32:30.899984Z",
     "start_time": "2023-05-07T11:32:30.759541Z"
    }
   }
  },
  {
   "cell_type": "code",
   "execution_count": 87,
   "outputs": [
    {
     "name": "stdout",
     "output_type": "stream",
     "text": [
      "741 ms ± 27.3 ms per loop (mean ± std. dev. of 7 runs, 1 loop each)\n"
     ]
    }
   ],
   "source": [
    "%%timeit\n",
    "\n",
    "names = [x['name'] for x in typesense_client.collections.retrieve()]\n",
    "\n",
    "if collection_name in names:\n",
    "    typesense_client.collections[collection_name].delete()\n",
    "\n",
    "typesense_client.collections.create(schema)\n",
    "\n",
    "collection = typesense_client.collections[collection_name]\n",
    "\n",
    "collection.documents.import_(games, {\n",
    "    'action': 'upsert',\n",
    "})"
   ],
   "metadata": {
    "collapsed": false,
    "ExecuteTime": {
     "end_time": "2023-05-07T11:32:36.856342Z",
     "start_time": "2023-05-07T11:32:30.903189Z"
    }
   }
  },
  {
   "cell_type": "code",
   "execution_count": 88,
   "outputs": [],
   "source": [
    "after = measure_metrics()"
   ],
   "metadata": {
    "collapsed": false,
    "ExecuteTime": {
     "end_time": "2023-05-07T11:32:36.976600Z",
     "start_time": "2023-05-07T11:32:36.857603Z"
    }
   }
  },
  {
   "cell_type": "markdown",
   "source": [
    "2. Czas odpowiedzi na pojedyncze zapytania"
   ],
   "metadata": {
    "collapsed": false
   }
  },
  {
   "cell_type": "code",
   "execution_count": 89,
   "outputs": [
    {
     "name": "stdout",
     "output_type": "stream",
     "text": [
      "Searching for 'e4 e5 Nf3 Nc6 Bb5 a6 Ba4 Nf6 O-O Be7 Re1 b5 Bb3 O-O c3 d5'...\n"
     ]
    }
   ],
   "source": [
    "query = \"e4 e5 Nf3 Nc6 Bb5 a6 Ba4 Nf6 O-O Be7 Re1 b5 Bb3 O-O c3 d5\"\n",
    "print(\"Searching for '{}'...\".format(query))\n",
    "params = {\n",
    "    'q': query,\n",
    "    'query_by': 'mainline_moves',\n",
    "    'sort_by': 'timestamp_utc:desc',\n",
    "    'per_page': 10,\n",
    "    'page': 1,\n",
    "}"
   ],
   "metadata": {
    "collapsed": false,
    "ExecuteTime": {
     "end_time": "2023-05-07T11:32:36.986061Z",
     "start_time": "2023-05-07T11:32:36.979176Z"
    }
   }
  },
  {
   "cell_type": "code",
   "execution_count": 90,
   "outputs": [
    {
     "name": "stdout",
     "output_type": "stream",
     "text": [
      "5.73 ms ± 400 µs per loop (mean ± std. dev. of 7 runs, 100 loops each)\n"
     ]
    }
   ],
   "source": [
    "%%timeit\n",
    "results = collection.documents.search(params)"
   ],
   "metadata": {
    "collapsed": false,
    "ExecuteTime": {
     "end_time": "2023-05-07T11:32:41.696982Z",
     "start_time": "2023-05-07T11:32:36.988284Z"
    }
   }
  },
  {
   "cell_type": "markdown",
   "source": [
    "3. Porównanie wyników wyszukiwania dla jednakowych zapytań"
   ],
   "metadata": {
    "collapsed": false
   }
  },
  {
   "cell_type": "code",
   "execution_count": 91,
   "outputs": [
    {
     "name": "stdout",
     "output_type": "stream",
     "text": [
      "german11 vs MihaSAH (Rated Blitz game)\n",
      "https://lichess.org/oiy4rj23\n",
      "1. e4 e5 2. Nf3 Nc6 3. Bb5 d6 4. h3 a6 5. Ba4 Nf6 6. d3 Be7 7. Bg5 Be6 8. O-O O-O 9. c3 b5 10. Bc2 h6 11. Bh4 Nh7 12. d4 Bxh4 13. d5 Bxd5 14. exd5 Na7 15. Qd3 f5 16. Re1 e4 17. Qd4 exf3 18. Re6 fxg2 19. Rg6 Bf6 20. Qf4 Bg5 21. Rxg5 Qxg5 22. Qf3 Rae8 23. Qg3 Nc8 24. Kxg2 Ne7 25. Qxg5 hxg5 26. Nd2 Nxd5 27. Nf3 Re2 28. Bb3 c6 29. Rd1 Kh8 30. Ng1 Rxb2 31. Nf3 Nf4+ 32. Kf1 d5 33. Ne5 a5 34. Nxc6 a4 35. Bxd5 Nxd5 36. Rxd5 Rxa2 37. Rxb5 Rc2 38. Rc5 a3 39. Nb4 Rb2 40. Ra5 Rb3 41. Nc2 Rxc3 42. Nxa3 Rc1+ 43. Kg2 Ra1 44. Nc4 Rxa5 45. Nxa5 Nf6 46. Nc6 Re8 47. Nd4 g6 48. Nf3 g4 49. hxg4 Nxg4 50. Kg3 Re2 51. Nh4 Kg7 52. f3 Nf6 53. Kf4 Kh6 54. Kg3 Nh5+ 55. Kh3 Re3 56. Kg2 Ra3 57. Kf2 Kg5 58. Ng2 f4 59. Ne1 Ra2+ 60. Kf1 Ng3+ 61. Kg1 Ra1 62. Kf2 Rxe1 63. Kxe1 Kf5 64. Kf2 g5 65. Kg2 Ne2 66. Kh3 Nd4 67. Kg2 Kg6 68. Kf2 Kh5 69. Kg2 Kh4 70. Kf2 Kh3 71. Kg1 Kg3 72. Kh1 Kxf3 73. Kg1 g4 74. Kh1 g3 75. Kg1 Kg4 76. Kh1 f3 77. Kg1 Kh3 78. Kh1 g2+ 79. Kg1 Ne2+ 80. Kf2 g1=Q+ 81. Kxf3 Qg4+ 82. Kf2 Nf4\n",
      "\n",
      "oilmanesh vs babak_afshin (Rated Blitz game)\n",
      "https://lichess.org/t4gto1it\n",
      "1. e4 e5 2. Nf3 Nc6 3. Bb5 Nf6 4. O-O Be7 5. Re1 d6 6. c3 Bg4 7. h3 Bh5 8. d3 O-O 9. Nbd2 a6 10. Ba4 h6 11. Nf1 b5 12. Bb3 Bg6 13. Ng3 Nh5 14. Nf5 Bxf5 15. exf5 Nf4 16. Bxf4 exf4 17. Bd5 Ne5 18. Bc6 Nxc6 19. d4 Qd7 20. Qd2 Qxf5 21. d5 Ne5 22. Nxe5 dxe5 23. Rad1 Bd6 24. Qe2 Rfe8 25. f3 g5 26. b3 Rad8 27. c4 bxc4 28. bxc4 Bb4 29. Rf1 e4 30. fxe4 Rxe4 31. Qc2 Rde8 32. Rb1 Bc5+ 33. Kh1 g4 34. Qd3 gxh3 35. gxh3 Qh5 36. Qf3 Qxf3+ 37. Rxf3 Re1+ 38. Rf1 Rxb1 39. Rxb1 f3 40. Rf1 f2 41. Kg2 Re1 42. a4 f5 43. h4 Kf7 44. h5 Kf6 45. a5 Kg5 46. Rxf2 Kxh5 47. Rxf5+ Kg6 48. Rf4 Kg5 49. Rf3 Rg1+ 50. Kh2 Kg4 51. Rc3 Rf1 52. Kg2 Rf2+ 53. Kh1 h5 54. d6 h4 55. dxc7 Rf8 56. Rd3 Rc8 57. Rd7 h3 58. Rg7+ Kf3 59. Kh2 Bd6+ 60. Kxh3 Rh8+ 61. Rh7 Rxh7#\n",
      "\n",
      "oilmanesh vs XRIZOLIT (Rated Blitz game)\n",
      "https://lichess.org/yg0py789\n",
      "1. e4 e5 2. Nf3 Nc6 3. Bb5 Nf6 4. O-O d6 5. Re1 Bd7 6. c3 Be7 7. h3 O-O 8. d4 exd4 9. cxd4 a6 10. Ba4 b5 11. Bb3 Na5 12. Bc2 Nc6 13. Nbd2 Re8 14. Nf1 d5 15. e5 Nh5 16. a3 g6 17. Bh6 Bf8 18. Qd2 Qe7 19. Bxf8 Qxf8 20. g4 Ng7 21. Ng3 Ne6 22. Rad1 a5 23. Qe3 a4 24. Ng5 Nxg5 25. Qxg5 Qe7 26. Qe3 Na5 27. Bd3 Nc4 28. Bxc4 bxc4 29. f4 Rab8 30. Rd2 Rb3 31. Qf2 Reb8 32. Re3 Qh4 33. Kh2 Bxg4 34. f5 gxf5 35. Rc3 Qxh3+ 36. Kg1 Rxc3 37. bxc3 Rb1+ 38. Nf1 Bf3\n",
      "\n",
      "Atomicangel vs Xmaschess (Rated Blitz game)\n",
      "https://lichess.org/0xbuo8rf\n",
      "1. e4 e5 2. Nf3 Nc6 3. Bb5 d6 4. O-O Bd7 5. c3 Nf6 6. Re1 Be7 7. d4 O-O 8. Nbd2 a6 9. Ba4 b5 10. Bb3 Re8 11. Nf1 Bg4 12. Be3 exd4 13. cxd4 Na5 14. Bc2 Nc4 15. Bc1 d5 16. e5 Ne4 17. Bxe4 dxe4 18. Rxe4 Be6 19. Ng3 Bd5 20. Rg4 Be6 21. Re4 Bd5 22. Re1 Bb4 23. Nd2 Nxd2 24. Bxd2 Bxd2 25. Qxd2 Qd7 26. b3\n",
      "\n",
      "Atomicangel vs sakrat (Rated Blitz game)\n",
      "https://lichess.org/2k0z9vwz\n",
      "1. e4 e5 2. Nf3 Nc6 3. Bb5 a6 4. Ba4 Nf6 5. O-O Be7 6. Re1 b5 7. Bb3 O-O 8. c3 d5 9. exd5 e4 10. Ng5 Bg4 11. f3 exf3 12. Nxf3 Na5 13. Bc2 Bd6 14. d4 Nxd5 15. Qd3 g6 16. Bg5 Qd7 17. Nbd2 Bf5 18. Ne4 Rfe8 19. Rad1 Nc4 20. Qf1 Nxb2 21. Rb1 Nc4 22. Nxd6 Qxd6 23. Bxf5 gxf5 24. Qd3 Qg6 25. h4 Re4 26. Ne5 Nxe5 27. dxe5 h6 28. Qxd5 Re8 29. Bf6 Qxf6 30. exf6 Rxe1+ 31. Rxe1 Rxe1+ 32. Kf2\n",
      "\n",
      "Atomicangel vs Masterstheven (Rated Blitz game)\n",
      "https://lichess.org/vjaghc9y\n",
      "1. e4 e5 2. Nf3 Nc6 3. Bb5 a6 4. Ba4 Nf6 5. O-O Be7 6. Re1 b5 7. Bb3 O-O 8. c3 d6 9. h3 Na5 10. Bc2 c5 11. d3 Nc6 12. Nbd2 Be6 13. Nf1 h6 14. g4 Qd7 15. Ng3 Rfe8 16. Nf5 Bf8 17. Kh2 d5 18. Qe2 dxe4 19. dxe4 Rad8 20. Rg1 g5 21. Nxg5 hxg5 22. Bxg5 Bg7 23. Qf3 Bxf5 24. gxf5 Kf8 25. Rg2 Ke7 26. Rgg1 Kf8 27. Rad1 Qc7 28. Rxd8 Rxd8 29. Qg3 Ne7 30. Qh4 Neg8 31. Qg3 Re8 32. h4 Qc6 33. h5 Nxh5 34. Qg4 Nhf6\n",
      "\n",
      "Atomicangel vs Masterstheven (Rated Blitz game)\n",
      "https://lichess.org/86rxo9ek\n",
      "1. e4 e5 2. Nf3 Nc6 3. Bb5 a6 4. Ba4 Nf6 5. O-O Be7 6. Re1 b5 7. Bb3 O-O 8. c3 d6 9. h3 Na5 10. Bc2 c5 11. d3 Nc6 12. Nbd2 h6 13. Nf1 Be6 14. Ng3 Re8 15. Be3 Qd7 16. Kh2 d5 17. Qd2 Bf8 18. d4 cxd4 19. cxd4 exd4 20. Nxd4 Nxd4 21. Qxd4 Rac8 22. Rac1 Bc5 23. Qd2 Bxe3 24. Rxe3 dxe4 25. Qxd7 Bxd7 26. Ree1 Bf5 27. Nxf5 Nd5 28. Bb3 Rxc1 29. Rxc1 Nf6 30. Nd6 Re7 31. Nxf7 Kh7 32. Nd6 e3 33. fxe3 Rxe3 34. Rc7 Re5 35. Bc2+ Kh8 36. Rc8+ Ng8 37. Nf7#\n",
      "\n",
      "german11 vs nilson (Rated Blitz game)\n",
      "https://lichess.org/mkt5iprk\n",
      "1. e4 e5 2. Nf3 Nc6 3. Bb5 a6 4. Ba4 Be7 5. c3 Nf6 6. d3 b5 7. Bb3 O-O 8. Bg5 d5 9. exd5 Nxd5 10. Bxe7 Ndxe7 11. O-O Bg4 12. h3 Bh5 13. Re1 Ng6 14. Re3 Nf4 15. Qd2 Bxf3 16. Rxf3 Qg5 17. Rg3 Qf5 18. Rf3 Rad8 19. Bc2 g5 20. Rg3 e4 21. d4 Qd5 22. Qxf4 h6 23. Bxe4 Qe6 24. Qf5 Qxf5 25. Bxf5 f6 26. Nd2 Rfe8 27. Re3 Rxe3 28. fxe3 Ne7 29. Be6+ Kg7 30. e4 c5 31. d5\n",
      "\n",
      "Neuronchess vs alimos (Rated Classical game)\n",
      "https://lichess.org/wjyzqti0\n",
      "1. e4 e6 2. Nc3 d5 3. d4 Nf6 4. Bb5+ c6 5. e5 Nfd7 6. Ba4 b5 7. Bb3 a6 8. a3 c5 9. Be3 cxd4 10. Bxd4 Nc6 11. Nf3 Nxd4 12. Qxd4 Bc5 13. Qd3 O-O 14. O-O Bb7 15. Rfe1 Qc7 16. Ng5 g6 17. Nf3 Rad8 18. h4 Qb6 19. Qe2 d4 20. Nd1 a5 21. h5 a4 22. Ba2 Be7 23. hxg6 fxg6 24. Qd3 Bxf3 25. gxf3 Rf5 26. c3 dxc3 27. Nxc3 Bc5 28. Ne4 Nxe5 29. Bxe6+ Kg7 30. Qc3 Bxf2+ 31. Nxf2 Qxe6 32. Ng4 Rd5 33. Qc7+ Rf7 34. Qc3 Re7 35. f4 Qxg4+ 36. Kh1 Qxf4 37. Rf1 Qe4+ 38. Kg1 Qd4+ 39. Qxd4 Rxd4 40. Rae1 Nf3+ 41. Rxf3 Rxe1+ 42. Kf2 Rc1 43. Re3 Rc2+ 44. Kf3 Rxb2 45. Re7+ Kh6 46. Ke3 Rh4 47. Kd3 Rb3+ 48. Kc2 Rh2+ 49. Kc1 Rxa3 50. Kb1 Rg3 51. Re1 b4 52. Ka1 a3 53. Kb1 b3 54. Ka1 Ra2+ 55. Kb1 Rgg2 56. Rh1+ Kg7 57. Rd1 Rgb2+ 58. Kc1 Ra1#\n",
      "\n",
      "german11 vs hamiakaz (Rated Blitz game)\n",
      "https://lichess.org/fu72fvmm\n",
      "1. e4 e5 2. Nf3 Nc6 3. Bb5 Nf6 4. d3 d6 5. h3 Bd7 6. c3 Be7 7. O-O O-O 8. Bg5 a6 9. Ba4 b5 10. Bb3 h6 11. Bh4 Na5 12. Bc2 c6 13. b3 c5 14. Nbd2 Nc6 15. Re1 d5 16. exd5 Nxd5 17. Bxe7 Qxe7 18. d4 Nxc3 19. Qc1 cxd4 20. Ne4 b4 21. Nxc3 bxc3 22. Qd1 Nb4 23. Be4 Rac8 24. Bc2 Be6 25. Nxe5 Qc5 26. Nd3 Nxd3 27. Qxd3 g6 28. Rxe6 fxe6 29. Qxg6+ Kh8 30. Qh7#\n",
      "\n"
     ]
    }
   ],
   "source": [
    "for result in results['hits']:\n",
    "    print_game(result['document'])"
   ],
   "metadata": {
    "collapsed": false,
    "ExecuteTime": {
     "end_time": "2023-05-07T11:32:41.700265Z",
     "start_time": "2023-05-07T11:32:41.694011Z"
    }
   }
  },
  {
   "cell_type": "markdown",
   "source": [
    "4. Zużycie procesora i RAMu w momencie przetwarzania zadania zawierającego 10000 dokumentów"
   ],
   "metadata": {
    "collapsed": false
   }
  },
  {
   "cell_type": "code",
   "execution_count": 92,
   "outputs": [
    {
     "name": "stdout",
     "output_type": "stream",
     "text": [
      "BEFORE\n",
      "CPU:                                  2.44%\n",
      "system_disk_used_bytes:               158GB\n",
      "system_memory_used_bytes:             1GB\n",
      "system_network_received_bytes:        367MB\n",
      "system_network_sent_bytes:            174MB\n",
      "typesense_memory_active_bytes:        72MB\n",
      "typesense_memory_allocated_bytes:     48MB\n",
      "typesense_memory_mapped_bytes:        127MB\n",
      "typesense_memory_metadata_bytes:      20MB\n",
      "typesense_memory_fragmentation_ratio: 0.32\n",
      "typesense_memory_resident_bytes:      72MB\n",
      "typesense_memory_retained_bytes:      909MB\n",
      "\n",
      "AFTER\n",
      "CPU:                                  0.0%\n",
      "system_disk_used_bytes:               158GB\n",
      "system_memory_used_bytes:             1GB\n",
      "system_network_received_bytes:        417MB\n",
      "system_network_sent_bytes:            175MB\n",
      "typesense_memory_active_bytes:        82MB\n",
      "typesense_memory_allocated_bytes:     60MB\n",
      "typesense_memory_mapped_bytes:        325MB\n",
      "typesense_memory_metadata_bytes:      20MB\n",
      "typesense_memory_fragmentation_ratio: 0.27\n",
      "typesense_memory_resident_bytes:      82MB\n",
      "typesense_memory_retained_bytes:      711MB\n",
      "\n",
      "DIFF\n",
      "CPU:                                  -2.44%\n",
      "system_disk_used_bytes:               46MB\n",
      "system_memory_used_bytes:             178MB\n",
      "system_network_received_bytes:        50MB\n",
      "system_network_sent_bytes:            87KB\n",
      "typesense_memory_active_bytes:        10MB\n",
      "typesense_memory_allocated_bytes:     11MB\n",
      "typesense_memory_mapped_bytes:        197MB\n",
      "typesense_memory_metadata_bytes:      0 bytes\n",
      "typesense_memory_fragmentation_ratio: -0.04999999999999999\n",
      "typesense_memory_resident_bytes:      10MB\n",
      "typesense_memory_retained_bytes:      -197MB\n"
     ]
    }
   ],
   "source": [
    "print(\"BEFORE\")\n",
    "display_metrics_text(before)\n",
    "print()\n",
    "\n",
    "print(\"AFTER\")\n",
    "display_metrics_text(after)\n",
    "print()\n",
    "\n",
    "print(\"DIFF\")\n",
    "display_metrics_text(subtract_measurements(after, before))"
   ],
   "metadata": {
    "collapsed": false,
    "ExecuteTime": {
     "end_time": "2023-05-07T11:32:41.704379Z",
     "start_time": "2023-05-07T11:32:41.701798Z"
    }
   }
  },
  {
   "cell_type": "markdown",
   "source": [
    "5. Średni czas odpowiedzi pzry wielu jednoczesnych wyszukiwaniach - analiza przeprowadzona będzie na jednej maszynie, przy użyciu jednego skryptu wysyłajacego zapytania HTTP aby zminimalizować wpływ innych czynników niz silnik"
   ],
   "metadata": {
    "collapsed": false
   }
  },
  {
   "cell_type": "code",
   "execution_count": 93,
   "outputs": [
    {
     "name": "stdout",
     "output_type": "stream",
     "text": [
      "Average time: 0.20 seconds\n"
     ]
    }
   ],
   "source": [
    "import requests\n",
    "from timeit import default_timer as timer\n",
    "from concurrent.futures import ThreadPoolExecutor\n",
    "\n",
    "def query(n):\n",
    "    start = timer()\n",
    "    collection.documents.search(params)\n",
    "    end = timer()\n",
    "    return end - start\n",
    "\n",
    "with ThreadPoolExecutor(max_workers=10000) as pool:\n",
    "    r = list(pool.map(query,range(10000)))\n",
    "    print(f\"Average time: {sum(r)/len(r):.2f} seconds\")"
   ],
   "metadata": {
    "collapsed": false,
    "ExecuteTime": {
     "end_time": "2023-05-07T11:32:52.864679Z",
     "start_time": "2023-05-07T11:32:41.713075Z"
    }
   }
  },
  {
   "cell_type": "markdown",
   "source": [
    "6. Wzrost wielkości indeksu w zależnosci od ilości zaindeksowanch dokumentów"
   ],
   "metadata": {
    "collapsed": false
   }
  },
  {
   "cell_type": "code",
   "execution_count": 95,
   "outputs": [
    {
     "name": "stdout",
     "output_type": "stream",
     "text": [
      "Indexing batch 1...\n",
      "Indexing batch 2...\n",
      "Indexing batch 3...\n",
      "Indexing batch 4...\n",
      "Indexing batch 5...\n",
      "Indexing batch 6...\n",
      "Indexing batch 7...\n",
      "Indexing batch 8...\n",
      "Indexing batch 9...\n",
      "Indexing batch 10...\n"
     ]
    },
    {
     "data": {
      "text/plain": "<Figure size 640x480 with 1 Axes>",
      "image/png": "[encoded data removed]"
     },
     "metadata": {},
     "output_type": "display_data"
    },
    {
     "data": {
      "text/plain": "<Figure size 640x480 with 1 Axes>",
      "image/png": "[encoded data removed]"
     },
     "metadata": {},
     "output_type": "display_data"
    },
    {
     "data": {
      "text/plain": "<Figure size 640x480 with 1 Axes>",
      "image/png": "[encoded data removed]"
     },
     "metadata": {},
     "output_type": "display_data"
    }
   ],
   "source": [
    "import matplotlib.pyplot as plt\n",
    "\n",
    "batch_size = 1000\n",
    "\n",
    "def plot(data, name):\n",
    "    x = [i for i, _ in enumerate(data)]\n",
    "    y = data\n",
    "\n",
    "    plt.xlabel(f'batch number [every {batch_size} games]')\n",
    "    plt.ylabel(name)\n",
    "    plt.scatter(x, y)\n",
    "    plt.show()\n",
    "\n",
    "\n",
    "def plot_metric(metric, name, transform=lambda x: x):\n",
    "    plot([transform(measurement[metric]) for measurement in measurements], name)\n",
    "\n",
    "measurements.clear()\n",
    "\n",
    "names = [x['name'] for x in typesense_client.collections.retrieve()]\n",
    "\n",
    "if collection_name in names:\n",
    "    typesense_client.collections[collection_name].delete()\n",
    "\n",
    "typesense_client.collections.create(schema)\n",
    "\n",
    "collection = typesense_client.collections[collection_name]\n",
    "\n",
    "measure_metrics()\n",
    "for i in range(0, len(games), batch_size):\n",
    "    print(f\"Indexing batch {i // batch_size + 1}...\")\n",
    "    collection.documents.import_(games[i:i+batch_size], {\n",
    "        'action': 'upsert',\n",
    "    })\n",
    "    measure_metrics()\n",
    "\n",
    "plot_metric(\"system_disk_used_bytes\", \"DISK MB\", lambda x: float(x) / 1024.0 / 1024.0)\n",
    "plot_metric(\"system_cpu_active_percentage\", \"CPU %\", lambda x: float(x))\n",
    "plot_metric(\"system_memory_used_bytes\", \"MEMORY MB\", lambda x: float(x) / 1024.0 / 1024.0)"
   ],
   "metadata": {
    "collapsed": false,
    "ExecuteTime": {
     "end_time": "2023-05-07T11:33:30.473822Z",
     "start_time": "2023-05-07T11:33:28.186814Z"
    }
   }
  },
  {
   "cell_type": "markdown",
   "source": [
    "7. Porównanie wsparcia da popularnych jezyków programowania oraz próba określenia łatwości korzystania z dokumentacji i jej kompletności"
   ],
   "metadata": {
    "collapsed": false
   }
  }
 ],
 "metadata": {
  "kernelspec": {
   "display_name": "Python 3",
   "language": "python",
   "name": "python3"
  },
  "language_info": {
   "codemirror_mode": {
    "name": "ipython",
    "version": 2
   },
   "file_extension": ".py",
   "mimetype": "text/x-python",
   "name": "python",
   "nbconvert_exporter": "python",
   "pygments_lexer": "ipython2",
   "version": "2.7.6"
  }
 },
 "nbformat": 4,
 "nbformat_minor": 0
}
