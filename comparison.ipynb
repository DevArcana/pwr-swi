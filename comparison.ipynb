{
 "cells": [
  {
   "cell_type": "code",
   "execution_count": 1,
   "metadata": {
    "ExecuteTime": {
     "start_time": "2023-05-08T16:15:53.293025Z",
     "end_time": "2023-05-08T16:16:27.665640Z"
    },
    "collapsed": true,
    "jupyter": {
     "outputs_hidden": true
    }
   },
   "outputs": [
    {
     "name": "stdout",
     "output_type": "stream",
     "text": [
      "Preloading games...\n",
      "Loaded 10000 games\n"
     ]
    }
   ],
   "source": [
    "import os\n",
    "import chess.pgn\n",
    "from datetime import datetime\n",
    "\n",
    "print('Preloading games...')\n",
    "limit = 10000\n",
    "games = []\n",
    "\n",
    "for path in os.listdir(\"datasets\"):\n",
    "    with open(f'datasets/{path}') as file:\n",
    "        while len(games) < limit:\n",
    "            game = chess.pgn.read_game(file)\n",
    "            if game is None:\n",
    "                break\n",
    "\n",
    "            date = game.headers.get('UTCDate')  # 2012.12.31\n",
    "            time = game.headers.get('UTCTime')  # 23:04:12\n",
    "\n",
    "            ts_game = {\n",
    "                'id': game.headers.get('Site').split('/')[-1],  # [Site \"https://lichess.org/j1dkb5dw\"]\n",
    "                'link': game.headers.get('Site'),\n",
    "                'timestamp_utc': int(datetime.strptime(f'{date} {time}', '%Y.%m.%d %H:%M:%S').timestamp()),\n",
    "                'event': game.headers.get('Event'),\n",
    "                'white': game.headers.get('White'),\n",
    "                'black': game.headers.get('Black'),\n",
    "                'opening': game.headers.get('Opening'),\n",
    "                'termination': game.headers.get('Termination'),\n",
    "                'mainline_moves': str(game.mainline_moves()),\n",
    "            }\n",
    "\n",
    "            games.append(ts_game)\n",
    "print('Loaded {} games'.format(len(games)))\n",
    "\n",
    "\n",
    "def print_game(game):\n",
    "    print(f\"{game['white']} vs {game['black']} ({game['event']})\")\n",
    "    print(game['link'])\n",
    "    print(game['mainline_moves'])\n",
    "    print()\n",
    "\n",
    "def make_markdown_table(array):\n",
    "    nl = \"\\n\"\n",
    "    markdown = nl\n",
    "    markdown += f\"| {' | '.join(array[0])} |\"\n",
    "    markdown += nl\n",
    "    markdown += f\"| {' | '.join(['---']*len(array[0]))} |\"\n",
    "    markdown += nl\n",
    "    for entry in array[1:]:\n",
    "        markdown += f\"| {' | '.join(map(lambda c: str(c), entry))} |{nl}\"\n",
    "    return markdown\n",
    "\n",
    "# noinspection PyShadowingBuiltins\n",
    "def human_size(bytes, units=None):\n",
    "    minus = bytes < 0\n",
    "    if minus:\n",
    "        bytes = -bytes\n",
    "    if units is None:\n",
    "        units = [' bytes', 'KB', 'MB', 'GB', 'TB', 'PB', 'EB']\n",
    "    formatted = str(bytes) + units[0] if bytes < 1024 or len(units) == 1 else human_size(bytes >> 10, units[1:])\n",
    "    if minus:\n",
    "        formatted = '-' + formatted\n",
    "    return formatted"
   ]
  },
  {
   "cell_type": "markdown",
   "metadata": {},
   "source": [
    "# Typesense"
   ]
  },
  {
   "cell_type": "code",
   "execution_count": 85,
   "metadata": {
    "ExecuteTime": {
     "end_time": "2023-05-07T11:32:30.757259Z",
     "start_time": "2023-05-07T11:32:30.755629Z"
    },
    "collapsed": false,
    "jupyter": {
     "outputs_hidden": false
    }
   },
   "outputs": [],
   "source": [
    "import requests\n",
    "import typesense\n",
    "typesense_url = \"http://localhost:8108\"\n",
    "typesense_api_key = \"xyz\"\n",
    "typesense_api_key_header = \"X-TYPESENSE-API-KEY\"\n",
    "\n",
    "typesense_client = typesense.Client({\n",
    "    'nodes': [{\n",
    "        'host': 'localhost',\n",
    "        'port': '8108',\n",
    "        'protocol': 'http'\n",
    "    }],\n",
    "    'api_key': 'xyz',\n",
    "    'connection_timeout_seconds': 2\n",
    "})\n",
    "\n",
    "collection_name = 'chess'\n",
    "\n",
    "measurements = []\n",
    "\n",
    "def measure_metrics():\n",
    "    measurement = requests.get(f\"{typesense_url}/metrics.json\",\n",
    "                               headers={typesense_api_key_header: typesense_api_key}).json()\n",
    "\n",
    "    measurement['system_cpu_active_percentage'] = float(measurement['system_cpu_active_percentage'])\n",
    "    measurement['system_disk_used_bytes'] = int(measurement['system_disk_used_bytes'])\n",
    "    measurement['system_memory_used_bytes'] = int(measurement['system_memory_used_bytes'])\n",
    "    measurement['system_network_received_bytes'] = int(measurement['system_network_received_bytes'])\n",
    "    measurement['system_network_sent_bytes'] = int(measurement['system_network_sent_bytes'])\n",
    "    measurement['typesense_memory_active_bytes'] = int(measurement['typesense_memory_active_bytes'])\n",
    "    measurement['typesense_memory_allocated_bytes'] = int(measurement['typesense_memory_allocated_bytes'])\n",
    "    measurement['typesense_memory_mapped_bytes'] = int(measurement['typesense_memory_mapped_bytes'])\n",
    "    measurement['typesense_memory_metadata_bytes'] = int(measurement['typesense_memory_metadata_bytes'])\n",
    "    measurement['typesense_memory_fragmentation_ratio'] = float(measurement['typesense_memory_fragmentation_ratio'])\n",
    "    measurement['typesense_memory_resident_bytes'] = int(measurement['typesense_memory_resident_bytes'])\n",
    "    measurement['typesense_memory_retained_bytes'] = int(measurement['typesense_memory_retained_bytes'])\n",
    "    measurements.append(measurement)\n",
    "    return measurement\n",
    "\n",
    "\n",
    "def subtract_measurements(m1, m2):\n",
    "    m = {'system_cpu_active_percentage': m1['system_cpu_active_percentage'] - m2['system_cpu_active_percentage'],\n",
    "         'system_disk_used_bytes': m1['system_disk_used_bytes'] - m2['system_disk_used_bytes'],\n",
    "         'system_memory_used_bytes': m1['system_memory_used_bytes'] - m2['system_memory_used_bytes'],\n",
    "         'system_network_received_bytes': m1['system_network_received_bytes'] - m2['system_network_received_bytes'],\n",
    "         'system_network_sent_bytes': m1['system_network_sent_bytes'] - m2['system_network_sent_bytes'],\n",
    "         'typesense_memory_active_bytes': m1['typesense_memory_active_bytes'] - m2['typesense_memory_active_bytes'],\n",
    "         'typesense_memory_allocated_bytes': m1['typesense_memory_allocated_bytes'] - m2[\n",
    "             'typesense_memory_allocated_bytes'],\n",
    "         'typesense_memory_mapped_bytes': m1['typesense_memory_mapped_bytes'] - m2['typesense_memory_mapped_bytes'],\n",
    "         'typesense_memory_metadata_bytes': m1['typesense_memory_metadata_bytes'] - m2[\n",
    "             'typesense_memory_metadata_bytes'],\n",
    "         'typesense_memory_fragmentation_ratio': m1['typesense_memory_fragmentation_ratio'] - m2[\n",
    "             'typesense_memory_fragmentation_ratio'],\n",
    "         'typesense_memory_resident_bytes': m1['typesense_memory_resident_bytes'] - m2[\n",
    "             'typesense_memory_resident_bytes'],\n",
    "         'typesense_memory_retained_bytes': m1['typesense_memory_retained_bytes'] - m2[\n",
    "             'typesense_memory_retained_bytes']}\n",
    "\n",
    "    return m\n",
    "\n",
    "\n",
    "def display_metrics_text(measurement):\n",
    "    print(f\"CPU:                                  {measurement['system_cpu_active_percentage']}%\")\n",
    "    print(f\"system_disk_used_bytes:               {human_size((measurement['system_disk_used_bytes']))}\")\n",
    "    print(f\"system_memory_used_bytes:             {human_size((measurement['system_memory_used_bytes']))}\")\n",
    "    print(f\"system_network_received_bytes:        {human_size((measurement['system_network_received_bytes']))}\")\n",
    "    print(f\"system_network_sent_bytes:            {human_size((measurement['system_network_sent_bytes']))}\")\n",
    "    print(f\"typesense_memory_active_bytes:        {human_size((measurement['typesense_memory_active_bytes']))}\")\n",
    "    print(f\"typesense_memory_allocated_bytes:     {human_size((measurement['typesense_memory_allocated_bytes']))}\")\n",
    "    print(f\"typesense_memory_mapped_bytes:        {human_size((measurement['typesense_memory_mapped_bytes']))}\")\n",
    "    print(f\"typesense_memory_metadata_bytes:      {human_size((measurement['typesense_memory_metadata_bytes']))}\")\n",
    "    print(f\"typesense_memory_fragmentation_ratio: {measurement['typesense_memory_fragmentation_ratio']}\")\n",
    "    print(f\"typesense_memory_resident_bytes:      {human_size((measurement['typesense_memory_resident_bytes']))}\")\n",
    "    print(f\"typesense_memory_retained_bytes:      {human_size((measurement['typesense_memory_retained_bytes']))}\")"
   ]
  },
  {
   "cell_type": "markdown",
   "metadata": {},
   "source": [
    "1. Średni czas przetwarzania zadania zawierającego 10000 dokumentów (porównanie bedzie się zaczynać na pustym indeksie)"
   ]
  },
  {
   "cell_type": "code",
   "execution_count": 86,
   "metadata": {
    "ExecuteTime": {
     "end_time": "2023-05-07T11:32:30.899984Z",
     "start_time": "2023-05-07T11:32:30.759541Z"
    },
    "collapsed": false,
    "jupyter": {
     "outputs_hidden": false
    }
   },
   "outputs": [
    {
     "name": "stdout",
     "output_type": "stream",
     "text": [
      "Re/Creating collection...\n"
     ]
    }
   ],
   "source": [
    "print(\"Re/Creating collection...\")\n",
    "schema = {\n",
    "    'name': collection_name,\n",
    "    'fields': [\n",
    "        {'name': 'link', 'type': 'string'},  # [Site \"https://lichess.org/j1dkb5dw\"]\n",
    "        {'name': 'timestamp_utc', 'type': 'int32'},  # [UTCDate \"2012.12.31\"] [UTCTime \"23:04:12\"]\n",
    "        {'name': 'event', 'type': 'string'},  # [Event \"Rated Classical game\"]\n",
    "        {'name': 'white', 'type': 'string'},  # [White \"BFG9k\"]\n",
    "        {'name': 'black', 'type': 'string'},  # [Black \"mamalak\"]\n",
    "        {'name': 'opening', 'type': 'string'},  # [Opening \"French Defense: Normal Variation\"]\n",
    "        {'name': 'termination', 'type': 'string'},  # [Termination \"Normal\"]\n",
    "        {'name': 'mainline_moves', 'type': 'string'},  # 1. e4 e6 2. d4 b6 3. a3 Bb7 4. Nc3 Nh6 5. Bxh6 gxh6 6. Be2...\n",
    "    ],\n",
    "    'default_sorting_field': 'timestamp_utc'\n",
    "}\n",
    "\n",
    "names = [x['name'] for x in typesense_client.collections.retrieve()]\n",
    "\n",
    "if collection_name in names:\n",
    "    typesense_client.collections[collection_name].delete()\n",
    "\n",
    "before = measure_metrics()"
   ]
  },
  {
   "cell_type": "code",
   "execution_count": 87,
   "metadata": {
    "ExecuteTime": {
     "end_time": "2023-05-07T11:32:36.856342Z",
     "start_time": "2023-05-07T11:32:30.903189Z"
    },
    "collapsed": false,
    "jupyter": {
     "outputs_hidden": false
    }
   },
   "outputs": [
    {
     "name": "stdout",
     "output_type": "stream",
     "text": [
      "741 ms ± 27.3 ms per loop (mean ± std. dev. of 7 runs, 1 loop each)\n"
     ]
    }
   ],
   "source": [
    "%%timeit\n",
    "\n",
    "names = [x['name'] for x in typesense_client.collections.retrieve()]\n",
    "\n",
    "if collection_name in names:\n",
    "    typesense_client.collections[collection_name].delete()\n",
    "\n",
    "typesense_client.collections.create(schema)\n",
    "\n",
    "collection = typesense_client.collections[collection_name]\n",
    "\n",
    "collection.documents.import_(games, {\n",
    "    'action': 'upsert',\n",
    "})"
   ]
  },
  {
   "cell_type": "code",
   "execution_count": 88,
   "metadata": {
    "ExecuteTime": {
     "end_time": "2023-05-07T11:32:36.976600Z",
     "start_time": "2023-05-07T11:32:36.857603Z"
    },
    "collapsed": false,
    "jupyter": {
     "outputs_hidden": false
    }
   },
   "outputs": [],
   "source": [
    "after = measure_metrics()"
   ]
  },
  {
   "cell_type": "markdown",
   "metadata": {},
   "source": [
    "2. Czas odpowiedzi na pojedyncze zapytania"
   ]
  },
  {
   "cell_type": "code",
   "execution_count": 89,
   "metadata": {
    "ExecuteTime": {
     "end_time": "2023-05-07T11:32:36.986061Z",
     "start_time": "2023-05-07T11:32:36.979176Z"
    },
    "collapsed": false,
    "jupyter": {
     "outputs_hidden": false
    }
   },
   "outputs": [
    {
     "name": "stdout",
     "output_type": "stream",
     "text": [
      "Searching for 'e4 e5 Nf3 Nc6 Bb5 a6 Ba4 Nf6 O-O Be7 Re1 b5 Bb3 O-O c3 d5'...\n"
     ]
    }
   ],
   "source": [
    "query = \"e4 e5 Nf3 Nc6 Bb5 a6 Ba4 Nf6 O-O Be7 Re1 b5 Bb3 O-O c3 d5\"\n",
    "print(\"Searching for '{}'...\".format(query))\n",
    "params = {\n",
    "    'q': query,\n",
    "    'query_by': 'mainline_moves',\n",
    "    'sort_by': 'timestamp_utc:desc',\n",
    "    'per_page': 10,\n",
    "    'page': 1,\n",
    "}"
   ]
  },
  {
   "cell_type": "code",
   "execution_count": 90,
   "metadata": {
    "ExecuteTime": {
     "end_time": "2023-05-07T11:32:41.696982Z",
     "start_time": "2023-05-07T11:32:36.988284Z"
    },
    "collapsed": false,
    "jupyter": {
     "outputs_hidden": false
    }
   },
   "outputs": [
    {
     "name": "stdout",
     "output_type": "stream",
     "text": [
      "5.73 ms ± 400 µs per loop (mean ± std. dev. of 7 runs, 100 loops each)\n"
     ]
    }
   ],
   "source": [
    "%%timeit\n",
    "results = collection.documents.search(params)"
   ]
  },
  {
   "cell_type": "markdown",
   "metadata": {},
   "source": [
    "3. Porównanie wyników wyszukiwania dla jednakowych zapytań"
   ]
  },
  {
   "cell_type": "code",
   "execution_count": 91,
   "metadata": {
    "ExecuteTime": {
     "end_time": "2023-05-07T11:32:41.700265Z",
     "start_time": "2023-05-07T11:32:41.694011Z"
    },
    "collapsed": false,
    "jupyter": {
     "outputs_hidden": false
    }
   },
   "outputs": [
    {
     "name": "stdout",
     "output_type": "stream",
     "text": [
      "german11 vs MihaSAH (Rated Blitz game)\n",
      "https://lichess.org/oiy4rj23\n",
      "1. e4 e5 2. Nf3 Nc6 3. Bb5 d6 4. h3 a6 5. Ba4 Nf6 6. d3 Be7 7. Bg5 Be6 8. O-O O-O 9. c3 b5 10. Bc2 h6 11. Bh4 Nh7 12. d4 Bxh4 13. d5 Bxd5 14. exd5 Na7 15. Qd3 f5 16. Re1 e4 17. Qd4 exf3 18. Re6 fxg2 19. Rg6 Bf6 20. Qf4 Bg5 21. Rxg5 Qxg5 22. Qf3 Rae8 23. Qg3 Nc8 24. Kxg2 Ne7 25. Qxg5 hxg5 26. Nd2 Nxd5 27. Nf3 Re2 28. Bb3 c6 29. Rd1 Kh8 30. Ng1 Rxb2 31. Nf3 Nf4+ 32. Kf1 d5 33. Ne5 a5 34. Nxc6 a4 35. Bxd5 Nxd5 36. Rxd5 Rxa2 37. Rxb5 Rc2 38. Rc5 a3 39. Nb4 Rb2 40. Ra5 Rb3 41. Nc2 Rxc3 42. Nxa3 Rc1+ 43. Kg2 Ra1 44. Nc4 Rxa5 45. Nxa5 Nf6 46. Nc6 Re8 47. Nd4 g6 48. Nf3 g4 49. hxg4 Nxg4 50. Kg3 Re2 51. Nh4 Kg7 52. f3 Nf6 53. Kf4 Kh6 54. Kg3 Nh5+ 55. Kh3 Re3 56. Kg2 Ra3 57. Kf2 Kg5 58. Ng2 f4 59. Ne1 Ra2+ 60. Kf1 Ng3+ 61. Kg1 Ra1 62. Kf2 Rxe1 63. Kxe1 Kf5 64. Kf2 g5 65. Kg2 Ne2 66. Kh3 Nd4 67. Kg2 Kg6 68. Kf2 Kh5 69. Kg2 Kh4 70. Kf2 Kh3 71. Kg1 Kg3 72. Kh1 Kxf3 73. Kg1 g4 74. Kh1 g3 75. Kg1 Kg4 76. Kh1 f3 77. Kg1 Kh3 78. Kh1 g2+ 79. Kg1 Ne2+ 80. Kf2 g1=Q+ 81. Kxf3 Qg4+ 82. Kf2 Nf4\n",
      "\n",
      "oilmanesh vs babak_afshin (Rated Blitz game)\n",
      "https://lichess.org/t4gto1it\n",
      "1. e4 e5 2. Nf3 Nc6 3. Bb5 Nf6 4. O-O Be7 5. Re1 d6 6. c3 Bg4 7. h3 Bh5 8. d3 O-O 9. Nbd2 a6 10. Ba4 h6 11. Nf1 b5 12. Bb3 Bg6 13. Ng3 Nh5 14. Nf5 Bxf5 15. exf5 Nf4 16. Bxf4 exf4 17. Bd5 Ne5 18. Bc6 Nxc6 19. d4 Qd7 20. Qd2 Qxf5 21. d5 Ne5 22. Nxe5 dxe5 23. Rad1 Bd6 24. Qe2 Rfe8 25. f3 g5 26. b3 Rad8 27. c4 bxc4 28. bxc4 Bb4 29. Rf1 e4 30. fxe4 Rxe4 31. Qc2 Rde8 32. Rb1 Bc5+ 33. Kh1 g4 34. Qd3 gxh3 35. gxh3 Qh5 36. Qf3 Qxf3+ 37. Rxf3 Re1+ 38. Rf1 Rxb1 39. Rxb1 f3 40. Rf1 f2 41. Kg2 Re1 42. a4 f5 43. h4 Kf7 44. h5 Kf6 45. a5 Kg5 46. Rxf2 Kxh5 47. Rxf5+ Kg6 48. Rf4 Kg5 49. Rf3 Rg1+ 50. Kh2 Kg4 51. Rc3 Rf1 52. Kg2 Rf2+ 53. Kh1 h5 54. d6 h4 55. dxc7 Rf8 56. Rd3 Rc8 57. Rd7 h3 58. Rg7+ Kf3 59. Kh2 Bd6+ 60. Kxh3 Rh8+ 61. Rh7 Rxh7#\n",
      "\n",
      "oilmanesh vs XRIZOLIT (Rated Blitz game)\n",
      "https://lichess.org/yg0py789\n",
      "1. e4 e5 2. Nf3 Nc6 3. Bb5 Nf6 4. O-O d6 5. Re1 Bd7 6. c3 Be7 7. h3 O-O 8. d4 exd4 9. cxd4 a6 10. Ba4 b5 11. Bb3 Na5 12. Bc2 Nc6 13. Nbd2 Re8 14. Nf1 d5 15. e5 Nh5 16. a3 g6 17. Bh6 Bf8 18. Qd2 Qe7 19. Bxf8 Qxf8 20. g4 Ng7 21. Ng3 Ne6 22. Rad1 a5 23. Qe3 a4 24. Ng5 Nxg5 25. Qxg5 Qe7 26. Qe3 Na5 27. Bd3 Nc4 28. Bxc4 bxc4 29. f4 Rab8 30. Rd2 Rb3 31. Qf2 Reb8 32. Re3 Qh4 33. Kh2 Bxg4 34. f5 gxf5 35. Rc3 Qxh3+ 36. Kg1 Rxc3 37. bxc3 Rb1+ 38. Nf1 Bf3\n",
      "\n",
      "Atomicangel vs Xmaschess (Rated Blitz game)\n",
      "https://lichess.org/0xbuo8rf\n",
      "1. e4 e5 2. Nf3 Nc6 3. Bb5 d6 4. O-O Bd7 5. c3 Nf6 6. Re1 Be7 7. d4 O-O 8. Nbd2 a6 9. Ba4 b5 10. Bb3 Re8 11. Nf1 Bg4 12. Be3 exd4 13. cxd4 Na5 14. Bc2 Nc4 15. Bc1 d5 16. e5 Ne4 17. Bxe4 dxe4 18. Rxe4 Be6 19. Ng3 Bd5 20. Rg4 Be6 21. Re4 Bd5 22. Re1 Bb4 23. Nd2 Nxd2 24. Bxd2 Bxd2 25. Qxd2 Qd7 26. b3\n",
      "\n",
      "Atomicangel vs sakrat (Rated Blitz game)\n",
      "https://lichess.org/2k0z9vwz\n",
      "1. e4 e5 2. Nf3 Nc6 3. Bb5 a6 4. Ba4 Nf6 5. O-O Be7 6. Re1 b5 7. Bb3 O-O 8. c3 d5 9. exd5 e4 10. Ng5 Bg4 11. f3 exf3 12. Nxf3 Na5 13. Bc2 Bd6 14. d4 Nxd5 15. Qd3 g6 16. Bg5 Qd7 17. Nbd2 Bf5 18. Ne4 Rfe8 19. Rad1 Nc4 20. Qf1 Nxb2 21. Rb1 Nc4 22. Nxd6 Qxd6 23. Bxf5 gxf5 24. Qd3 Qg6 25. h4 Re4 26. Ne5 Nxe5 27. dxe5 h6 28. Qxd5 Re8 29. Bf6 Qxf6 30. exf6 Rxe1+ 31. Rxe1 Rxe1+ 32. Kf2\n",
      "\n",
      "Atomicangel vs Masterstheven (Rated Blitz game)\n",
      "https://lichess.org/vjaghc9y\n",
      "1. e4 e5 2. Nf3 Nc6 3. Bb5 a6 4. Ba4 Nf6 5. O-O Be7 6. Re1 b5 7. Bb3 O-O 8. c3 d6 9. h3 Na5 10. Bc2 c5 11. d3 Nc6 12. Nbd2 Be6 13. Nf1 h6 14. g4 Qd7 15. Ng3 Rfe8 16. Nf5 Bf8 17. Kh2 d5 18. Qe2 dxe4 19. dxe4 Rad8 20. Rg1 g5 21. Nxg5 hxg5 22. Bxg5 Bg7 23. Qf3 Bxf5 24. gxf5 Kf8 25. Rg2 Ke7 26. Rgg1 Kf8 27. Rad1 Qc7 28. Rxd8 Rxd8 29. Qg3 Ne7 30. Qh4 Neg8 31. Qg3 Re8 32. h4 Qc6 33. h5 Nxh5 34. Qg4 Nhf6\n",
      "\n",
      "Atomicangel vs Masterstheven (Rated Blitz game)\n",
      "https://lichess.org/86rxo9ek\n",
      "1. e4 e5 2. Nf3 Nc6 3. Bb5 a6 4. Ba4 Nf6 5. O-O Be7 6. Re1 b5 7. Bb3 O-O 8. c3 d6 9. h3 Na5 10. Bc2 c5 11. d3 Nc6 12. Nbd2 h6 13. Nf1 Be6 14. Ng3 Re8 15. Be3 Qd7 16. Kh2 d5 17. Qd2 Bf8 18. d4 cxd4 19. cxd4 exd4 20. Nxd4 Nxd4 21. Qxd4 Rac8 22. Rac1 Bc5 23. Qd2 Bxe3 24. Rxe3 dxe4 25. Qxd7 Bxd7 26. Ree1 Bf5 27. Nxf5 Nd5 28. Bb3 Rxc1 29. Rxc1 Nf6 30. Nd6 Re7 31. Nxf7 Kh7 32. Nd6 e3 33. fxe3 Rxe3 34. Rc7 Re5 35. Bc2+ Kh8 36. Rc8+ Ng8 37. Nf7#\n",
      "\n",
      "german11 vs nilson (Rated Blitz game)\n",
      "https://lichess.org/mkt5iprk\n",
      "1. e4 e5 2. Nf3 Nc6 3. Bb5 a6 4. Ba4 Be7 5. c3 Nf6 6. d3 b5 7. Bb3 O-O 8. Bg5 d5 9. exd5 Nxd5 10. Bxe7 Ndxe7 11. O-O Bg4 12. h3 Bh5 13. Re1 Ng6 14. Re3 Nf4 15. Qd2 Bxf3 16. Rxf3 Qg5 17. Rg3 Qf5 18. Rf3 Rad8 19. Bc2 g5 20. Rg3 e4 21. d4 Qd5 22. Qxf4 h6 23. Bxe4 Qe6 24. Qf5 Qxf5 25. Bxf5 f6 26. Nd2 Rfe8 27. Re3 Rxe3 28. fxe3 Ne7 29. Be6+ Kg7 30. e4 c5 31. d5\n",
      "\n",
      "Neuronchess vs alimos (Rated Classical game)\n",
      "https://lichess.org/wjyzqti0\n",
      "1. e4 e6 2. Nc3 d5 3. d4 Nf6 4. Bb5+ c6 5. e5 Nfd7 6. Ba4 b5 7. Bb3 a6 8. a3 c5 9. Be3 cxd4 10. Bxd4 Nc6 11. Nf3 Nxd4 12. Qxd4 Bc5 13. Qd3 O-O 14. O-O Bb7 15. Rfe1 Qc7 16. Ng5 g6 17. Nf3 Rad8 18. h4 Qb6 19. Qe2 d4 20. Nd1 a5 21. h5 a4 22. Ba2 Be7 23. hxg6 fxg6 24. Qd3 Bxf3 25. gxf3 Rf5 26. c3 dxc3 27. Nxc3 Bc5 28. Ne4 Nxe5 29. Bxe6+ Kg7 30. Qc3 Bxf2+ 31. Nxf2 Qxe6 32. Ng4 Rd5 33. Qc7+ Rf7 34. Qc3 Re7 35. f4 Qxg4+ 36. Kh1 Qxf4 37. Rf1 Qe4+ 38. Kg1 Qd4+ 39. Qxd4 Rxd4 40. Rae1 Nf3+ 41. Rxf3 Rxe1+ 42. Kf2 Rc1 43. Re3 Rc2+ 44. Kf3 Rxb2 45. Re7+ Kh6 46. Ke3 Rh4 47. Kd3 Rb3+ 48. Kc2 Rh2+ 49. Kc1 Rxa3 50. Kb1 Rg3 51. Re1 b4 52. Ka1 a3 53. Kb1 b3 54. Ka1 Ra2+ 55. Kb1 Rgg2 56. Rh1+ Kg7 57. Rd1 Rgb2+ 58. Kc1 Ra1#\n",
      "\n",
      "german11 vs hamiakaz (Rated Blitz game)\n",
      "https://lichess.org/fu72fvmm\n",
      "1. e4 e5 2. Nf3 Nc6 3. Bb5 Nf6 4. d3 d6 5. h3 Bd7 6. c3 Be7 7. O-O O-O 8. Bg5 a6 9. Ba4 b5 10. Bb3 h6 11. Bh4 Na5 12. Bc2 c6 13. b3 c5 14. Nbd2 Nc6 15. Re1 d5 16. exd5 Nxd5 17. Bxe7 Qxe7 18. d4 Nxc3 19. Qc1 cxd4 20. Ne4 b4 21. Nxc3 bxc3 22. Qd1 Nb4 23. Be4 Rac8 24. Bc2 Be6 25. Nxe5 Qc5 26. Nd3 Nxd3 27. Qxd3 g6 28. Rxe6 fxe6 29. Qxg6+ Kh8 30. Qh7#\n",
      "\n"
     ]
    }
   ],
   "source": [
    "for result in results['hits']:\n",
    "    print_game(result['document'])"
   ]
  },
  {
   "cell_type": "markdown",
   "metadata": {},
   "source": [
    "4. Zużycie procesora i RAMu w momencie przetwarzania zadania zawierającego 10000 dokumentów"
   ]
  },
  {
   "cell_type": "code",
   "execution_count": 92,
   "metadata": {
    "ExecuteTime": {
     "end_time": "2023-05-07T11:32:41.704379Z",
     "start_time": "2023-05-07T11:32:41.701798Z"
    },
    "collapsed": false,
    "jupyter": {
     "outputs_hidden": false
    }
   },
   "outputs": [
    {
     "name": "stdout",
     "output_type": "stream",
     "text": [
      "BEFORE\n",
      "CPU:                                  2.44%\n",
      "system_disk_used_bytes:               158GB\n",
      "system_memory_used_bytes:             1GB\n",
      "system_network_received_bytes:        367MB\n",
      "system_network_sent_bytes:            174MB\n",
      "typesense_memory_active_bytes:        72MB\n",
      "typesense_memory_allocated_bytes:     48MB\n",
      "typesense_memory_mapped_bytes:        127MB\n",
      "typesense_memory_metadata_bytes:      20MB\n",
      "typesense_memory_fragmentation_ratio: 0.32\n",
      "typesense_memory_resident_bytes:      72MB\n",
      "typesense_memory_retained_bytes:      909MB\n",
      "\n",
      "AFTER\n",
      "CPU:                                  0.0%\n",
      "system_disk_used_bytes:               158GB\n",
      "system_memory_used_bytes:             1GB\n",
      "system_network_received_bytes:        417MB\n",
      "system_network_sent_bytes:            175MB\n",
      "typesense_memory_active_bytes:        82MB\n",
      "typesense_memory_allocated_bytes:     60MB\n",
      "typesense_memory_mapped_bytes:        325MB\n",
      "typesense_memory_metadata_bytes:      20MB\n",
      "typesense_memory_fragmentation_ratio: 0.27\n",
      "typesense_memory_resident_bytes:      82MB\n",
      "typesense_memory_retained_bytes:      711MB\n",
      "\n",
      "DIFF\n",
      "CPU:                                  -2.44%\n",
      "system_disk_used_bytes:               46MB\n",
      "system_memory_used_bytes:             178MB\n",
      "system_network_received_bytes:        50MB\n",
      "system_network_sent_bytes:            87KB\n",
      "typesense_memory_active_bytes:        10MB\n",
      "typesense_memory_allocated_bytes:     11MB\n",
      "typesense_memory_mapped_bytes:        197MB\n",
      "typesense_memory_metadata_bytes:      0 bytes\n",
      "typesense_memory_fragmentation_ratio: -0.04999999999999999\n",
      "typesense_memory_resident_bytes:      10MB\n",
      "typesense_memory_retained_bytes:      -197MB\n"
     ]
    }
   ],
   "source": [
    "print(\"BEFORE\")\n",
    "display_metrics_text(before)\n",
    "print()\n",
    "\n",
    "print(\"AFTER\")\n",
    "display_metrics_text(after)\n",
    "print()\n",
    "\n",
    "print(\"DIFF\")\n",
    "display_metrics_text(subtract_measurements(after, before))"
   ]
  },
  {
   "cell_type": "markdown",
   "metadata": {},
   "source": [
    "5. Średni czas odpowiedzi pzry wielu jednoczesnych wyszukiwaniach - analiza przeprowadzona będzie na jednej maszynie, przy użyciu jednego skryptu wysyłajacego zapytania HTTP aby zminimalizować wpływ innych czynników niz silnik"
   ]
  },
  {
   "cell_type": "code",
   "execution_count": 93,
   "metadata": {
    "ExecuteTime": {
     "end_time": "2023-05-07T11:32:52.864679Z",
     "start_time": "2023-05-07T11:32:41.713075Z"
    },
    "collapsed": false,
    "jupyter": {
     "outputs_hidden": false
    }
   },
   "outputs": [
    {
     "name": "stdout",
     "output_type": "stream",
     "text": [
      "Average time: 0.20 seconds\n"
     ]
    }
   ],
   "source": [
    "import requests\n",
    "from timeit import default_timer as timer\n",
    "from concurrent.futures import ThreadPoolExecutor\n",
    "\n",
    "def query(n):\n",
    "    start = timer()\n",
    "    collection.documents.search(params)\n",
    "    end = timer()\n",
    "    return end - start\n",
    "\n",
    "with ThreadPoolExecutor(max_workers=10000) as pool:\n",
    "    r = list(pool.map(query,range(10000)))\n",
    "    print(f\"Average time: {sum(r)/len(r):.2f} seconds\")"
   ]
  },
  {
   "cell_type": "markdown",
   "metadata": {},
   "source": [
    "6. Wzrost wielkości indeksu w zależnosci od ilości zaindeksowanch dokumentów"
   ]
  },
  {
   "cell_type": "code",
   "execution_count": 95,
   "metadata": {
    "ExecuteTime": {
     "end_time": "2023-05-07T11:33:30.473822Z",
     "start_time": "2023-05-07T11:33:28.186814Z"
    },
    "collapsed": false,
    "jupyter": {
     "outputs_hidden": false
    }
   },
   "outputs": [
    {
     "name": "stdout",
     "output_type": "stream",
     "text": [
      "Indexing batch 1...\n",
      "Indexing batch 2...\n",
      "Indexing batch 3...\n",
      "Indexing batch 4...\n",
      "Indexing batch 5...\n",
      "Indexing batch 6...\n",
      "Indexing batch 7...\n",
      "Indexing batch 8...\n",
      "Indexing batch 9...\n",
      "Indexing batch 10...\n"
     ]
    },
    {
     "data": {
      "image/png": "[encoded data removed]",
      "text/plain": [
       "<Figure size 640x480 with 1 Axes>"
      ]
     },
     "metadata": {},
     "output_type": "display_data"
    },
    {
     "data": {
      "image/png": "[encoded data removed]",
      "text/plain": [
       "<Figure size 640x480 with 1 Axes>"
      ]
     },
     "metadata": {},
     "output_type": "display_data"
    },
    {
     "data": {
      "image/png": "[encoded data removed]",
      "text/plain": [
       "<Figure size 640x480 with 1 Axes>"
      ]
     },
     "metadata": {},
     "output_type": "display_data"
    }
   ],
   "source": [
    "import matplotlib.pyplot as plt\n",
    "\n",
    "batch_size = 1000\n",
    "\n",
    "def plot(data, name):\n",
    "    x = [i for i, _ in enumerate(data)]\n",
    "    y = data\n",
    "\n",
    "    plt.xlabel(f'batch number [every {batch_size} games]')\n",
    "    plt.ylabel(name)\n",
    "    plt.scatter(x, y)\n",
    "    plt.show()\n",
    "\n",
    "\n",
    "def plot_metric(metric, name, transform=lambda x: x):\n",
    "    plot([transform(measurement[metric]) for measurement in measurements], name)\n",
    "\n",
    "measurements.clear()\n",
    "\n",
    "names = [x['name'] for x in typesense_client.collections.retrieve()]\n",
    "\n",
    "if collection_name in names:\n",
    "    typesense_client.collections[collection_name].delete()\n",
    "\n",
    "typesense_client.collections.create(schema)\n",
    "\n",
    "collection = typesense_client.collections[collection_name]\n",
    "\n",
    "measure_metrics()\n",
    "for i in range(0, len(games), batch_size):\n",
    "    print(f\"Indexing batch {i // batch_size + 1}...\")\n",
    "    collection.documents.import_(games[i:i+batch_size], {\n",
    "        'action': 'upsert',\n",
    "    })\n",
    "    measure_metrics()\n",
    "\n",
    "plot_metric(\"system_disk_used_bytes\", \"DISK MB\", lambda x: float(x) / 1024.0 / 1024.0)\n",
    "plot_metric(\"system_cpu_active_percentage\", \"CPU %\", lambda x: float(x))\n",
    "plot_metric(\"system_memory_used_bytes\", \"MEMORY MB\", lambda x: float(x) / 1024.0 / 1024.0)"
   ]
  },
  {
   "cell_type": "markdown",
   "metadata": {},
   "source": [
    "7. Porównanie wsparcia da popularnych jezyków programowania oraz próba określenia łatwości korzystania z dokumentacji i jej kompletności"
   ]
  },
  {
   "cell_type": "markdown",
   "source": [
    "# Elasticsearch"
   ],
   "metadata": {
    "collapsed": false
   }
  },
  {
   "cell_type": "code",
   "execution_count": 2,
   "outputs": [],
   "source": [
    "from IPython.core.display import Markdown\n",
    "from elasticsearch import Elasticsearch\n",
    "from elasticsearch.helpers import bulk\n",
    "import requests\n",
    "\n",
    "elasticsearch_url = \"http://localhost:9200\"\n",
    "elasticsearch_client = Elasticsearch(elasticsearch_url)\n",
    "collection_name = 'chess'\n",
    "\n",
    "def get_es_stats(description):\n",
    "    node_name = list(elasticsearch_client.nodes.stats()[\"nodes\"].keys())[0]\n",
    "    stats = elasticsearch_client.nodes.stats(node_id=node_name)[\"nodes\"][node_name]\n",
    "    measures = {}\n",
    "    measures[\"Description\"] = description\n",
    "    measures[\"CPU\"] = stats['os']['cpu']['percent']\n",
    "    measures[\"Disk used\"] = stats[\"fs\"][\"total\"][\"total_in_bytes\"] - stats[\"fs\"][\"total\"][\"free_in_bytes\"]\n",
    "    measures[\"Memory usage (total)\"] = stats[\"os\"][\"mem\"][\"used_in_bytes\"]\n",
    "    measures[\"Memory usage (jvm)\"] = stats[\"jvm\"][\"mem\"][\"heap_used_in_bytes\"] + stats[\"jvm\"][\"mem\"][\"non_heap_used_in_bytes\"]\n",
    "    measures[\"Documents\"] = stats[\"indices\"][\"docs\"][\"count\"]\n",
    "    measures[\"Store size\"] = stats[\"indices\"][\"store\"][\"size_in_bytes\"]\n",
    "    if elasticsearch_client.indices.get(index=collection_name, ignore_unavailable=True) == {}:\n",
    "        measures[f\"Index \\\"{collection_name}\\\" store size\"] = 0\n",
    "    else:\n",
    "        measures[f\"Index \\\"{collection_name}\\\" store size\"] = elasticsearch_client.indices.disk_usage(index=collection_name, run_expensive_tasks=True)[\"chess\"][\"store_size_in_bytes\"]\n",
    "    return measures\n",
    "\n",
    "def get_values_differences(d1, d2):\n",
    "    results = {}\n",
    "    if d1.keys() == d2.keys():\n",
    "        for key in d1:\n",
    "            if isinstance(d1[key], (int, float, complex)) and isinstance(d1[key], (int, float, complex)):\n",
    "                results[key] = d1[key] - d2[key]\n",
    "            else:\n",
    "                results[key] = d1[key]\n",
    "    return results\n",
    "\n",
    "def print_stats_list(stats_dictionaries):\n",
    "    units = [' bytes', 'KB', 'MB']\n",
    "    rows = [stats_dictionaries[0].keys()]\n",
    "    for dictionary in stats_dictionaries:\n",
    "        values = list(dictionary.values())\n",
    "        rows.append([values[0], f\"{values[1]}%\", f\"{ human_size(values[2], units)}\", f\"{ human_size(values[3], units)}\", f\"{ human_size(values[4], units)}\", values[5], f\"{ human_size(values[6], units)}\", f\"{human_size(values[7], units)}\"])\n",
    "    display(Markdown(make_markdown_table(rows)))"
   ],
   "metadata": {
    "collapsed": false,
    "ExecuteTime": {
     "start_time": "2023-05-08T16:16:27.671641Z",
     "end_time": "2023-05-08T16:16:27.848324Z"
    }
   }
  },
  {
   "cell_type": "markdown",
   "source": [
    "1. Średni czas przetwarzania zadania zawierającego 10000 dokumentów (porównanie bedzie się zaczynać na pustym indeksie)"
   ],
   "metadata": {
    "collapsed": false
   }
  },
  {
   "cell_type": "code",
   "execution_count": 3,
   "outputs": [
    {
     "name": "stdout",
     "output_type": "stream",
     "text": [
      "Re/Creating collection...\n"
     ]
    }
   ],
   "source": [
    "print(\"Re/Creating collection...\")\n",
    "schema = {\n",
    "    \"mappings\": {\n",
    "        \"properties\": {\n",
    "            \"link\": {\"type\": \"text\"},  # [Site \"https://lichess.org/j1dkb5dw\"]\n",
    "            \"timestamp_utc\": {\"type\": \"integer\"},  # [UTCDate \"2012.12.31\"] [UTCTime \"23:04:12\"]\n",
    "            \"event\": {\"type\": \"text\"},  # [Event \"Rated Classical game\"]\n",
    "            \"white\": {\"type\": \"text\"},  # [White \"BFG9k\"]\n",
    "            \"black\": {\"type\": \"text\"},  # [Black \"mamalak\"]\n",
    "            \"opening\": {\"type\": \"text\"},  # [Opening \"French Defense: Normal Variation\"]\n",
    "            \"termination\": {\"type\": \"text\"},  # [Termination \"Normal\"]\n",
    "            \"mainline_moves\": {\"type\": \"text\"}  # 1. e4 e6 2. d4 b6 3. a3 Bb7 4. Nc3 Nh6 5. Bxh6 gxh6 6. Be2...\n",
    "        }\n",
    "    }\n",
    "}\n",
    "elasticsearch_client.indices.delete(index=collection_name,ignore_unavailable=True)\n",
    "before = get_es_stats(\"Before\")"
   ],
   "metadata": {
    "collapsed": false,
    "ExecuteTime": {
     "start_time": "2023-05-08T16:16:27.849326Z",
     "end_time": "2023-05-08T16:16:27.892903Z"
    }
   }
  },
  {
   "cell_type": "code",
   "execution_count": 4,
   "outputs": [
    {
     "name": "stderr",
     "output_type": "stream",
     "text": [
      "<magic-timeit>:2: DeprecationWarning: The 'body' parameter is deprecated and will be removed in a future version. Instead use individual parameters.\n"
     ]
    },
    {
     "name": "stdout",
     "output_type": "stream",
     "text": [
      "1.21 s ± 42.7 ms per loop (mean ± std. dev. of 7 runs, 1 loop each)\n"
     ]
    }
   ],
   "source": [
    "%%timeit\n",
    "elasticsearch_client.indices.delete(index=collection_name,ignore_unavailable=True)\n",
    "elasticsearch_client.indices.create(index=collection_name,body=schema)\n",
    "bulk(client=elasticsearch_client, index=collection_name, actions=games)\n",
    "elasticsearch_client.indices.flush(index=collection_name)"
   ],
   "metadata": {
    "collapsed": false,
    "ExecuteTime": {
     "start_time": "2023-05-08T16:16:27.892903Z",
     "end_time": "2023-05-08T16:16:37.565169Z"
    }
   }
  },
  {
   "cell_type": "code",
   "execution_count": 5,
   "outputs": [],
   "source": [
    "after = get_es_stats(\"After\")"
   ],
   "metadata": {
    "collapsed": false,
    "ExecuteTime": {
     "start_time": "2023-05-08T16:16:37.555656Z",
     "end_time": "2023-05-08T16:16:37.577242Z"
    }
   }
  },
  {
   "cell_type": "markdown",
   "source": [
    "2. Czas odpowiedzi na pojedyncze zapytania"
   ],
   "metadata": {
    "collapsed": false
   }
  },
  {
   "cell_type": "code",
   "execution_count": 6,
   "outputs": [
    {
     "name": "stdout",
     "output_type": "stream",
     "text": [
      "Searching for 'e4 e5 Nf3 Nc6 Bb5 a6 Ba4 Nf6 O-O Be7 Re1 b5 Bb3 O-O c3 d5'...\n"
     ]
    }
   ],
   "source": [
    "query = \"e4 e5 Nf3 Nc6 Bb5 a6 Ba4 Nf6 O-O Be7 Re1 b5 Bb3 O-O c3 d5\"\n",
    "print(\"Searching for '{}'...\".format(query))\n",
    "params = {\n",
    "    \"match\": {\n",
    "        \"mainline_moves\": {\n",
    "            \"query\": query\n",
    "        }\n",
    "    }\n",
    "}"
   ],
   "metadata": {
    "collapsed": false,
    "ExecuteTime": {
     "start_time": "2023-05-08T16:16:37.578242Z",
     "end_time": "2023-05-08T16:16:37.582753Z"
    }
   }
  },
  {
   "cell_type": "code",
   "execution_count": 7,
   "outputs": [
    {
     "name": "stdout",
     "output_type": "stream",
     "text": [
      "4.43 ms ± 866 µs per loop (mean ± std. dev. of 7 runs, 100 loops each)\n"
     ]
    }
   ],
   "source": [
    "%%timeit\n",
    "results = elasticsearch_client.search(index=collection_name,query=params, sort={\"timestamp_utc\": {\"order\": \"desc\"}}, size=10)"
   ],
   "metadata": {
    "collapsed": false,
    "ExecuteTime": {
     "start_time": "2023-05-08T16:16:37.582753Z",
     "end_time": "2023-05-08T16:16:41.233355Z"
    }
   }
  },
  {
   "cell_type": "markdown",
   "source": [
    "3. Porównanie wyników wyszukiwania dla jednakowych zapytań"
   ],
   "metadata": {
    "collapsed": false
   }
  },
  {
   "cell_type": "code",
   "execution_count": 8,
   "outputs": [
    {
     "name": "stdout",
     "output_type": "stream",
     "text": [
      "ChikiPuki vs Pringao28 (Rated Bullet game)\n",
      "https://lichess.org/osugph38\n",
      "1. e4 e6 2. Bc4 b6 3. d4 Bb7 4. d5 exd5 5. exd5 Qe7+ 6. Ne2 c6 7. O-O cxd5 8. Bb5 Nc6 9. Re1 Nf6 10. Bxc6 dxc6 11. Nd4 O-O-O 12. Rxe7 Bxe7 13. Qe1 Rhe8 14. Bg5 h6 15. Bxf6 Bxf6 16. Qd2 c5 17. Nb5 Bg5 18. Qc3 d4 19. Qd2 Bxd2 20. Nxd2 Kb8 21. Na3 Ba6 22. Nac4 Bxc4 23. Nxc4 d3 24. cxd3 Rxd3 25. Ne3 Red8 26. g3 f6 27. b3 g6 28. Re1 f5 29. Nc4 Kb7 30. Nb2 Rd2 31. Nc4 Rxa2 32. h4 g5 33. Kg2 gxh4 34. gxh4 h5 35. Ne5 Rg8+ 36. Kh3 Rxf2 37. Nf7 Rfg2 38. Nh6 R8g3#\n",
      "\n",
      "CrazyBullet vs Paker (Rated Bullet game)\n",
      "https://lichess.org/rb1lnek9\n",
      "1. e3 b6 2. d3 c5 3. f3 Bb7 4. e4 d5 5. e5 f6 6. exf6 Nxf6 7. Qe2 Qd6 8. Bg5 e5 9. Bxf6 gxf6 10. Nc3 Bh6 11. Nb5 Qc6 12. a4 a6 13. Nc3\n",
      "\n",
      "pronik vs elenin012 (Rated Classical game)\n",
      "https://lichess.org/7s6f3zgm\n",
      "1. d4 d5 2. Nf3 Bf5 3. Bd2 e6 4. Nc3 Bd6 5. e3 Ne7 6. Be2 h6 7. O-O c6 8. a3 Bc7 9. h3 Qd6 10. Bd3 Bg6 11. Ne5 Nd7 12. f4 Nf5 13. Ne2 O-O 14. c4 dxc4 15. Bxc4 b5 16. Bd3 a5 17. Nxg6 fxg6 18. Bc1 Rf7 19. g4 Nh4 20. Qe1 g5 21. Qg3 Raf8 22. e4 Qe7 23. e5 Nb6 24. b3 Nd5 25. Bd2 b4 26. axb4 axb4 27. Be4 Nxf4 28. Nxf4 gxf4 29. Rxf4 Rxf4 30. Bxf4 g5 31. Be3 Qf7 32. Bxc6 Nf3+ 33. Bxf3 Qxf3 34. Qxf3 Rxf3 35. Re1 Rxh3 36. Kg2 Rh4 37. Kg3 Kg7 38. Rc1 Bd8 39. Rc8 Be7 40. Rc7 Kf7 41. Bd2 Ke8 42. Rb7 Rh1 43. Bxb4 Bxb4 44. Rxb4 Rd1 45. Kf3 Kd7 46. Rb7+ Kc6 47. Rh7 Rxd4 48. Rxh6 Kd5 49. Rg6 Kxe5 50. Rxg5+ Kf6 51. Rb5 Rd3+ 52. Ke4 Rg3 53. g5+ Kg6 54. Re5 Rxb3 55. Rxe6+ Kxg5 56. Kd5 Kf5 57. Re5+ Kf4 58. Re8 Rd3+ 59. Kc4 Re3 60. Rf8+ Kg3 61. Kd4 Re7 62. Rf6 Kg4 63. Kd5 Kg5 64. Rf1 Re2 65. Kd4 Re8 66. Kd3 Kg4 67. Rf7 Kg5 68. Kd4 Kg6 69. Rf1 Kg5 70. Kd5 Kg4 71. Kd6 Kg3 72. Kd7 Re2 73. Rf7 Kg4 74. Rg7+ Kf5 75. Rf7+ Kg6 76. Rf1 Kg5\n",
      "\n",
      "Pringao28 vs ChikiPuki (Rated Bullet game)\n",
      "https://lichess.org/exz8ufpc\n",
      "1. e4 g6 2. Nf3 Bg7 3. g3 b6 4. Bg2 Bb7 5. c3 h5 6. b3 h4 7. Bb2 h3 8. Bf1 Bxe4 9. Bc4 Bxf3 10. Qxf3 c6 11. Qxf7#\n",
      "\n",
      "ChikiPuki vs Pringao28 (Rated Bullet game)\n",
      "https://lichess.org/z0g7bdj4\n",
      "1. e4 e5 2. Bc4 g6 3. Qf3 Bg7 4. Qxf7#\n",
      "\n",
      "TwoKings vs akb (Rated Classical game)\n",
      "https://lichess.org/8041bd1i\n",
      "1. e4 e5 2. Nf3 Nc6 3. Nc3 Nf6 4. Bb5 d5 5. exd5 Nxd5 6. Bxc6+ bxc6 7. Nxd5 Qxd5 8. d3 e4 9. dxe4 Qxe4+ 10. Be3 Rb8 11. b3 Bb4+ 12. Ke2 O-O 13. Qd4 Qxc2+ 14. Nd2 Bxd2\n",
      "\n",
      "sakrat vs uxim (Rated Blitz game)\n",
      "https://lichess.org/eez7gkeg\n",
      "1. e4 e6 2. d4 h6 3. e5 d5 4. c4 dxc4 5. Bxc4 Ne7 6. Nc3 c6 7. Nge2 Nd7 8. Be3 Nb6 9. Bb3 Ned5 10. Qd2 Nxe3 11. fxe3 Be7 12. O-O-O O-O 13. g3 Nd5 14. Ne4 a5 15. h4 a4 16. Bc2 b6 17. g4 Bb4 18. Qd3 Ba6 19. Nf6+ Nxf6 20. Qxa6 Rxa6 21. exf6 Qxf6 22. Rdg1 Qf3 23. Nc3 Qxe3+ 24. Kb1 Bxc3 25. bxc3 Qxc3 26. g5 a3 27. Kc1 h5 28. g6 f6\n",
      "\n",
      "POL vs Bduff (Rated Blitz game)\n",
      "https://lichess.org/cqj2uku7\n",
      "1. e4 e5 2. f4 d6 3. Nf3 Nf6 4. Nc3 Nc6 5. Bc4 h6 6. fxe5 Nxe5 7. Nxe5 dxe5 8. O-O Bb4 9. Qf3 O-O 10. Nd5 Nxd5 11. Bxd5 Qe7 12. c3 Bd6 13. Kh1 c6 14. Bb3 Be6 15. Bc2 Bc4 16. d3 Be6 17. Qg3 Kh7 18. d4 exd4 19. e5+ f5 20. exd6 Qd7 21. cxd4 Rad8 22. Bf4 Bc4 23. Rf2 Qe6 24. Be5 Rd7 25. b3 Bd5 26. Raf1 Qg6 27. Qxg6+ Kxg6 28. Rxf5 Be6 29. Rxf8+ Kh5 30. Bd1+ Kh4 31. g3+ Kg5 32. Bxg7 Bh3 33. R1f7 Rxd6 34. Be5 Re6 35. Rg7+ Rg6 36. Rxg6+ Kxg6 37. Bc2+ Kg5\n",
      "\n",
      "Karen_Armenia vs jojolapin (Rated Blitz game)\n",
      "https://lichess.org/ltpocgsq\n",
      "1. e4 Nf6 2. Nc3 e5 3. Be2 Bb4 4. a3 Bxc3 5. dxc3 Nxe4 6. Nf3 d6 7. Bd3 Nf6 8. O-O O-O 9. Re1 Bg4 10. h3 Bxf3 11. Qxf3 c6 12. Bg5 Nbd7 13. Bf5 Qc7 14. Bxd7 Nxd7 15. h4 f6 16. Bd2 Nc5 17. b4 Ne6 18. h5 Qf7 19. h6 g6 20. g3 Ng5 21. Bxg5 fxg5 22. Qxf7+ Rxf7 23. Rad1 Rd8 24. Rxe5 Rdf8 25. Rxg5 Rxf2 26. Rxd6 Rd2 27. Rxd2\n",
      "\n",
      "CrazyBullet vs Paker (Rated Bullet game)\n",
      "https://lichess.org/s8gm273n\n",
      "1. g3 b6 2. Bg2 Nc6 3. c3 Bb7 4. b4 d5 5. b5 Na5 6. a4 e5 7. e4 d4 8. cxd4 Qxd4 9. Nc3 Bc5 10. Nge2 Qxf2#\n",
      "\n"
     ]
    }
   ],
   "source": [
    "results = elasticsearch_client.search(index=collection_name,query=params, sort={\"timestamp_utc\": {\"order\": \"desc\"}}, size=10)\n",
    "for result in results[\"hits\"][\"hits\"]:\n",
    "    print_game(result[\"_source\"])"
   ],
   "metadata": {
    "collapsed": false,
    "ExecuteTime": {
     "start_time": "2023-05-08T16:16:41.233355Z",
     "end_time": "2023-05-08T16:16:41.244544Z"
    }
   }
  },
  {
   "cell_type": "markdown",
   "source": [
    "4. Zużycie procesora i RAMu w momencie przetwarzania zadania zawierającego 10000 dokumentów"
   ],
   "metadata": {
    "collapsed": false
   }
  },
  {
   "cell_type": "code",
   "execution_count": 9,
   "outputs": [
    {
     "data": {
      "text/plain": "<IPython.core.display.Markdown object>",
      "text/markdown": "\n| Description | CPU | Disk used | Memory usage (total) | Memory usage (jvm) | Documents | Store size | Index \"chess\" store size |\n| --- | --- | --- | --- | --- | --- | --- | --- |\n| Before | 0% | 39847MB | 15460MB | 7257MB | 42 | 40MB | 0 bytes |\n| After | 6% | 39853MB | 15470MB | 1416MB | 10042 | 45MB | 5MB |\n| Difference | 6% | 5MB | 10MB | -5841MB | 10000 | 5MB | 5MB |\n"
     },
     "metadata": {},
     "output_type": "display_data"
    }
   ],
   "source": [
    "difference = get_values_differences(after, before)\n",
    "difference[\"Description\"] = \"Difference\"\n",
    "print_stats_list([before, after, difference])"
   ],
   "metadata": {
    "collapsed": false,
    "ExecuteTime": {
     "start_time": "2023-05-08T16:16:41.241385Z",
     "end_time": "2023-05-08T16:16:41.251158Z"
    }
   }
  },
  {
   "cell_type": "markdown",
   "source": [
    "5. Średni czas odpowiedzi pzry wielu jednoczesnych wyszukiwaniach - analiza przeprowadzona będzie na jednej maszynie, przy użyciu jednego skryptu wysyłajacego zapytania HTTP aby zminimalizować wpływ innych czynników niz silnik"
   ],
   "metadata": {
    "collapsed": false
   }
  },
  {
   "cell_type": "code",
   "execution_count": 10,
   "outputs": [
    {
     "name": "stdout",
     "output_type": "stream",
     "text": [
      "Average time: 2.77 seconds\n"
     ]
    }
   ],
   "source": [
    "from timeit import default_timer as timer\n",
    "from concurrent.futures import ThreadPoolExecutor\n",
    "\n",
    "def query(n):\n",
    "    start = timer()\n",
    "    elasticsearch_client.search(index=collection_name,query=params, sort={\"timestamp_utc\": {\"order\": \"desc\"}}, size=10)\n",
    "    end = timer()\n",
    "    return end - start\n",
    "\n",
    "with ThreadPoolExecutor(max_workers=10000) as pool:\n",
    "    r = list(pool.map(query,range(10000)))\n",
    "    print(f\"Average time: {sum(r)/len(r):.2f} seconds\")"
   ],
   "metadata": {
    "collapsed": false,
    "ExecuteTime": {
     "start_time": "2023-05-08T16:16:41.251158Z",
     "end_time": "2023-05-08T16:16:52.373544Z"
    }
   }
  },
  {
   "cell_type": "markdown",
   "source": [
    "6. Wzrost wielkości indeksu w zależnosci od ilości zaindeksowanch dokumentów"
   ],
   "metadata": {
    "collapsed": false
   }
  },
  {
   "cell_type": "code",
   "execution_count": 11,
   "outputs": [
    {
     "name": "stderr",
     "output_type": "stream",
     "text": [
      "C:\\Users\\kbaci\\AppData\\Local\\Temp\\ipykernel_38128\\594039527.py:19: DeprecationWarning: The 'body' parameter is deprecated and will be removed in a future version. Instead use individual parameters.\n",
      "  elasticsearch_client.indices.create(index=collection_name,body=schema)\n"
     ]
    },
    {
     "name": "stdout",
     "output_type": "stream",
     "text": [
      "Indexing batch 1...\n",
      "Indexing batch 2...\n",
      "Indexing batch 3...\n",
      "Indexing batch 4...\n",
      "Indexing batch 5...\n",
      "Indexing batch 6...\n",
      "Indexing batch 7...\n",
      "Indexing batch 8...\n",
      "Indexing batch 9...\n",
      "Indexing batch 10...\n"
     ]
    },
    {
     "data": {
      "text/plain": "<Figure size 640x480 with 1 Axes>",
      "image/png": "[encoded data removed]"
     },
     "metadata": {},
     "output_type": "display_data"
    },
    {
     "data": {
      "text/plain": "<Figure size 640x480 with 1 Axes>",
      "image/png": "[encoded data removed]"
     },
     "metadata": {},
     "output_type": "display_data"
    },
    {
     "data": {
      "text/plain": "<Figure size 640x480 with 1 Axes>",
      "image/png": "[encoded data removed]"
     },
     "metadata": {},
     "output_type": "display_data"
    },
    {
     "data": {
      "text/plain": "<Figure size 640x480 with 1 Axes>",
      "image/png": "[encoded data removed]"
     },
     "metadata": {},
     "output_type": "display_data"
    },
    {
     "data": {
      "text/plain": "<Figure size 640x480 with 1 Axes>",
      "image/png": "[encoded data removed]"
     },
     "metadata": {},
     "output_type": "display_data"
    }
   ],
   "source": [
    "import matplotlib.pyplot as plt\n",
    "\n",
    "batch_size = 1000\n",
    "\n",
    "def plot(data, name):\n",
    "    x = [i for i, _ in enumerate(data)]\n",
    "    y = data\n",
    "\n",
    "    plt.xlabel(f'batch number [every {batch_size} games]')\n",
    "    plt.ylabel(name)\n",
    "    plt.scatter(x, y)\n",
    "    plt.show()\n",
    "\n",
    "\n",
    "def plot_metric(metric, name, transform=lambda x: x):\n",
    "    plot([transform(measurement[metric]) for measurement in measurements], name)\n",
    "\n",
    "elasticsearch_client.indices.delete(index=collection_name,ignore_unavailable=True)\n",
    "elasticsearch_client.indices.create(index=collection_name,body=schema)\n",
    "\n",
    "measurements = [get_es_stats(\"before\")]\n",
    "\n",
    "for i in range(0, len(games), batch_size):\n",
    "    print(f\"Indexing batch {i // batch_size + 1}...\")\n",
    "    bulk(client=elasticsearch_client, index=collection_name, actions=games[i:i+batch_size])\n",
    "    measurements.append(get_es_stats(f\"after {i // batch_size + 1} batch\"))\n",
    "\n",
    "plot_metric(\"CPU\", \"CPU %\", lambda x: float(x))\n",
    "plot_metric(\"Memory usage (jvm)\", \"Memory usage (jvm) [MB]\", lambda x: float(x) / 1024.0 / 1024.0)\n",
    "plot_metric(\"Disk used\", \"Disk used MB\", lambda x: float(x) / 1024.0 / 1024.0)\n",
    "plot_metric(\"Store size\", \"Store size [MB]\", lambda x: x / 1024.0 / 1024.0)\n",
    "plot_metric(f\"Index \\\"{collection_name}\\\" store size\", f\"Index \\\"{collection_name}\\\" store size [MB]\", lambda x: x / 1024.0 / 1024.0)"
   ],
   "metadata": {
    "collapsed": false,
    "ExecuteTime": {
     "start_time": "2023-05-08T16:16:52.377546Z",
     "end_time": "2023-05-08T16:16:54.918942Z"
    }
   }
  },
  {
   "cell_type": "code",
   "execution_count": null,
   "outputs": [],
   "source": [],
   "metadata": {
    "collapsed": false
   }
  }
 ],
 "metadata": {
  "kernelspec": {
   "display_name": "Python 3 (ipykernel)",
   "language": "python",
   "name": "python3"
  },
  "language_info": {
   "codemirror_mode": {
    "name": "ipython",
    "version": 3
   },
   "file_extension": ".py",
   "mimetype": "text/x-python",
   "name": "python",
   "nbconvert_exporter": "python",
   "pygments_lexer": "ipython3",
   "version": "3.11.2"
  }
 },
 "nbformat": 4,
 "nbformat_minor": 4
}
